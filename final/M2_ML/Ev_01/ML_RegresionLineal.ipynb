{
  "cells": [
    {
      "cell_type": "markdown",
      "metadata": {
        "id": "Val72dtpjzXK"
      },
      "source": [
        "# Implementación de una técnica de aprendizaje máquina sin el uso de un framework.\n",
        "\n",
        "Frida Cano Falcón - A01752953\n",
        "\n",
        "Para esta implementación se busca utilizar el modelo de regresión lineal que ayude a relacionar dos variables."
      ]
    },
    {
      "cell_type": "markdown",
      "metadata": {
        "id": "E8pnFeO8j3su"
      },
      "source": [
        "## Extracción de datos"
      ]
    },
    {
      "cell_type": "code",
      "execution_count": null,
      "metadata": {
        "colab": {
          "base_uri": "https://localhost:8080/"
        },
        "id": "MOJmsKxmkAMy",
        "outputId": "3e792462-2ddd-42b0-814b-4d9229e4cded"
      },
      "outputs": [],
      "source": [
        "from google.colab import drive\n",
        "drive.mount('/content/drive')\n",
        "%cd \"/content/drive/MyDrive/7mo Semestre/Machine Learning\"\n",
        "!ls"
      ]
    },
    {
      "cell_type": "code",
      "execution_count": 58,
      "metadata": {
        "id": "EHd5j-YW5q_z"
      },
      "outputs": [],
      "source": [
        "import matplotlib.pyplot as plt\n",
        "import numpy as np\n",
        "import pandas as pd\n",
        "from sklearn.linear_model import LinearRegression, SGDRegressor\n",
        "from sklearn.model_selection import train_test_split\n",
        "\n",
        "from sklearn.metrics import mean_absolute_error, mean_squared_error, r2_score"
      ]
    },
    {
      "cell_type": "markdown",
      "metadata": {
        "id": "ZzpERrVEk7ur"
      },
      "source": [
        "Se busca predecir la relación entre los Proanthocyanis con el color del vino"
      ]
    },
    {
      "cell_type": "markdown",
      "metadata": {
        "id": "t3TrqLifD8le"
      },
      "source": [
        "## Antes de empezar\n",
        "Lo primero que debemos hacer es cargar los datos (listas) y los valores iniciales de los hiper-parámetros. Para ello, debemos:"
      ]
    },
    {
      "cell_type": "code",
      "execution_count": 59,
      "metadata": {
        "colab": {
          "base_uri": "https://localhost:8080/",
          "height": 226
        },
        "id": "LTZXbaBREZ1i",
        "outputId": "acb7be70-3a62-4ca7-841b-ac5a0a6aaa36"
      },
      "outputs": [
        {
          "data": {
            "text/html": [
              "<div>\n",
              "<style scoped>\n",
              "    .dataframe tbody tr th:only-of-type {\n",
              "        vertical-align: middle;\n",
              "    }\n",
              "\n",
              "    .dataframe tbody tr th {\n",
              "        vertical-align: top;\n",
              "    }\n",
              "\n",
              "    .dataframe thead th {\n",
              "        text-align: right;\n",
              "    }\n",
              "</style>\n",
              "<table border=\"1\" class=\"dataframe\">\n",
              "  <thead>\n",
              "    <tr style=\"text-align: right;\">\n",
              "      <th></th>\n",
              "      <th>alcohol</th>\n",
              "      <th>malicAcid</th>\n",
              "      <th>Ash</th>\n",
              "      <th>AlcalinityOfAsh</th>\n",
              "      <th>Magnesium</th>\n",
              "      <th>TotalPhenols</th>\n",
              "      <th>Flavanoids</th>\n",
              "      <th>NonflavanoidPhenols</th>\n",
              "      <th>Proanthocyanis</th>\n",
              "      <th>ColorIntensity</th>\n",
              "      <th>Hue</th>\n",
              "      <th>od280/od315</th>\n",
              "      <th>Proline</th>\n",
              "    </tr>\n",
              "  </thead>\n",
              "  <tbody>\n",
              "    <tr>\n",
              "      <th>1</th>\n",
              "      <td>14.23</td>\n",
              "      <td>1.71</td>\n",
              "      <td>2.43</td>\n",
              "      <td>15.6</td>\n",
              "      <td>127</td>\n",
              "      <td>2.80</td>\n",
              "      <td>3.06</td>\n",
              "      <td>0.28</td>\n",
              "      <td>2.29</td>\n",
              "      <td>5.64</td>\n",
              "      <td>1.04</td>\n",
              "      <td>3.92</td>\n",
              "      <td>1065</td>\n",
              "    </tr>\n",
              "    <tr>\n",
              "      <th>1</th>\n",
              "      <td>13.20</td>\n",
              "      <td>1.78</td>\n",
              "      <td>2.14</td>\n",
              "      <td>11.2</td>\n",
              "      <td>100</td>\n",
              "      <td>2.65</td>\n",
              "      <td>2.76</td>\n",
              "      <td>0.26</td>\n",
              "      <td>1.28</td>\n",
              "      <td>4.38</td>\n",
              "      <td>1.05</td>\n",
              "      <td>3.40</td>\n",
              "      <td>1050</td>\n",
              "    </tr>\n",
              "    <tr>\n",
              "      <th>1</th>\n",
              "      <td>13.16</td>\n",
              "      <td>2.36</td>\n",
              "      <td>2.67</td>\n",
              "      <td>18.6</td>\n",
              "      <td>101</td>\n",
              "      <td>2.80</td>\n",
              "      <td>3.24</td>\n",
              "      <td>0.30</td>\n",
              "      <td>2.81</td>\n",
              "      <td>5.68</td>\n",
              "      <td>1.03</td>\n",
              "      <td>3.17</td>\n",
              "      <td>1185</td>\n",
              "    </tr>\n",
              "    <tr>\n",
              "      <th>1</th>\n",
              "      <td>14.37</td>\n",
              "      <td>1.95</td>\n",
              "      <td>2.50</td>\n",
              "      <td>16.8</td>\n",
              "      <td>113</td>\n",
              "      <td>3.85</td>\n",
              "      <td>3.49</td>\n",
              "      <td>0.24</td>\n",
              "      <td>2.18</td>\n",
              "      <td>7.80</td>\n",
              "      <td>0.86</td>\n",
              "      <td>3.45</td>\n",
              "      <td>1480</td>\n",
              "    </tr>\n",
              "    <tr>\n",
              "      <th>1</th>\n",
              "      <td>13.24</td>\n",
              "      <td>2.59</td>\n",
              "      <td>2.87</td>\n",
              "      <td>21.0</td>\n",
              "      <td>118</td>\n",
              "      <td>2.80</td>\n",
              "      <td>2.69</td>\n",
              "      <td>0.39</td>\n",
              "      <td>1.82</td>\n",
              "      <td>4.32</td>\n",
              "      <td>1.04</td>\n",
              "      <td>2.93</td>\n",
              "      <td>735</td>\n",
              "    </tr>\n",
              "  </tbody>\n",
              "</table>\n",
              "</div>"
            ],
            "text/plain": [
              "   alcohol  malicAcid   Ash  AlcalinityOfAsh  Magnesium  TotalPhenols  \\\n",
              "1    14.23       1.71  2.43             15.6        127          2.80   \n",
              "1    13.20       1.78  2.14             11.2        100          2.65   \n",
              "1    13.16       2.36  2.67             18.6        101          2.80   \n",
              "1    14.37       1.95  2.50             16.8        113          3.85   \n",
              "1    13.24       2.59  2.87             21.0        118          2.80   \n",
              "\n",
              "   Flavanoids  NonflavanoidPhenols  Proanthocyanis  ColorIntensity   Hue  \\\n",
              "1        3.06                 0.28            2.29            5.64  1.04   \n",
              "1        2.76                 0.26            1.28            4.38  1.05   \n",
              "1        3.24                 0.30            2.81            5.68  1.03   \n",
              "1        3.49                 0.24            2.18            7.80  0.86   \n",
              "1        2.69                 0.39            1.82            4.32  1.04   \n",
              "\n",
              "   od280/od315  Proline  \n",
              "1         3.92     1065  \n",
              "1         3.40     1050  \n",
              "1         3.17     1185  \n",
              "1         3.45     1480  \n",
              "1         2.93      735  "
            ]
          },
          "execution_count": 59,
          "metadata": {},
          "output_type": "execute_result"
        }
      ],
      "source": [
        "# columns has the name of each column.\n",
        "columns = [\"alcohol\",\"malicAcid\",\"Ash\",\"AlcalinityOfAsh\", \"Magnesium\",\"TotalPhenols\",\"Flavanoids\",\"NonflavanoidPhenols\",\"Proanthocyanis\",\"ColorIntensity\",\"Hue\",\"od280/od315\",\"Proline\"]\n",
        "df = pd.read_csv('wine.data',names = columns)\n",
        "df.head()"
      ]
    },
    {
      "cell_type": "code",
      "execution_count": 76,
      "metadata": {},
      "outputs": [
        {
          "name": "stdout",
          "output_type": "stream",
          "text": [
            "<class 'pandas.core.frame.DataFrame'>\n",
            "Int64Index: 178 entries, 1 to 3\n",
            "Data columns (total 13 columns):\n",
            " #   Column               Non-Null Count  Dtype  \n",
            "---  ------               --------------  -----  \n",
            " 0   alcohol              178 non-null    float64\n",
            " 1   malicAcid            178 non-null    float64\n",
            " 2   Ash                  178 non-null    float64\n",
            " 3   AlcalinityOfAsh      178 non-null    float64\n",
            " 4   Magnesium            178 non-null    int64  \n",
            " 5   TotalPhenols         178 non-null    float64\n",
            " 6   Flavanoids           178 non-null    float64\n",
            " 7   NonflavanoidPhenols  178 non-null    float64\n",
            " 8   Proanthocyanis       178 non-null    float64\n",
            " 9   ColorIntensity       178 non-null    float64\n",
            " 10  Hue                  178 non-null    float64\n",
            " 11  od280/od315          178 non-null    float64\n",
            " 12  Proline              178 non-null    int64  \n",
            "dtypes: float64(11), int64(2)\n",
            "memory usage: 19.5 KB\n"
          ]
        }
      ],
      "source": [
        "df.info()"
      ]
    },
    {
      "cell_type": "markdown",
      "metadata": {},
      "source": [
        "Búsqueda de valores nulos"
      ]
    },
    {
      "cell_type": "code",
      "execution_count": 73,
      "metadata": {},
      "outputs": [
        {
          "data": {
            "text/plain": [
              "alcohol                0\n",
              "malicAcid              0\n",
              "Ash                    0\n",
              "AlcalinityOfAsh        0\n",
              "Magnesium              0\n",
              "TotalPhenols           0\n",
              "Flavanoids             0\n",
              "NonflavanoidPhenols    0\n",
              "Proanthocyanis         0\n",
              "ColorIntensity         0\n",
              "Hue                    0\n",
              "od280/od315            0\n",
              "Proline                0\n",
              "dtype: int64"
            ]
          },
          "execution_count": 73,
          "metadata": {},
          "output_type": "execute_result"
        }
      ],
      "source": [
        "df.isnull().sum()"
      ]
    },
    {
      "cell_type": "code",
      "execution_count": 60,
      "metadata": {
        "id": "dNczFB5VmcV8"
      },
      "outputs": [],
      "source": [
        "# Variable independiente - Proanthocyanis\n",
        "x_data = df[\"malicAcid\"]\n",
        "# Variable dependiente - Color Intensity\n",
        "y_data = df[\"ColorIntensity\"]"
      ]
    },
    {
      "cell_type": "markdown",
      "metadata": {
        "id": "AzqdLPDy1E8E"
      },
      "source": [
        "Se grafica la distribución de los datos"
      ]
    },
    {
      "cell_type": "code",
      "execution_count": 75,
      "metadata": {
        "colab": {
          "base_uri": "https://localhost:8080/",
          "height": 472
        },
        "id": "tKZEjLkvn9oz",
        "outputId": "d6312fb1-dd96-47fe-e96f-6d38ea9816b1"
      },
      "outputs": [
        {
          "data": {
            "image/png": "[encoded data removed]",
            "text/plain": [
              "<Figure size 640x480 with 1 Axes>"
            ]
          },
          "metadata": {},
          "output_type": "display_data"
        }
      ],
      "source": [
        "plt.plot(x_data,y_data,'.',color='r')\n",
        "plt.grid()\n",
        "plt.xlabel('malicAcid')\n",
        "plt.ylabel('ColorIntensity')\n",
        "plt.title('Color vs. malicAcid')\n",
        "plt.show()"
      ]
    },
    {
      "cell_type": "markdown",
      "metadata": {
        "id": "FLEXbQu9p_Rz"
      },
      "source": [
        "En cada iteración debemos calcular el valor de la derivada de la función de costo, que se obtiene a partir de los datos estimados, $h_\\theta(x_i)$, y reales, $y_i$:\n",
        "\n",
        "$\\frac{∂J_{θ}}{∂θ_0} = \\frac{1}{n}\\sum_{i=1}^{n}(h_θ(x_i)-y_i)$\n",
        "\n",
        "$\\frac{∂J_{θ}}{∂θ_1} = \\frac{1}{n}\\sum_{i=1}^{n}(h_θ(x_i)-y_i)x_i$"
      ]
    },
    {
      "cell_type": "markdown",
      "metadata": {
        "id": "Xoq5lXH9xd6I"
      },
      "source": [
        "## Pruebas\n",
        "Realizaremos distintas pruebas para aproximar la ecuación de regresión lineal que mejor se ajuste a la distribución de datos, modificando las variables:\n",
        "\n",
        "\n",
        "*   Θ (theta 0 y 1)\n",
        "*   α (alpha)\n",
        "*   Número de iteraciones\n",
        "\n",
        "\n"
      ]
    },
    {
      "cell_type": "markdown",
      "metadata": {
        "id": "P94AAOpeyW_U"
      },
      "source": [
        "### Prueba 1\n",
        "\n",
        "\n",
        "*   Θ0 = 1\n",
        "*   Θ1 = 1\n",
        "*   α = 0.20\n",
        "*   it = 25"
      ]
    },
    {
      "cell_type": "code",
      "execution_count": null,
      "metadata": {
        "id": "-pUt0bfWydnI"
      },
      "outputs": [],
      "source": [
        "# Crear lista con los hiper-parámetros iniciales (thetas)\n",
        "theta = [1,1]\n",
        "# Cargar el valor del learning rate (alpha)\n",
        "alpha = 0.20\n",
        "# Crear función lambda para la función de hipótesis\n",
        "h = lambda x, theta: theta[0] + theta[1]*x\n",
        "# Calcular el total de muestras a partir de los datos (n)\n",
        "n = len(x_data)\n",
        "# Número de iteraciones\n",
        "it = 25"
      ]
    },
    {
      "cell_type": "code",
      "execution_count": null,
      "metadata": {
        "colab": {
          "base_uri": "https://localhost:8080/"
        },
        "id": "u4DeeYBFykJh",
        "outputId": "1ca0e0a8-4b31-4fb7-bf9d-bbfc7c310412"
      },
      "outputs": [],
      "source": [
        "delta =[]\n",
        "delta_2 = []\n",
        "predic = []\n",
        "data = []\n",
        "for i in range(it):\n",
        "  predic = []\n",
        "  for xi, yi in zip(x_data,y_data):\n",
        "    pred = h(xi, theta)\n",
        "    delta.append(pred-yi)        # Calcular delta para theta0 y para cada muestra\n",
        "    delta_2.append((pred-yi)*xi) # Calcular delta para theta1 y para cada muestra\n",
        "    predic.append(pred)\n",
        "\n",
        "  # Calcular sumatorias y promedio\n",
        "  dJt0 = (1/n) * sum(delta)\n",
        "  dJt1 = (1/n) * sum(delta_2)\n",
        "\n",
        "  # Actualizar theta0\n",
        "  theta[0] = theta[0] - alpha * dJt0;\n",
        "  # Actualizar theta1\n",
        "  theta[1] = theta[1] - alpha * dJt1;\n",
        "  data.append(predic)\n",
        "\n",
        "print(dJt0)\n",
        "print(dJt1)"
      ]
    },
    {
      "cell_type": "code",
      "execution_count": null,
      "metadata": {
        "colab": {
          "base_uri": "https://localhost:8080/",
          "height": 472
        },
        "id": "dztfyJ_AymVN",
        "outputId": "0959d480-2be5-45da-82fe-1a180c3b4a71"
      },
      "outputs": [],
      "source": [
        "plt.scatter(x_data,y_data)\n",
        "plt.plot(x_data,data[len(data)-1],'r')\n",
        "plt.grid()\n",
        "plt.xlabel('Proanthocyanis')\n",
        "plt.ylabel('ColorIntensity')\n",
        "plt.title('Relación')\n",
        "plt.show()"
      ]
    },
    {
      "cell_type": "markdown",
      "metadata": {
        "id": "_l7BTB9IyzRv"
      },
      "source": [
        "### Prueba 2\n",
        "\n",
        "*   Θ0 = 1\n",
        "*   Θ1 = 1\n",
        "*   α = 0.4\n",
        "*   it = 25"
      ]
    },
    {
      "cell_type": "code",
      "execution_count": null,
      "metadata": {
        "id": "rGiZlm_qy6ug"
      },
      "outputs": [],
      "source": [
        "# Crear lista con los hiper-parámetros iniciales (thetas)\n",
        "theta = [1,1]\n",
        "# Cargar el valor del learning rate (alpha)\n",
        "alpha = 0.4"
      ]
    },
    {
      "cell_type": "code",
      "execution_count": null,
      "metadata": {
        "id": "QXIv0bVfy9SA"
      },
      "outputs": [],
      "source": [
        "# Crear función lambda para la función de hipótesis\n",
        "h = lambda x, theta: theta[0] + theta[1]*x\n",
        "# Calcular el total de muestras a partir de los datos (n)\n",
        "n = len(x_data)\n",
        "# Número de iteraciones\n",
        "it = 25"
      ]
    },
    {
      "cell_type": "code",
      "execution_count": null,
      "metadata": {
        "colab": {
          "base_uri": "https://localhost:8080/"
        },
        "id": "Fu4TbfV-y_uo",
        "outputId": "c4e5d973-f389-4b83-c962-e7fa466e0354"
      },
      "outputs": [],
      "source": [
        "delta =[]\n",
        "delta_2 = []\n",
        "predic = []\n",
        "data = []\n",
        "for i in range(it):\n",
        "  predic = []\n",
        "  for xi, yi in zip(x_data,y_data):\n",
        "    pred = h(xi, theta)\n",
        "    delta.append(pred-yi)        # Calcular delta para theta0 y para cada muestra\n",
        "    delta_2.append((pred-yi)*xi) # Calcular delta para theta1 y para cada muestra\n",
        "    predic.append(pred)\n",
        "\n",
        "  # Calcular sumatorias y promedio\n",
        "  dJt0 = (1/n) * sum(delta)\n",
        "  dJt1 = (1/n) * sum(delta_2)\n",
        "\n",
        "  # Actualizar theta0\n",
        "  theta[0] = theta[0] - alpha * dJt0;\n",
        "  # Actualizar theta1\n",
        "  theta[1] = theta[1] - alpha * dJt1;\n",
        "  data.append(predic)\n",
        "\n",
        "print(dJt0)\n",
        "print(dJt1)"
      ]
    },
    {
      "cell_type": "code",
      "execution_count": null,
      "metadata": {
        "colab": {
          "base_uri": "https://localhost:8080/",
          "height": 472
        },
        "id": "WtbbJK9YzFZH",
        "outputId": "738ff042-96df-4a30-ce66-3999a68eabd7"
      },
      "outputs": [],
      "source": [
        "plt.scatter(x_data,y_data)\n",
        "plt.plot(x_data,data[len(data)-1],'r')\n",
        "plt.grid()\n",
        "plt.xlabel('Proanthocyanis')\n",
        "plt.ylabel('ColorIntensity')\n",
        "plt.title('Relacion')\n",
        "plt.show()"
      ]
    },
    {
      "cell_type": "markdown",
      "metadata": {
        "id": "Ctw4EcwvxtMM"
      },
      "source": [
        "### Prueba 3\n",
        "\n",
        "\n",
        "*   Θ0 = 1\n",
        "*   Θ1 = 1\n",
        "*   α = 0.40\n",
        "*   it = 20\n",
        "\n",
        "\n"
      ]
    },
    {
      "cell_type": "code",
      "execution_count": null,
      "metadata": {
        "colab": {
          "base_uri": "https://localhost:8080/"
        },
        "id": "c3qHfcHo4ROF",
        "outputId": "88791479-3e6d-4577-d3fd-3fbc15c66732"
      },
      "outputs": [],
      "source": [
        "# Crear lista con los hiper-parámetros iniciales (thetas)\n",
        "theta = [1,1]\n",
        "# Cargar el valor del learning rate (alpha)\n",
        "alpha = 0.4\n",
        "\n",
        "# Crear función lambda para la función de hipótesis\n",
        "h = lambda x, theta: theta[0] + theta[1]*x\n",
        "# Calcular el total de muestras a partir de los datos (n)\n",
        "n = len(x_data)\n",
        "# Número de iteraciones\n",
        "it = 20\n",
        "\n",
        "\n",
        "delta =[]\n",
        "delta_2 = []\n",
        "predic = []\n",
        "data = []\n",
        "for i in range(it):\n",
        "  predic = []\n",
        "  for xi, yi in zip(x_data,y_data):\n",
        "    pred = h(xi, theta)\n",
        "    delta.append(pred-yi)        # Calcular delta para theta0 y para cada muestra\n",
        "    delta_2.append((pred-yi)*xi) # Calcular delta para theta1 y para cada muestra\n",
        "    predic.append(pred)\n",
        "\n",
        "  # Calcular sumatorias y promedio\n",
        "  dJt0 = (1/n) * sum(delta)\n",
        "  dJt1 = (1/n) * sum(delta_2)\n",
        "\n",
        "  # Actualizar theta0\n",
        "  theta[0] = theta[0] - alpha * dJt0;\n",
        "  # Actualizar theta1\n",
        "  theta[1] = theta[1] - alpha * dJt1;\n",
        "  data.append(predic)\n",
        "\n",
        "print(dJt0)\n",
        "print(dJt1)"
      ]
    },
    {
      "cell_type": "markdown",
      "metadata": {
        "id": "LOqu-pkzA_BK"
      },
      "source": [
        "Graficar"
      ]
    },
    {
      "cell_type": "code",
      "execution_count": null,
      "metadata": {
        "colab": {
          "base_uri": "https://localhost:8080/",
          "height": 472
        },
        "id": "aBVJ93zM5xFr",
        "outputId": "d88f7c24-372f-4970-c9e7-27c678e3d739"
      },
      "outputs": [],
      "source": [
        "plt.scatter(x_data,y_data)\n",
        "plt.plot(x_data,data[len(data)-1],'r')\n",
        "plt.grid()\n",
        "plt.xlabel('Proanthocyanis')\n",
        "plt.ylabel('ColorIntensity')\n",
        "plt.title('Relacion')\n",
        "plt.show()"
      ]
    },
    {
      "cell_type": "markdown",
      "metadata": {
        "id": "PJGoMSqu0sCR"
      },
      "source": [
        "### Prueba Final\n",
        "\n",
        "*   Θ0 = 1\n",
        "*   Θ1 = 1\n",
        "*   α = 0.45\n",
        "*   it = 20"
      ]
    },
    {
      "cell_type": "code",
      "execution_count": null,
      "metadata": {
        "colab": {
          "base_uri": "https://localhost:8080/"
        },
        "id": "rLgVnTkF02UB",
        "outputId": "ce056118-64c2-4465-8a68-febc01251834"
      },
      "outputs": [],
      "source": [
        "# Crear lista con los hiper-parámetros iniciales (thetas)\n",
        "theta = [1,1]\n",
        "# Cargar el valor del learning rate (alpha)\n",
        "alpha = 0.45\n",
        "\n",
        "# Crear función lambda para la función de hipótesis\n",
        "h = lambda x, theta: theta[0] + theta[1]*x\n",
        "# Calcular el total de muestras a partir de los datos (n)\n",
        "n = len(x_data)\n",
        "# Número de iteraciones\n",
        "it = 20\n",
        "\n",
        "\n",
        "delta =[]\n",
        "delta_2 = []\n",
        "predic = []\n",
        "data = []\n",
        "for i in range(it):\n",
        "  predic = []\n",
        "  for xi, yi in zip(x_data,y_data):\n",
        "    pred = h(xi, theta)\n",
        "    delta.append(pred-yi)        # Calcular delta para theta0 y para cada muestra\n",
        "    delta_2.append((pred-yi)*xi) # Calcular delta para theta1 y para cada muestra\n",
        "    predic.append(pred)\n",
        "\n",
        "  # Calcular sumatorias y promedio\n",
        "  dJt0 = (1/n) * sum(delta)\n",
        "  dJt1 = (1/n) * sum(delta_2)\n",
        "\n",
        "  # Actualizar theta0\n",
        "  theta[0] = theta[0] - alpha * dJt0;\n",
        "  # Actualizar theta1\n",
        "  theta[1] = theta[1] - alpha * dJt1;\n",
        "  data.append(predic)\n",
        "\n",
        "print(dJt0)\n",
        "print(dJt1)"
      ]
    },
    {
      "cell_type": "code",
      "execution_count": null,
      "metadata": {
        "colab": {
          "base_uri": "https://localhost:8080/",
          "height": 472
        },
        "id": "-3_-ih0Z04Tj",
        "outputId": "6d2b4fcb-c7e8-4835-91e5-968ac7e6ecf1"
      },
      "outputs": [],
      "source": [
        "plt.scatter(x_data,y_data)\n",
        "plt.plot(x_data,data[len(data)-1],'r')\n",
        "plt.grid()\n",
        "plt.xlabel('Proanthocyanis')\n",
        "plt.ylabel('ColorIntensity')\n",
        "plt.title('Relacion')\n",
        "plt.show()"
      ]
    },
    {
      "cell_type": "markdown",
      "metadata": {},
      "source": [
        "### Entrenamiento de modelo con data set dividido"
      ]
    },
    {
      "cell_type": "code",
      "execution_count": 78,
      "metadata": {},
      "outputs": [],
      "source": [
        "# Dividir los datos en conjuntos de entrenamiento y prueba\n",
        "X_train, X_test, y_train, y_test = train_test_split(x_data, y_data, test_size=0.2, random_state=42)\n"
      ]
    },
    {
      "cell_type": "code",
      "execution_count": 81,
      "metadata": {},
      "outputs": [
        {
          "data": {
            "text/plain": [
              "count    142.000000\n",
              "mean       2.373521\n",
              "std        1.143934\n",
              "min        0.890000\n",
              "25%        1.615000\n",
              "50%        1.875000\n",
              "75%        3.135000\n",
              "max        5.800000\n",
              "Name: malicAcid, dtype: float64"
            ]
          },
          "execution_count": 81,
          "metadata": {},
          "output_type": "execute_result"
        }
      ],
      "source": [
        "X_train.describe()"
      ]
    },
    {
      "cell_type": "code",
      "execution_count": 82,
      "metadata": {},
      "outputs": [
        {
          "data": {
            "text/plain": [
              "count    36.000000\n",
              "mean      2.189722\n",
              "std       1.005955\n",
              "min       0.740000\n",
              "25%       1.472500\n",
              "50%       1.810000\n",
              "75%       2.882500\n",
              "max       4.600000\n",
              "Name: malicAcid, dtype: float64"
            ]
          },
          "execution_count": 82,
          "metadata": {},
          "output_type": "execute_result"
        }
      ],
      "source": [
        "X_test.describe()"
      ]
    },
    {
      "cell_type": "code",
      "execution_count": 83,
      "metadata": {},
      "outputs": [
        {
          "data": {
            "text/plain": [
              "count    142.000000\n",
              "mean       5.057606\n",
              "std        2.330917\n",
              "min        1.740000\n",
              "25%        3.220000\n",
              "50%        4.600000\n",
              "75%        6.122500\n",
              "max       13.000000\n",
              "Name: ColorIntensity, dtype: float64"
            ]
          },
          "execution_count": 83,
          "metadata": {},
          "output_type": "execute_result"
        }
      ],
      "source": [
        "y_train.describe()"
      ]
    },
    {
      "cell_type": "code",
      "execution_count": 84,
      "metadata": {},
      "outputs": [
        {
          "data": {
            "text/plain": [
              "count    36.000000\n",
              "mean      5.060000\n",
              "std       2.300308\n",
              "min       1.280000\n",
              "25%       3.222500\n",
              "50%       4.900000\n",
              "75%       6.412500\n",
              "max       9.899999\n",
              "Name: ColorIntensity, dtype: float64"
            ]
          },
          "execution_count": 84,
          "metadata": {},
          "output_type": "execute_result"
        }
      ],
      "source": [
        "y_test.describe()"
      ]
    },
    {
      "cell_type": "code",
      "execution_count": 57,
      "metadata": {},
      "outputs": [
        {
          "name": "stdout",
          "output_type": "stream",
          "text": [
            "2.8689497970783893\n",
            "4.482570598582179\n"
          ]
        }
      ],
      "source": [
        "# Crear lista con los hiper-parámetros iniciales (thetas)\n",
        "theta = [1,1]\n",
        "# Cargar el valor del learning rate (alpha)\n",
        "alpha = 0.45\n",
        "\n",
        "# Crear función lambda para la función de hipótesis\n",
        "h = lambda x, theta: theta[0] + theta[1]*x\n",
        "# Calcular el total de muestras a partir de los datos (n)\n",
        "n = len(X_train)\n",
        "# Número de iteraciones\n",
        "it = 20\n",
        "\n",
        "\n",
        "delta =[]\n",
        "delta_2 = []\n",
        "predic = []\n",
        "data_predicts = []\n",
        "\n",
        "for i in range(it):\n",
        "  predic = []\n",
        "  for xi, yi in zip(X_train,y_train):\n",
        "    pred = h(xi, theta)\n",
        "    delta.append(pred-yi)        # Calcular delta para theta0 y para cada muestra\n",
        "    delta_2.append((pred-yi)*xi) # Calcular delta para theta1 y para cada muestra\n",
        "    predic.append(pred)\n",
        "\n",
        "  # Calcular sumatorias y promedio\n",
        "  dJt0 = (1/n) * sum(delta)\n",
        "  dJt1 = (1/n) * sum(delta_2)\n",
        "\n",
        "  # Actualizar theta0\n",
        "  theta[0] = theta[0] - alpha * dJt0;\n",
        "  # Actualizar theta1\n",
        "  theta[1] = theta[1] - alpha * dJt1;\n",
        "\n",
        "\n",
        "print(dJt0)\n",
        "print(dJt1)\n"
      ]
    },
    {
      "cell_type": "code",
      "execution_count": 47,
      "metadata": {},
      "outputs": [
        {
          "name": "stdout",
          "output_type": "stream",
          "text": [
            "             0\n",
            "0     6.616476\n",
            "1    15.692843\n",
            "2     5.170893\n",
            "3     6.592778\n",
            "4     6.189911\n",
            "..         ...\n",
            "137   6.213609\n",
            "138   6.734967\n",
            "139   7.066740\n",
            "140   6.261005\n",
            "141   8.441229\n",
            "\n",
            "[142 rows x 1 columns]\n"
          ]
        }
      ],
      "source": [
        "data_predicts = pd.DataFrame(predic)\n",
        "print(data_predicts)"
      ]
    },
    {
      "cell_type": "code",
      "execution_count": 66,
      "metadata": {},
      "outputs": [
        {
          "name": "stdout",
          "output_type": "stream",
          "text": [
            "Mean Squared Error:  4.876133244017518\n",
            "Mean Absolute Error:  1.836566400477926\n",
            "R^2:  0.0521534281943129\n"
          ]
        }
      ],
      "source": [
        "# Suponiendo que X_train y X_test son listas unidimensionales\n",
        "X_train = np.array(X_train).reshape(-1, 1)\n",
        "X_test = np.array(X_test).reshape(-1, 1)\n",
        "# Crear y entrenar el modelo de regresión\n",
        "modelo = LinearRegression()\n",
        "modelo.fit(X_train, y_train)\n",
        "\n",
        "# Se obtienen las predicciones con el modelo obtenido\n",
        "y_pred = modelo.predict(X_test)\n",
        "\n",
        "# MSE, MAE y R^2\n",
        "mse = mean_squared_error(y_test, y_pred)\n",
        "mae = mean_absolute_error(y_test, y_pred)\n",
        "r2 = r2_score(y_test, y_pred)\n",
        "\n",
        "print('Mean Squared Error: ', mse)\n",
        "print('Mean Absolute Error: ', mae)\n",
        "print('R^2: ', r2)"
      ]
    },
    {
      "cell_type": "code",
      "execution_count": 69,
      "metadata": {},
      "outputs": [
        {
          "data": {
            "image/png": "[encoded data removed]",
            "text/plain": [
              "<Figure size 640x480 with 1 Axes>"
            ]
          },
          "metadata": {},
          "output_type": "display_data"
        }
      ],
      "source": [
        "# Gráfica de dispersión con valores reales y los valores que se predijeron\n",
        "plt.scatter(y_test, y_pred, color='blue', label='Datos de entrenamiento')\n",
        "\n",
        "# Dibujar la línea de regresión\n",
        "plt.plot(y_test, y_test, color='red', linewidth=2, label='Regresión Lineal')\n",
        "\n",
        "# Etiquetas y título del gráfico\n",
        "plt.xlabel('Datos reales')\n",
        "plt.ylabel('Predicciones')\n",
        "plt.title(f'Precios Reales vs. Predicciones')\n",
        "\n",
        "# Mostrar el gráfico\n",
        "plt.show()"
      ]
    },
    {
      "cell_type": "markdown",
      "metadata": {
        "id": "SVCd6Sly5ybo"
      },
      "source": [
        "## Conclusiones\n",
        "\n",
        "Visto que la distribución no sigue un comportamiento lineal, este modelo puede no ser el adecuado para predecir la intensidad del color del vino con el Proanthocyanis.\n",
        "\n",
        "Más adelante se puede probar con otros modelos que se ajusten mejor o buscar otras variables que puedan justificar mejor la intensidad del color o talvez grupos de variables."
      ]
    }
  ],
  "metadata": {
    "colab": {
      "provenance": []
    },
    "kernelspec": {
      "display_name": "Python 3",
      "language": "python",
      "name": "python3"
    },
    "language_info": {
      "codemirror_mode": {
        "name": "ipython",
        "version": 3
      },
      "file_extension": ".py",
      "mimetype": "text/x-python",
      "name": "python",
      "nbconvert_exporter": "python",
      "pygments_lexer": "ipython3",
      "version": "3.10.0"
    },
    "polyglot_notebook": {
      "kernelInfo": {
        "defaultKernelName": "csharp",
        "items": [
          {
            "aliases": [],
            "name": "csharp"
          }
        ]
      }
    }
  },
  "nbformat": 4,
  "nbformat_minor": 0
}
