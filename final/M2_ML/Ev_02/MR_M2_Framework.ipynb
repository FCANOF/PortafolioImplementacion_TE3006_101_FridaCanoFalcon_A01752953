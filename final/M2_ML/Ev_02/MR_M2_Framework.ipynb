{
  "cells": [
    {
      "cell_type": "markdown",
      "source": [
        "\n",
        "\n",
        "# Módulo 2 Uso de framework o biblioteca de aprendizaje máquina para la implementación de una solución.\n",
        "\n",
        "\n",
        "**Alumna:**\n",
        "*   Frida Cano Falcón A01752953\n",
        "\n",
        "Programa uno de los algoritmos vistos en el módulo (o que tu profesor de módulo autorice) haciendo uso de una biblioteca o framework de aprendizaje máquina. Lo que se busca es que demuestres tu conocimiento sobre el framework y como configurar el algoritmo.\n",
        "\n",
        "\n",
        "\n",
        "\n"
      ],
      "metadata": {
        "id": "C40ND35bduiE"
      }
    },
    {
      "cell_type": "markdown",
      "metadata": {
        "id": "eTZdxQxtac9K"
      },
      "source": [
        "## Librerías"
      ]
    },
    {
      "cell_type": "code",
      "execution_count": 57,
      "metadata": {
        "id": "BKhxT4rSEXI8"
      },
      "outputs": [],
      "source": [
        "import pandas as pd\n",
        "import seaborn as sb\n",
        "import matplotlib.pyplot as plt"
      ]
    },
    {
      "cell_type": "markdown",
      "metadata": {
        "id": "KHPnSmkqKpBY"
      },
      "source": [
        "## Directorio"
      ]
    },
    {
      "cell_type": "code",
      "execution_count": 58,
      "metadata": {
        "colab": {
          "base_uri": "https://localhost:8080/"
        },
        "id": "-yrG2XEMH38k",
        "outputId": "cf271633-8eb9-4164-ffe3-d7fdc936f296"
      },
      "outputs": [
        {
          "output_type": "stream",
          "name": "stdout",
          "text": [
            "Drive already mounted at /content/gdrive; to attempt to forcibly remount, call drive.mount(\"/content/gdrive\", force_remount=True).\n",
            "/content/gdrive/My Drive/Semestres/7mo Semestre/Machine Learning\n"
          ]
        }
      ],
      "source": [
        "from google.colab import drive\n",
        "\n",
        "drive.mount(\"/content/gdrive\")\n",
        "!pwd  # show current path"
      ]
    },
    {
      "cell_type": "code",
      "execution_count": 59,
      "metadata": {
        "colab": {
          "base_uri": "https://localhost:8080/"
        },
        "id": "LrVLeTCFH7_E",
        "outputId": "caaffe9c-f5e9-4ed5-a284-8ca51f2d6958"
      },
      "outputs": [
        {
          "output_type": "stream",
          "name": "stdout",
          "text": [
            "/content/gdrive/MyDrive/Semestres/7mo Semestre/Machine Learning\n",
            "'El marcapasos.csv'\t\t        Ses03_Template_RegresionLogistica.ipynb\n",
            " ML_RegresionLineal.ipynb\t        wine.data\n",
            " Ses02_Template_RegresionLineal.ipynb   wine.names\n"
          ]
        }
      ],
      "source": [
        "%cd \"/content/gdrive/MyDrive/7mo Semestre/Machine Learning\"\n",
        "!ls  # show current directory"
      ]
    },
    {
      "cell_type": "markdown",
      "metadata": {
        "id": "I1VZUW3JkPmd"
      },
      "source": [
        "## Extracción de datos"
      ]
    },
    {
      "cell_type": "markdown",
      "metadata": {
        "id": "6fji5-Dna_7H"
      },
      "source": [
        "Se carga la base de datos\n"
      ]
    },
    {
      "cell_type": "code",
      "execution_count": 60,
      "metadata": {
        "id": "Pq6MdYSIJpQF"
      },
      "outputs": [],
      "source": [
        "data_base = pd.read_csv(\"El marcapasos.csv\")"
      ]
    },
    {
      "cell_type": "markdown",
      "metadata": {
        "id": "7bNa8dwzaiuj"
      },
      "source": [
        "## Características del dataset\n"
      ]
    },
    {
      "cell_type": "markdown",
      "source": [
        "Este dataset está compuesto de tres columnas que describen las siguientes características de personas que usan o no un marcapasos:\n",
        "\n",
        "\n",
        "*   Periodo entre pulsos - numérico\n",
        "*   Intensidad de pulso  - numérico\n",
        "*   Usa marcapasos o no  - categórico\n",
        "\n",
        "Información de la base de datos\n",
        "\n",
        "\n",
        "\n"
      ],
      "metadata": {
        "id": "SZKLL5ZUxPNZ"
      }
    },
    {
      "cell_type": "code",
      "source": [
        "data_base.head() # Head"
      ],
      "metadata": {
        "colab": {
          "base_uri": "https://localhost:8080/",
          "height": 206
        },
        "id": "PM43otVWw7mK",
        "outputId": "ad737784-5856-4d30-d5b0-92dc88e2cba5"
      },
      "execution_count": 61,
      "outputs": [
        {
          "output_type": "execute_result",
          "data": {
            "text/plain": [
              "   Periodo entre pulsos  Intensidad de pulso Marcapasos\n",
              "0                   1.2                0.131     Sin MP\n",
              "1                   0.9                0.303     Sin MP\n",
              "2                   0.9                0.297     Sin MP\n",
              "3                   0.8                0.416     Sin MP\n",
              "4                   0.7                0.585     Sin MP"
            ],
            "text/html": [
              "\n",
              "  <div id=\"df-5f73e961-8e17-49c0-8705-8055547916f9\" class=\"colab-df-container\">\n",
              "    <div>\n",
              "<style scoped>\n",
              "    .dataframe tbody tr th:only-of-type {\n",
              "        vertical-align: middle;\n",
              "    }\n",
              "\n",
              "    .dataframe tbody tr th {\n",
              "        vertical-align: top;\n",
              "    }\n",
              "\n",
              "    .dataframe thead th {\n",
              "        text-align: right;\n",
              "    }\n",
              "</style>\n",
              "<table border=\"1\" class=\"dataframe\">\n",
              "  <thead>\n",
              "    <tr style=\"text-align: right;\">\n",
              "      <th></th>\n",
              "      <th>Periodo entre pulsos</th>\n",
              "      <th>Intensidad de pulso</th>\n",
              "      <th>Marcapasos</th>\n",
              "    </tr>\n",
              "  </thead>\n",
              "  <tbody>\n",
              "    <tr>\n",
              "      <th>0</th>\n",
              "      <td>1.2</td>\n",
              "      <td>0.131</td>\n",
              "      <td>Sin MP</td>\n",
              "    </tr>\n",
              "    <tr>\n",
              "      <th>1</th>\n",
              "      <td>0.9</td>\n",
              "      <td>0.303</td>\n",
              "      <td>Sin MP</td>\n",
              "    </tr>\n",
              "    <tr>\n",
              "      <th>2</th>\n",
              "      <td>0.9</td>\n",
              "      <td>0.297</td>\n",
              "      <td>Sin MP</td>\n",
              "    </tr>\n",
              "    <tr>\n",
              "      <th>3</th>\n",
              "      <td>0.8</td>\n",
              "      <td>0.416</td>\n",
              "      <td>Sin MP</td>\n",
              "    </tr>\n",
              "    <tr>\n",
              "      <th>4</th>\n",
              "      <td>0.7</td>\n",
              "      <td>0.585</td>\n",
              "      <td>Sin MP</td>\n",
              "    </tr>\n",
              "  </tbody>\n",
              "</table>\n",
              "</div>\n",
              "    <div class=\"colab-df-buttons\">\n",
              "\n",
              "  <div class=\"colab-df-container\">\n",
              "    <button class=\"colab-df-convert\" onclick=\"convertToInteractive('df-5f73e961-8e17-49c0-8705-8055547916f9')\"\n",
              "            title=\"Convert this dataframe to an interactive table.\"\n",
              "            style=\"display:none;\">\n",
              "\n",
              "  <svg xmlns=\"http://www.w3.org/2000/svg\" height=\"24px\" viewBox=\"0 -960 960 960\">\n",
              "    <path d=\"M120-120v-720h720v720H120Zm60-500h600v-160H180v160Zm220 220h160v-160H400v160Zm0 220h160v-160H400v160ZM180-400h160v-160H180v160Zm440 0h160v-160H620v160ZM180-180h160v-160H180v160Zm440 0h160v-160H620v160Z\"/>\n",
              "  </svg>\n",
              "    </button>\n",
              "\n",
              "  <style>\n",
              "    .colab-df-container {\n",
              "      display:flex;\n",
              "      gap: 12px;\n",
              "    }\n",
              "\n",
              "    .colab-df-convert {\n",
              "      background-color: #E8F0FE;\n",
              "      border: none;\n",
              "      border-radius: 50%;\n",
              "      cursor: pointer;\n",
              "      display: none;\n",
              "      fill: #1967D2;\n",
              "      height: 32px;\n",
              "      padding: 0 0 0 0;\n",
              "      width: 32px;\n",
              "    }\n",
              "\n",
              "    .colab-df-convert:hover {\n",
              "      background-color: #E2EBFA;\n",
              "      box-shadow: 0px 1px 2px rgba(60, 64, 67, 0.3), 0px 1px 3px 1px rgba(60, 64, 67, 0.15);\n",
              "      fill: #174EA6;\n",
              "    }\n",
              "\n",
              "    .colab-df-buttons div {\n",
              "      margin-bottom: 4px;\n",
              "    }\n",
              "\n",
              "    [theme=dark] .colab-df-convert {\n",
              "      background-color: #3B4455;\n",
              "      fill: #D2E3FC;\n",
              "    }\n",
              "\n",
              "    [theme=dark] .colab-df-convert:hover {\n",
              "      background-color: #434B5C;\n",
              "      box-shadow: 0px 1px 3px 1px rgba(0, 0, 0, 0.15);\n",
              "      filter: drop-shadow(0px 1px 2px rgba(0, 0, 0, 0.3));\n",
              "      fill: #FFFFFF;\n",
              "    }\n",
              "  </style>\n",
              "\n",
              "    <script>\n",
              "      const buttonEl =\n",
              "        document.querySelector('#df-5f73e961-8e17-49c0-8705-8055547916f9 button.colab-df-convert');\n",
              "      buttonEl.style.display =\n",
              "        google.colab.kernel.accessAllowed ? 'block' : 'none';\n",
              "\n",
              "      async function convertToInteractive(key) {\n",
              "        const element = document.querySelector('#df-5f73e961-8e17-49c0-8705-8055547916f9');\n",
              "        const dataTable =\n",
              "          await google.colab.kernel.invokeFunction('convertToInteractive',\n",
              "                                                    [key], {});\n",
              "        if (!dataTable) return;\n",
              "\n",
              "        const docLinkHtml = 'Like what you see? Visit the ' +\n",
              "          '<a target=\"_blank\" href=https://colab.research.google.com/notebooks/data_table.ipynb>data table notebook</a>'\n",
              "          + ' to learn more about interactive tables.';\n",
              "        element.innerHTML = '';\n",
              "        dataTable['output_type'] = 'display_data';\n",
              "        await google.colab.output.renderOutput(dataTable, element);\n",
              "        const docLink = document.createElement('div');\n",
              "        docLink.innerHTML = docLinkHtml;\n",
              "        element.appendChild(docLink);\n",
              "      }\n",
              "    </script>\n",
              "  </div>\n",
              "\n",
              "\n",
              "<div id=\"df-d9699ad3-d524-4f8f-b140-5e3e947c73e2\">\n",
              "  <button class=\"colab-df-quickchart\" onclick=\"quickchart('df-d9699ad3-d524-4f8f-b140-5e3e947c73e2')\"\n",
              "            title=\"Suggest charts.\"\n",
              "            style=\"display:none;\">\n",
              "\n",
              "<svg xmlns=\"http://www.w3.org/2000/svg\" height=\"24px\"viewBox=\"0 0 24 24\"\n",
              "     width=\"24px\">\n",
              "    <g>\n",
              "        <path d=\"M19 3H5c-1.1 0-2 .9-2 2v14c0 1.1.9 2 2 2h14c1.1 0 2-.9 2-2V5c0-1.1-.9-2-2-2zM9 17H7v-7h2v7zm4 0h-2V7h2v10zm4 0h-2v-4h2v4z\"/>\n",
              "    </g>\n",
              "</svg>\n",
              "  </button>\n",
              "\n",
              "<style>\n",
              "  .colab-df-quickchart {\n",
              "    background-color: #E8F0FE;\n",
              "    border: none;\n",
              "    border-radius: 50%;\n",
              "    cursor: pointer;\n",
              "    display: none;\n",
              "    fill: #1967D2;\n",
              "    height: 32px;\n",
              "    padding: 0 0 0 0;\n",
              "    width: 32px;\n",
              "  }\n",
              "\n",
              "  .colab-df-quickchart:hover {\n",
              "    background-color: #E2EBFA;\n",
              "    box-shadow: 0px 1px 2px rgba(60, 64, 67, 0.3), 0px 1px 3px 1px rgba(60, 64, 67, 0.15);\n",
              "    fill: #174EA6;\n",
              "  }\n",
              "\n",
              "  [theme=dark] .colab-df-quickchart {\n",
              "    background-color: #3B4455;\n",
              "    fill: #D2E3FC;\n",
              "  }\n",
              "\n",
              "  [theme=dark] .colab-df-quickchart:hover {\n",
              "    background-color: #434B5C;\n",
              "    box-shadow: 0px 1px 3px 1px rgba(0, 0, 0, 0.15);\n",
              "    filter: drop-shadow(0px 1px 2px rgba(0, 0, 0, 0.3));\n",
              "    fill: #FFFFFF;\n",
              "  }\n",
              "</style>\n",
              "\n",
              "  <script>\n",
              "    async function quickchart(key) {\n",
              "      const charts = await google.colab.kernel.invokeFunction(\n",
              "          'suggestCharts', [key], {});\n",
              "    }\n",
              "    (() => {\n",
              "      let quickchartButtonEl =\n",
              "        document.querySelector('#df-d9699ad3-d524-4f8f-b140-5e3e947c73e2 button');\n",
              "      quickchartButtonEl.style.display =\n",
              "        google.colab.kernel.accessAllowed ? 'block' : 'none';\n",
              "    })();\n",
              "  </script>\n",
              "</div>\n",
              "    </div>\n",
              "  </div>\n"
            ]
          },
          "metadata": {},
          "execution_count": 61
        }
      ]
    },
    {
      "cell_type": "code",
      "source": [
        "data_base.info() # DataSet information. Train file"
      ],
      "metadata": {
        "colab": {
          "base_uri": "https://localhost:8080/"
        },
        "id": "he9hGVJExIBD",
        "outputId": "5be18564-7391-46b3-8708-6d4e8df131b5"
      },
      "execution_count": 62,
      "outputs": [
        {
          "output_type": "stream",
          "name": "stdout",
          "text": [
            "<class 'pandas.core.frame.DataFrame'>\n",
            "RangeIndex: 102 entries, 0 to 101\n",
            "Data columns (total 3 columns):\n",
            " #   Column                Non-Null Count  Dtype  \n",
            "---  ------                --------------  -----  \n",
            " 0   Periodo entre pulsos  102 non-null    float64\n",
            " 1   Intensidad de pulso   102 non-null    float64\n",
            " 2   Marcapasos            102 non-null    object \n",
            "dtypes: float64(2), object(1)\n",
            "memory usage: 2.5+ KB\n"
          ]
        }
      ]
    },
    {
      "cell_type": "markdown",
      "source": [
        "Convertimos las variables categóricas en numéricas."
      ],
      "metadata": {
        "id": "AmUmOuW90lcI"
      }
    },
    {
      "cell_type": "code",
      "source": [
        "data_base['Marcapasos'].replace(['Sin MP', 'Con MP'],\n",
        "                        [0, 1], inplace=True)\n",
        "data_base.apply (pd.to_numeric, errors='coerce')"
      ],
      "metadata": {
        "colab": {
          "base_uri": "https://localhost:8080/",
          "height": 424
        },
        "id": "yRXm6ncl0bOm",
        "outputId": "8b4cfec2-b8a7-4364-fdba-be17fa7bc56b"
      },
      "execution_count": 63,
      "outputs": [
        {
          "output_type": "execute_result",
          "data": {
            "text/plain": [
              "     Periodo entre pulsos  Intensidad de pulso  Marcapasos\n",
              "0                    1.20                0.131           0\n",
              "1                    0.90                0.303           0\n",
              "2                    0.90                0.297           0\n",
              "3                    0.80                0.416           0\n",
              "4                    0.70                0.585           0\n",
              "..                    ...                  ...         ...\n",
              "97                   0.81                0.298           1\n",
              "98                   0.93                0.143           1\n",
              "99                   1.04                0.019           1\n",
              "100                  1.06                0.006           1\n",
              "101                  1.07                0.005           1\n",
              "\n",
              "[102 rows x 3 columns]"
            ],
            "text/html": [
              "\n",
              "  <div id=\"df-fcf3e6e1-e90f-4bee-85be-bfb3e9465c73\" class=\"colab-df-container\">\n",
              "    <div>\n",
              "<style scoped>\n",
              "    .dataframe tbody tr th:only-of-type {\n",
              "        vertical-align: middle;\n",
              "    }\n",
              "\n",
              "    .dataframe tbody tr th {\n",
              "        vertical-align: top;\n",
              "    }\n",
              "\n",
              "    .dataframe thead th {\n",
              "        text-align: right;\n",
              "    }\n",
              "</style>\n",
              "<table border=\"1\" class=\"dataframe\">\n",
              "  <thead>\n",
              "    <tr style=\"text-align: right;\">\n",
              "      <th></th>\n",
              "      <th>Periodo entre pulsos</th>\n",
              "      <th>Intensidad de pulso</th>\n",
              "      <th>Marcapasos</th>\n",
              "    </tr>\n",
              "  </thead>\n",
              "  <tbody>\n",
              "    <tr>\n",
              "      <th>0</th>\n",
              "      <td>1.20</td>\n",
              "      <td>0.131</td>\n",
              "      <td>0</td>\n",
              "    </tr>\n",
              "    <tr>\n",
              "      <th>1</th>\n",
              "      <td>0.90</td>\n",
              "      <td>0.303</td>\n",
              "      <td>0</td>\n",
              "    </tr>\n",
              "    <tr>\n",
              "      <th>2</th>\n",
              "      <td>0.90</td>\n",
              "      <td>0.297</td>\n",
              "      <td>0</td>\n",
              "    </tr>\n",
              "    <tr>\n",
              "      <th>3</th>\n",
              "      <td>0.80</td>\n",
              "      <td>0.416</td>\n",
              "      <td>0</td>\n",
              "    </tr>\n",
              "    <tr>\n",
              "      <th>4</th>\n",
              "      <td>0.70</td>\n",
              "      <td>0.585</td>\n",
              "      <td>0</td>\n",
              "    </tr>\n",
              "    <tr>\n",
              "      <th>...</th>\n",
              "      <td>...</td>\n",
              "      <td>...</td>\n",
              "      <td>...</td>\n",
              "    </tr>\n",
              "    <tr>\n",
              "      <th>97</th>\n",
              "      <td>0.81</td>\n",
              "      <td>0.298</td>\n",
              "      <td>1</td>\n",
              "    </tr>\n",
              "    <tr>\n",
              "      <th>98</th>\n",
              "      <td>0.93</td>\n",
              "      <td>0.143</td>\n",
              "      <td>1</td>\n",
              "    </tr>\n",
              "    <tr>\n",
              "      <th>99</th>\n",
              "      <td>1.04</td>\n",
              "      <td>0.019</td>\n",
              "      <td>1</td>\n",
              "    </tr>\n",
              "    <tr>\n",
              "      <th>100</th>\n",
              "      <td>1.06</td>\n",
              "      <td>0.006</td>\n",
              "      <td>1</td>\n",
              "    </tr>\n",
              "    <tr>\n",
              "      <th>101</th>\n",
              "      <td>1.07</td>\n",
              "      <td>0.005</td>\n",
              "      <td>1</td>\n",
              "    </tr>\n",
              "  </tbody>\n",
              "</table>\n",
              "<p>102 rows × 3 columns</p>\n",
              "</div>\n",
              "    <div class=\"colab-df-buttons\">\n",
              "\n",
              "  <div class=\"colab-df-container\">\n",
              "    <button class=\"colab-df-convert\" onclick=\"convertToInteractive('df-fcf3e6e1-e90f-4bee-85be-bfb3e9465c73')\"\n",
              "            title=\"Convert this dataframe to an interactive table.\"\n",
              "            style=\"display:none;\">\n",
              "\n",
              "  <svg xmlns=\"http://www.w3.org/2000/svg\" height=\"24px\" viewBox=\"0 -960 960 960\">\n",
              "    <path d=\"M120-120v-720h720v720H120Zm60-500h600v-160H180v160Zm220 220h160v-160H400v160Zm0 220h160v-160H400v160ZM180-400h160v-160H180v160Zm440 0h160v-160H620v160ZM180-180h160v-160H180v160Zm440 0h160v-160H620v160Z\"/>\n",
              "  </svg>\n",
              "    </button>\n",
              "\n",
              "  <style>\n",
              "    .colab-df-container {\n",
              "      display:flex;\n",
              "      gap: 12px;\n",
              "    }\n",
              "\n",
              "    .colab-df-convert {\n",
              "      background-color: #E8F0FE;\n",
              "      border: none;\n",
              "      border-radius: 50%;\n",
              "      cursor: pointer;\n",
              "      display: none;\n",
              "      fill: #1967D2;\n",
              "      height: 32px;\n",
              "      padding: 0 0 0 0;\n",
              "      width: 32px;\n",
              "    }\n",
              "\n",
              "    .colab-df-convert:hover {\n",
              "      background-color: #E2EBFA;\n",
              "      box-shadow: 0px 1px 2px rgba(60, 64, 67, 0.3), 0px 1px 3px 1px rgba(60, 64, 67, 0.15);\n",
              "      fill: #174EA6;\n",
              "    }\n",
              "\n",
              "    .colab-df-buttons div {\n",
              "      margin-bottom: 4px;\n",
              "    }\n",
              "\n",
              "    [theme=dark] .colab-df-convert {\n",
              "      background-color: #3B4455;\n",
              "      fill: #D2E3FC;\n",
              "    }\n",
              "\n",
              "    [theme=dark] .colab-df-convert:hover {\n",
              "      background-color: #434B5C;\n",
              "      box-shadow: 0px 1px 3px 1px rgba(0, 0, 0, 0.15);\n",
              "      filter: drop-shadow(0px 1px 2px rgba(0, 0, 0, 0.3));\n",
              "      fill: #FFFFFF;\n",
              "    }\n",
              "  </style>\n",
              "\n",
              "    <script>\n",
              "      const buttonEl =\n",
              "        document.querySelector('#df-fcf3e6e1-e90f-4bee-85be-bfb3e9465c73 button.colab-df-convert');\n",
              "      buttonEl.style.display =\n",
              "        google.colab.kernel.accessAllowed ? 'block' : 'none';\n",
              "\n",
              "      async function convertToInteractive(key) {\n",
              "        const element = document.querySelector('#df-fcf3e6e1-e90f-4bee-85be-bfb3e9465c73');\n",
              "        const dataTable =\n",
              "          await google.colab.kernel.invokeFunction('convertToInteractive',\n",
              "                                                    [key], {});\n",
              "        if (!dataTable) return;\n",
              "\n",
              "        const docLinkHtml = 'Like what you see? Visit the ' +\n",
              "          '<a target=\"_blank\" href=https://colab.research.google.com/notebooks/data_table.ipynb>data table notebook</a>'\n",
              "          + ' to learn more about interactive tables.';\n",
              "        element.innerHTML = '';\n",
              "        dataTable['output_type'] = 'display_data';\n",
              "        await google.colab.output.renderOutput(dataTable, element);\n",
              "        const docLink = document.createElement('div');\n",
              "        docLink.innerHTML = docLinkHtml;\n",
              "        element.appendChild(docLink);\n",
              "      }\n",
              "    </script>\n",
              "  </div>\n",
              "\n",
              "\n",
              "<div id=\"df-435d0a7d-4a6e-4c8d-930a-d9671b74b23b\">\n",
              "  <button class=\"colab-df-quickchart\" onclick=\"quickchart('df-435d0a7d-4a6e-4c8d-930a-d9671b74b23b')\"\n",
              "            title=\"Suggest charts.\"\n",
              "            style=\"display:none;\">\n",
              "\n",
              "<svg xmlns=\"http://www.w3.org/2000/svg\" height=\"24px\"viewBox=\"0 0 24 24\"\n",
              "     width=\"24px\">\n",
              "    <g>\n",
              "        <path d=\"M19 3H5c-1.1 0-2 .9-2 2v14c0 1.1.9 2 2 2h14c1.1 0 2-.9 2-2V5c0-1.1-.9-2-2-2zM9 17H7v-7h2v7zm4 0h-2V7h2v10zm4 0h-2v-4h2v4z\"/>\n",
              "    </g>\n",
              "</svg>\n",
              "  </button>\n",
              "\n",
              "<style>\n",
              "  .colab-df-quickchart {\n",
              "    background-color: #E8F0FE;\n",
              "    border: none;\n",
              "    border-radius: 50%;\n",
              "    cursor: pointer;\n",
              "    display: none;\n",
              "    fill: #1967D2;\n",
              "    height: 32px;\n",
              "    padding: 0 0 0 0;\n",
              "    width: 32px;\n",
              "  }\n",
              "\n",
              "  .colab-df-quickchart:hover {\n",
              "    background-color: #E2EBFA;\n",
              "    box-shadow: 0px 1px 2px rgba(60, 64, 67, 0.3), 0px 1px 3px 1px rgba(60, 64, 67, 0.15);\n",
              "    fill: #174EA6;\n",
              "  }\n",
              "\n",
              "  [theme=dark] .colab-df-quickchart {\n",
              "    background-color: #3B4455;\n",
              "    fill: #D2E3FC;\n",
              "  }\n",
              "\n",
              "  [theme=dark] .colab-df-quickchart:hover {\n",
              "    background-color: #434B5C;\n",
              "    box-shadow: 0px 1px 3px 1px rgba(0, 0, 0, 0.15);\n",
              "    filter: drop-shadow(0px 1px 2px rgba(0, 0, 0, 0.3));\n",
              "    fill: #FFFFFF;\n",
              "  }\n",
              "</style>\n",
              "\n",
              "  <script>\n",
              "    async function quickchart(key) {\n",
              "      const charts = await google.colab.kernel.invokeFunction(\n",
              "          'suggestCharts', [key], {});\n",
              "    }\n",
              "    (() => {\n",
              "      let quickchartButtonEl =\n",
              "        document.querySelector('#df-435d0a7d-4a6e-4c8d-930a-d9671b74b23b button');\n",
              "      quickchartButtonEl.style.display =\n",
              "        google.colab.kernel.accessAllowed ? 'block' : 'none';\n",
              "    })();\n",
              "  </script>\n",
              "</div>\n",
              "    </div>\n",
              "  </div>\n"
            ]
          },
          "metadata": {},
          "execution_count": 63
        }
      ]
    },
    {
      "cell_type": "markdown",
      "source": [
        "Sacamos las métricas importantes."
      ],
      "metadata": {
        "id": "QOPIdzA6XIS0"
      }
    },
    {
      "cell_type": "code",
      "source": [
        "data_base.describe() # Statistics Analysis"
      ],
      "metadata": {
        "id": "6QOz5m-5XK9L",
        "colab": {
          "base_uri": "https://localhost:8080/",
          "height": 300
        },
        "outputId": "61b0a9ac-9985-46b9-d66a-63ce4302bb18"
      },
      "execution_count": 64,
      "outputs": [
        {
          "output_type": "execute_result",
          "data": {
            "text/plain": [
              "       Periodo entre pulsos  Intensidad de pulso  Marcapasos\n",
              "count            102.000000           102.000000  102.000000\n",
              "mean               1.001471             0.201520    0.500000\n",
              "std                0.301936             0.123047    0.502469\n",
              "min                0.690000             0.005000    0.000000\n",
              "25%                0.830000             0.109000    0.000000\n",
              "50%                0.935000             0.191000    0.500000\n",
              "75%                1.100000             0.292250    1.000000\n",
              "max                2.800000             0.585000    1.000000"
            ],
            "text/html": [
              "\n",
              "  <div id=\"df-bb5ae4fd-6a62-487d-9922-7e0903f72fb3\" class=\"colab-df-container\">\n",
              "    <div>\n",
              "<style scoped>\n",
              "    .dataframe tbody tr th:only-of-type {\n",
              "        vertical-align: middle;\n",
              "    }\n",
              "\n",
              "    .dataframe tbody tr th {\n",
              "        vertical-align: top;\n",
              "    }\n",
              "\n",
              "    .dataframe thead th {\n",
              "        text-align: right;\n",
              "    }\n",
              "</style>\n",
              "<table border=\"1\" class=\"dataframe\">\n",
              "  <thead>\n",
              "    <tr style=\"text-align: right;\">\n",
              "      <th></th>\n",
              "      <th>Periodo entre pulsos</th>\n",
              "      <th>Intensidad de pulso</th>\n",
              "      <th>Marcapasos</th>\n",
              "    </tr>\n",
              "  </thead>\n",
              "  <tbody>\n",
              "    <tr>\n",
              "      <th>count</th>\n",
              "      <td>102.000000</td>\n",
              "      <td>102.000000</td>\n",
              "      <td>102.000000</td>\n",
              "    </tr>\n",
              "    <tr>\n",
              "      <th>mean</th>\n",
              "      <td>1.001471</td>\n",
              "      <td>0.201520</td>\n",
              "      <td>0.500000</td>\n",
              "    </tr>\n",
              "    <tr>\n",
              "      <th>std</th>\n",
              "      <td>0.301936</td>\n",
              "      <td>0.123047</td>\n",
              "      <td>0.502469</td>\n",
              "    </tr>\n",
              "    <tr>\n",
              "      <th>min</th>\n",
              "      <td>0.690000</td>\n",
              "      <td>0.005000</td>\n",
              "      <td>0.000000</td>\n",
              "    </tr>\n",
              "    <tr>\n",
              "      <th>25%</th>\n",
              "      <td>0.830000</td>\n",
              "      <td>0.109000</td>\n",
              "      <td>0.000000</td>\n",
              "    </tr>\n",
              "    <tr>\n",
              "      <th>50%</th>\n",
              "      <td>0.935000</td>\n",
              "      <td>0.191000</td>\n",
              "      <td>0.500000</td>\n",
              "    </tr>\n",
              "    <tr>\n",
              "      <th>75%</th>\n",
              "      <td>1.100000</td>\n",
              "      <td>0.292250</td>\n",
              "      <td>1.000000</td>\n",
              "    </tr>\n",
              "    <tr>\n",
              "      <th>max</th>\n",
              "      <td>2.800000</td>\n",
              "      <td>0.585000</td>\n",
              "      <td>1.000000</td>\n",
              "    </tr>\n",
              "  </tbody>\n",
              "</table>\n",
              "</div>\n",
              "    <div class=\"colab-df-buttons\">\n",
              "\n",
              "  <div class=\"colab-df-container\">\n",
              "    <button class=\"colab-df-convert\" onclick=\"convertToInteractive('df-bb5ae4fd-6a62-487d-9922-7e0903f72fb3')\"\n",
              "            title=\"Convert this dataframe to an interactive table.\"\n",
              "            style=\"display:none;\">\n",
              "\n",
              "  <svg xmlns=\"http://www.w3.org/2000/svg\" height=\"24px\" viewBox=\"0 -960 960 960\">\n",
              "    <path d=\"M120-120v-720h720v720H120Zm60-500h600v-160H180v160Zm220 220h160v-160H400v160Zm0 220h160v-160H400v160ZM180-400h160v-160H180v160Zm440 0h160v-160H620v160ZM180-180h160v-160H180v160Zm440 0h160v-160H620v160Z\"/>\n",
              "  </svg>\n",
              "    </button>\n",
              "\n",
              "  <style>\n",
              "    .colab-df-container {\n",
              "      display:flex;\n",
              "      gap: 12px;\n",
              "    }\n",
              "\n",
              "    .colab-df-convert {\n",
              "      background-color: #E8F0FE;\n",
              "      border: none;\n",
              "      border-radius: 50%;\n",
              "      cursor: pointer;\n",
              "      display: none;\n",
              "      fill: #1967D2;\n",
              "      height: 32px;\n",
              "      padding: 0 0 0 0;\n",
              "      width: 32px;\n",
              "    }\n",
              "\n",
              "    .colab-df-convert:hover {\n",
              "      background-color: #E2EBFA;\n",
              "      box-shadow: 0px 1px 2px rgba(60, 64, 67, 0.3), 0px 1px 3px 1px rgba(60, 64, 67, 0.15);\n",
              "      fill: #174EA6;\n",
              "    }\n",
              "\n",
              "    .colab-df-buttons div {\n",
              "      margin-bottom: 4px;\n",
              "    }\n",
              "\n",
              "    [theme=dark] .colab-df-convert {\n",
              "      background-color: #3B4455;\n",
              "      fill: #D2E3FC;\n",
              "    }\n",
              "\n",
              "    [theme=dark] .colab-df-convert:hover {\n",
              "      background-color: #434B5C;\n",
              "      box-shadow: 0px 1px 3px 1px rgba(0, 0, 0, 0.15);\n",
              "      filter: drop-shadow(0px 1px 2px rgba(0, 0, 0, 0.3));\n",
              "      fill: #FFFFFF;\n",
              "    }\n",
              "  </style>\n",
              "\n",
              "    <script>\n",
              "      const buttonEl =\n",
              "        document.querySelector('#df-bb5ae4fd-6a62-487d-9922-7e0903f72fb3 button.colab-df-convert');\n",
              "      buttonEl.style.display =\n",
              "        google.colab.kernel.accessAllowed ? 'block' : 'none';\n",
              "\n",
              "      async function convertToInteractive(key) {\n",
              "        const element = document.querySelector('#df-bb5ae4fd-6a62-487d-9922-7e0903f72fb3');\n",
              "        const dataTable =\n",
              "          await google.colab.kernel.invokeFunction('convertToInteractive',\n",
              "                                                    [key], {});\n",
              "        if (!dataTable) return;\n",
              "\n",
              "        const docLinkHtml = 'Like what you see? Visit the ' +\n",
              "          '<a target=\"_blank\" href=https://colab.research.google.com/notebooks/data_table.ipynb>data table notebook</a>'\n",
              "          + ' to learn more about interactive tables.';\n",
              "        element.innerHTML = '';\n",
              "        dataTable['output_type'] = 'display_data';\n",
              "        await google.colab.output.renderOutput(dataTable, element);\n",
              "        const docLink = document.createElement('div');\n",
              "        docLink.innerHTML = docLinkHtml;\n",
              "        element.appendChild(docLink);\n",
              "      }\n",
              "    </script>\n",
              "  </div>\n",
              "\n",
              "\n",
              "<div id=\"df-95ab3e27-675d-4ee7-b802-ef495c381675\">\n",
              "  <button class=\"colab-df-quickchart\" onclick=\"quickchart('df-95ab3e27-675d-4ee7-b802-ef495c381675')\"\n",
              "            title=\"Suggest charts.\"\n",
              "            style=\"display:none;\">\n",
              "\n",
              "<svg xmlns=\"http://www.w3.org/2000/svg\" height=\"24px\"viewBox=\"0 0 24 24\"\n",
              "     width=\"24px\">\n",
              "    <g>\n",
              "        <path d=\"M19 3H5c-1.1 0-2 .9-2 2v14c0 1.1.9 2 2 2h14c1.1 0 2-.9 2-2V5c0-1.1-.9-2-2-2zM9 17H7v-7h2v7zm4 0h-2V7h2v10zm4 0h-2v-4h2v4z\"/>\n",
              "    </g>\n",
              "</svg>\n",
              "  </button>\n",
              "\n",
              "<style>\n",
              "  .colab-df-quickchart {\n",
              "    background-color: #E8F0FE;\n",
              "    border: none;\n",
              "    border-radius: 50%;\n",
              "    cursor: pointer;\n",
              "    display: none;\n",
              "    fill: #1967D2;\n",
              "    height: 32px;\n",
              "    padding: 0 0 0 0;\n",
              "    width: 32px;\n",
              "  }\n",
              "\n",
              "  .colab-df-quickchart:hover {\n",
              "    background-color: #E2EBFA;\n",
              "    box-shadow: 0px 1px 2px rgba(60, 64, 67, 0.3), 0px 1px 3px 1px rgba(60, 64, 67, 0.15);\n",
              "    fill: #174EA6;\n",
              "  }\n",
              "\n",
              "  [theme=dark] .colab-df-quickchart {\n",
              "    background-color: #3B4455;\n",
              "    fill: #D2E3FC;\n",
              "  }\n",
              "\n",
              "  [theme=dark] .colab-df-quickchart:hover {\n",
              "    background-color: #434B5C;\n",
              "    box-shadow: 0px 1px 3px 1px rgba(0, 0, 0, 0.15);\n",
              "    filter: drop-shadow(0px 1px 2px rgba(0, 0, 0, 0.3));\n",
              "    fill: #FFFFFF;\n",
              "  }\n",
              "</style>\n",
              "\n",
              "  <script>\n",
              "    async function quickchart(key) {\n",
              "      const charts = await google.colab.kernel.invokeFunction(\n",
              "          'suggestCharts', [key], {});\n",
              "    }\n",
              "    (() => {\n",
              "      let quickchartButtonEl =\n",
              "        document.querySelector('#df-95ab3e27-675d-4ee7-b802-ef495c381675 button');\n",
              "      quickchartButtonEl.style.display =\n",
              "        google.colab.kernel.accessAllowed ? 'block' : 'none';\n",
              "    })();\n",
              "  </script>\n",
              "</div>\n",
              "    </div>\n",
              "  </div>\n"
            ]
          },
          "metadata": {},
          "execution_count": 64
        }
      ]
    },
    {
      "cell_type": "markdown",
      "source": [
        "\n",
        "\n",
        "Vemos la correlación entre los datos.\n",
        "\n"
      ],
      "metadata": {
        "id": "GjNL0ajZlJEG"
      }
    },
    {
      "cell_type": "code",
      "source": [
        "corr_data = data_base.corr()\n",
        "sb.heatmap(corr_data, cmap = 'Blues', annot = True)"
      ],
      "metadata": {
        "id": "VyXwN_MOmMuK",
        "colab": {
          "base_uri": "https://localhost:8080/",
          "height": 580
        },
        "outputId": "50ac0d8c-781b-4eb5-8895-6ed676803cd7"
      },
      "execution_count": 65,
      "outputs": [
        {
          "output_type": "execute_result",
          "data": {
            "text/plain": [
              "<Axes: >"
            ]
          },
          "metadata": {},
          "execution_count": 65
        },
        {
          "output_type": "display_data",
          "data": {
            "text/plain": [
              "<Figure size 640x480 with 2 Axes>"
            ],
            "image/png": "[encoded data removed]"
          },
          "metadata": {}
        }
      ]
    },
    {
      "cell_type": "markdown",
      "source": [
        "## Implementación de modelo - Árbol de decisión\n",
        "\n",
        "### Librería de Modelo y herramientas de visualización"
      ],
      "metadata": {
        "id": "OThOEXX0nf5A"
      }
    },
    {
      "cell_type": "code",
      "execution_count": 66,
      "metadata": {
        "id": "f4kabbWD-d2Z"
      },
      "outputs": [],
      "source": [
        "#Librería Separar dataset\n",
        "from sklearn.model_selection import train_test_split\n",
        "\n",
        "#Librerías para Modelos de clasificación\n",
        "from sklearn import tree\n",
        "\n",
        "#Librería para graficar\n",
        "import graphviz\n",
        "\n",
        "#Se usa en la función que no hemos usado todavía en el proyecto\n",
        "from sklearn.model_selection import cross_val_score\n",
        "#Librerías para realizar un análisis de la implementación del modelo\n",
        "from sklearn.metrics import accuracy_score\n",
        "from sklearn import metrics"
      ]
    },
    {
      "cell_type": "markdown",
      "source": [
        "### Partición de la base de datos"
      ],
      "metadata": {
        "id": "6UPdxCRf-jaC"
      }
    },
    {
      "cell_type": "code",
      "execution_count": 67,
      "metadata": {
        "id": "GFyKWks_ayTt"
      },
      "outputs": [],
      "source": [
        "#Separamos tipos de variables en dependientes e independientes\n",
        "feature_names = ['Periodo entre pulsos', 'Intensidad de pulso']\n",
        "x_data = data_base[feature_names]   # variables predictoras\n",
        "y_data = data_base['Marcapasos']    # variable de respuesta\n",
        "#Se divide el dataset en entrenamiento y test, con un ratio de 80-20\n",
        "X_train, X_test, y_train, y_test = train_test_split(x_data, y_data, test_size=0.2, random_state=42, stratify=y_data)"
      ]
    },
    {
      "cell_type": "markdown",
      "source": [
        "### Pruebas con un mínimo de muestras para expandir el nodo"
      ],
      "metadata": {
        "id": "l8qwOcx3CI25"
      }
    },
    {
      "cell_type": "markdown",
      "source": [
        "#### Primera prueba.\n",
        "\n",
        "Hiper-parámetros :\n",
        "\n",
        "*   Número de niveles: 3\n",
        "*   Mínimo de muestras para expandir: 2"
      ],
      "metadata": {
        "id": "5cMIpVVVOO8b"
      }
    },
    {
      "cell_type": "code",
      "source": [
        "my_tree = tree.DecisionTreeClassifier(criterion=\"entropy\", max_depth=3, min_samples_split=2)\n",
        "my_tree.fit(x_data,y_data)\n",
        "class_names = ['No','Yes']\n",
        "myTreeData = tree.export_graphviz(my_tree, feature_names=feature_names,\n",
        " class_names=class_names, leaves_parallel=True,\n",
        " filled=True, proportion=True, rotate=True)\n",
        "graphData = graphviz.Source(myTreeData)\n",
        "graphData"
      ],
      "metadata": {
        "colab": {
          "base_uri": "https://localhost:8080/",
          "height": 581
        },
        "id": "sGa4wkBT-VTV",
        "outputId": "f510191b-f609-4e3e-edd4-1651e8fea0b8"
      },
      "execution_count": 68,
      "outputs": [
        {
          "output_type": "execute_result",
          "data": {
            "image/svg+xml": "<?xml version=\"1.0\" encoding=\"UTF-8\" standalone=\"no\"?>\n<!DOCTYPE svg PUBLIC \"-//W3C//DTD SVG 1.1//EN\"\n \"http://www.w3.org/Graphics/SVG/1.1/DTD/svg11.dtd\">\n<!-- Generated by graphviz version 2.43.0 (0)\n -->\n<!-- Title: Tree Pages: 1 -->\n<svg width=\"872pt\" height=\"420pt\"\n viewBox=\"0.00 0.00 872.00 420.00\" xmlns=\"http://www.w3.org/2000/svg\" xmlns:xlink=\"http://www.w3.org/1999/xlink\">\n<g id=\"graph0\" class=\"graph\" transform=\"scale(1 1) rotate(0) translate(4 416)\">\n<title>Tree</title>\n<polygon fill=\"white\" stroke=\"transparent\" points=\"-4,4 -4,-416 868,-416 868,4 -4,4\"/>\n<!-- 0 -->\n<g id=\"node1\" class=\"node\">\n<title>0</title>\n<polygon fill=\"#ffffff\" stroke=\"black\" points=\"198,-118.5 0,-118.5 0,-35.5 198,-35.5 198,-118.5\"/>\n<text text-anchor=\"middle\" x=\"99\" y=\"-103.3\" font-family=\"Helvetica,sans-Serif\" font-size=\"14.00\">Periodo entre pulsos &lt;= 1.085</text>\n<text text-anchor=\"middle\" x=\"99\" y=\"-88.3\" font-family=\"Helvetica,sans-Serif\" font-size=\"14.00\">entropy = 1.0</text>\n<text text-anchor=\"middle\" x=\"99\" y=\"-73.3\" font-family=\"Helvetica,sans-Serif\" font-size=\"14.00\">samples = 100.0%</text>\n<text text-anchor=\"middle\" x=\"99\" y=\"-58.3\" font-family=\"Helvetica,sans-Serif\" font-size=\"14.00\">value = [0.5, 0.5]</text>\n<text text-anchor=\"middle\" x=\"99\" y=\"-43.3\" font-family=\"Helvetica,sans-Serif\" font-size=\"14.00\">class = No</text>\n</g>\n<!-- 1 -->\n<g id=\"node2\" class=\"node\">\n<title>1</title>\n<polygon fill=\"#8ec7f0\" stroke=\"black\" points=\"425,-196.5 234,-196.5 234,-113.5 425,-113.5 425,-196.5\"/>\n<text text-anchor=\"middle\" x=\"329.5\" y=\"-181.3\" font-family=\"Helvetica,sans-Serif\" font-size=\"14.00\">Intensidad de pulso &lt;= 0.212</text>\n<text text-anchor=\"middle\" x=\"329.5\" y=\"-166.3\" font-family=\"Helvetica,sans-Serif\" font-size=\"14.00\">entropy = 0.883</text>\n<text text-anchor=\"middle\" x=\"329.5\" y=\"-151.3\" font-family=\"Helvetica,sans-Serif\" font-size=\"14.00\">samples = 71.6%</text>\n<text text-anchor=\"middle\" x=\"329.5\" y=\"-136.3\" font-family=\"Helvetica,sans-Serif\" font-size=\"14.00\">value = [0.301, 0.699]</text>\n<text text-anchor=\"middle\" x=\"329.5\" y=\"-121.3\" font-family=\"Helvetica,sans-Serif\" font-size=\"14.00\">class = Yes</text>\n</g>\n<!-- 0&#45;&gt;1 -->\n<g id=\"edge1\" class=\"edge\">\n<title>0&#45;&gt;1</title>\n<path fill=\"none\" stroke=\"black\" d=\"M198.23,-110.53C206.84,-113.47 215.58,-116.45 224.24,-119.41\"/>\n<polygon fill=\"black\" stroke=\"black\" points=\"223.38,-122.81 233.97,-122.73 225.64,-116.19 223.38,-122.81\"/>\n<text text-anchor=\"middle\" x=\"211.53\" y=\"-130.05\" font-family=\"Helvetica,sans-Serif\" font-size=\"14.00\">True</text>\n</g>\n<!-- 8 -->\n<g id=\"node9\" class=\"node\">\n<title>8</title>\n<polygon fill=\"#e58139\" stroke=\"black\" points=\"851.5,-68 729.5,-68 729.5,0 851.5,0 851.5,-68\"/>\n<text text-anchor=\"middle\" x=\"790.5\" y=\"-52.8\" font-family=\"Helvetica,sans-Serif\" font-size=\"14.00\">entropy = 0.0</text>\n<text text-anchor=\"middle\" x=\"790.5\" y=\"-37.8\" font-family=\"Helvetica,sans-Serif\" font-size=\"14.00\">samples = 28.4%</text>\n<text text-anchor=\"middle\" x=\"790.5\" y=\"-22.8\" font-family=\"Helvetica,sans-Serif\" font-size=\"14.00\">value = [1.0, 0.0]</text>\n<text text-anchor=\"middle\" x=\"790.5\" y=\"-7.8\" font-family=\"Helvetica,sans-Serif\" font-size=\"14.00\">class = No</text>\n</g>\n<!-- 0&#45;&gt;8 -->\n<g id=\"edge8\" class=\"edge\">\n<title>0&#45;&gt;8</title>\n<path fill=\"none\" stroke=\"black\" d=\"M198.06,-70.88C339.09,-62.09 595.8,-46.08 719.36,-38.37\"/>\n<polygon fill=\"black\" stroke=\"black\" points=\"719.7,-41.86 729.46,-37.74 719.26,-34.87 719.7,-41.86\"/>\n<text text-anchor=\"middle\" x=\"710.72\" y=\"-17.5\" font-family=\"Helvetica,sans-Serif\" font-size=\"14.00\">False</text>\n</g>\n<!-- 2 -->\n<g id=\"node3\" class=\"node\">\n<title>2</title>\n<polygon fill=\"#3fa0e6\" stroke=\"black\" points=\"659,-333.5 461,-333.5 461,-250.5 659,-250.5 659,-333.5\"/>\n<text text-anchor=\"middle\" x=\"560\" y=\"-318.3\" font-family=\"Helvetica,sans-Serif\" font-size=\"14.00\">Periodo entre pulsos &lt;= 0.835</text>\n<text text-anchor=\"middle\" x=\"560\" y=\"-303.3\" font-family=\"Helvetica,sans-Serif\" font-size=\"14.00\">entropy = 0.201</text>\n<text text-anchor=\"middle\" x=\"560\" y=\"-288.3\" font-family=\"Helvetica,sans-Serif\" font-size=\"14.00\">samples = 31.4%</text>\n<text text-anchor=\"middle\" x=\"560\" y=\"-273.3\" font-family=\"Helvetica,sans-Serif\" font-size=\"14.00\">value = [0.031, 0.969]</text>\n<text text-anchor=\"middle\" x=\"560\" y=\"-258.3\" font-family=\"Helvetica,sans-Serif\" font-size=\"14.00\">class = Yes</text>\n</g>\n<!-- 1&#45;&gt;2 -->\n<g id=\"edge2\" class=\"edge\">\n<title>1&#45;&gt;2</title>\n<path fill=\"none\" stroke=\"black\" d=\"M399.99,-196.66C425.47,-211.94 454.48,-229.33 480.68,-245.04\"/>\n<polygon fill=\"black\" stroke=\"black\" points=\"479.07,-248.16 489.45,-250.3 482.67,-242.16 479.07,-248.16\"/>\n</g>\n<!-- 5 -->\n<g id=\"node6\" class=\"node\">\n<title>5</title>\n<polygon fill=\"#fef9f6\" stroke=\"black\" points=\"655.5,-196.5 464.5,-196.5 464.5,-113.5 655.5,-113.5 655.5,-196.5\"/>\n<text text-anchor=\"middle\" x=\"560\" y=\"-181.3\" font-family=\"Helvetica,sans-Serif\" font-size=\"14.00\">Periodo entre pulsos &lt;= 0.88</text>\n<text text-anchor=\"middle\" x=\"560\" y=\"-166.3\" font-family=\"Helvetica,sans-Serif\" font-size=\"14.00\">entropy = 1.0</text>\n<text text-anchor=\"middle\" x=\"560\" y=\"-151.3\" font-family=\"Helvetica,sans-Serif\" font-size=\"14.00\">samples = 40.2%</text>\n<text text-anchor=\"middle\" x=\"560\" y=\"-136.3\" font-family=\"Helvetica,sans-Serif\" font-size=\"14.00\">value = [0.512, 0.488]</text>\n<text text-anchor=\"middle\" x=\"560\" y=\"-121.3\" font-family=\"Helvetica,sans-Serif\" font-size=\"14.00\">class = No</text>\n</g>\n<!-- 1&#45;&gt;5 -->\n<g id=\"edge5\" class=\"edge\">\n<title>1&#45;&gt;5</title>\n<path fill=\"none\" stroke=\"black\" d=\"M425.09,-155C434.75,-155 444.6,-155 454.36,-155\"/>\n<polygon fill=\"black\" stroke=\"black\" points=\"454.48,-158.5 464.48,-155 454.48,-151.5 454.48,-158.5\"/>\n</g>\n<!-- 3 -->\n<g id=\"node4\" class=\"node\">\n<title>3</title>\n<polygon fill=\"#e58139\" stroke=\"black\" points=\"849,-412 732,-412 732,-344 849,-344 849,-412\"/>\n<text text-anchor=\"middle\" x=\"790.5\" y=\"-396.8\" font-family=\"Helvetica,sans-Serif\" font-size=\"14.00\">entropy = 0.0</text>\n<text text-anchor=\"middle\" x=\"790.5\" y=\"-381.8\" font-family=\"Helvetica,sans-Serif\" font-size=\"14.00\">samples = 1.0%</text>\n<text text-anchor=\"middle\" x=\"790.5\" y=\"-366.8\" font-family=\"Helvetica,sans-Serif\" font-size=\"14.00\">value = [1.0, 0.0]</text>\n<text text-anchor=\"middle\" x=\"790.5\" y=\"-351.8\" font-family=\"Helvetica,sans-Serif\" font-size=\"14.00\">class = No</text>\n</g>\n<!-- 2&#45;&gt;3 -->\n<g id=\"edge3\" class=\"edge\">\n<title>2&#45;&gt;3</title>\n<path fill=\"none\" stroke=\"black\" d=\"M659.23,-328.97C680.54,-336.99 702.61,-345.3 722.39,-352.74\"/>\n<polygon fill=\"black\" stroke=\"black\" points=\"721.31,-356.08 731.9,-356.32 723.78,-349.52 721.31,-356.08\"/>\n</g>\n<!-- 4 -->\n<g id=\"node5\" class=\"node\">\n<title>4</title>\n<polygon fill=\"#399de5\" stroke=\"black\" points=\"851.5,-326 729.5,-326 729.5,-258 851.5,-258 851.5,-326\"/>\n<text text-anchor=\"middle\" x=\"790.5\" y=\"-310.8\" font-family=\"Helvetica,sans-Serif\" font-size=\"14.00\">entropy = 0.0</text>\n<text text-anchor=\"middle\" x=\"790.5\" y=\"-295.8\" font-family=\"Helvetica,sans-Serif\" font-size=\"14.00\">samples = 30.4%</text>\n<text text-anchor=\"middle\" x=\"790.5\" y=\"-280.8\" font-family=\"Helvetica,sans-Serif\" font-size=\"14.00\">value = [0.0, 1.0]</text>\n<text text-anchor=\"middle\" x=\"790.5\" y=\"-265.8\" font-family=\"Helvetica,sans-Serif\" font-size=\"14.00\">class = Yes</text>\n</g>\n<!-- 2&#45;&gt;4 -->\n<g id=\"edge4\" class=\"edge\">\n<title>2&#45;&gt;4</title>\n<path fill=\"none\" stroke=\"black\" d=\"M659.23,-292C679.43,-292 700.31,-292 719.28,-292\"/>\n<polygon fill=\"black\" stroke=\"black\" points=\"719.31,-295.5 729.31,-292 719.31,-288.5 719.31,-295.5\"/>\n</g>\n<!-- 6 -->\n<g id=\"node7\" class=\"node\">\n<title>6</title>\n<polygon fill=\"#9ccef2\" stroke=\"black\" points=\"864,-240 717,-240 717,-172 864,-172 864,-240\"/>\n<text text-anchor=\"middle\" x=\"790.5\" y=\"-224.8\" font-family=\"Helvetica,sans-Serif\" font-size=\"14.00\">entropy = 0.918</text>\n<text text-anchor=\"middle\" x=\"790.5\" y=\"-209.8\" font-family=\"Helvetica,sans-Serif\" font-size=\"14.00\">samples = 29.4%</text>\n<text text-anchor=\"middle\" x=\"790.5\" y=\"-194.8\" font-family=\"Helvetica,sans-Serif\" font-size=\"14.00\">value = [0.333, 0.667]</text>\n<text text-anchor=\"middle\" x=\"790.5\" y=\"-179.8\" font-family=\"Helvetica,sans-Serif\" font-size=\"14.00\">class = Yes</text>\n</g>\n<!-- 5&#45;&gt;6 -->\n<g id=\"edge6\" class=\"edge\">\n<title>5&#45;&gt;6</title>\n<path fill=\"none\" stroke=\"black\" d=\"M655.59,-176.11C672.57,-179.9 690.15,-183.82 706.76,-187.53\"/>\n<polygon fill=\"black\" stroke=\"black\" points=\"706.44,-191.05 716.96,-189.81 707.97,-184.22 706.44,-191.05\"/>\n</g>\n<!-- 7 -->\n<g id=\"node8\" class=\"node\">\n<title>7</title>\n<polygon fill=\"#e58139\" stroke=\"black\" points=\"851.5,-154 729.5,-154 729.5,-86 851.5,-86 851.5,-154\"/>\n<text text-anchor=\"middle\" x=\"790.5\" y=\"-138.8\" font-family=\"Helvetica,sans-Serif\" font-size=\"14.00\">entropy = 0.0</text>\n<text text-anchor=\"middle\" x=\"790.5\" y=\"-123.8\" font-family=\"Helvetica,sans-Serif\" font-size=\"14.00\">samples = 10.8%</text>\n<text text-anchor=\"middle\" x=\"790.5\" y=\"-108.8\" font-family=\"Helvetica,sans-Serif\" font-size=\"14.00\">value = [1.0, 0.0]</text>\n<text text-anchor=\"middle\" x=\"790.5\" y=\"-93.8\" font-family=\"Helvetica,sans-Serif\" font-size=\"14.00\">class = No</text>\n</g>\n<!-- 5&#45;&gt;7 -->\n<g id=\"edge7\" class=\"edge\">\n<title>5&#45;&gt;7</title>\n<path fill=\"none\" stroke=\"black\" d=\"M655.59,-140.51C676.91,-137.25 699.17,-133.84 719.29,-130.75\"/>\n<polygon fill=\"black\" stroke=\"black\" points=\"719.93,-134.2 729.28,-129.22 718.87,-127.28 719.93,-134.2\"/>\n</g>\n</g>\n</svg>\n",
            "text/plain": [
              "<graphviz.sources.Source at 0x7d6314c26350>"
            ]
          },
          "metadata": {},
          "execution_count": 68
        }
      ]
    },
    {
      "cell_type": "markdown",
      "source": [
        "Resultados"
      ],
      "metadata": {
        "id": "uxorRJq9QGYz"
      }
    },
    {
      "cell_type": "code",
      "source": [
        "#Matriz de confusión\n",
        "y_pred = my_tree.predict(X_test)\n",
        "confusion_matrix = metrics.confusion_matrix(y_test, y_pred)\n",
        "accuracy = (confusion_matrix[0,0] + confusion_matrix[1,1]) / (confusion_matrix[0,0]+confusion_matrix[0,1]+confusion_matrix[1,0]+confusion_matrix[1,1])\n",
        "print('Accuracy:',accuracy)\n",
        "precision = confusion_matrix[0,0] /(confusion_matrix[0,0]+confusion_matrix[1,0])\n",
        "print(\"Precision:\",precision)\n",
        "recall = confusion_matrix[0,0] /(confusion_matrix[0,0]+confusion_matrix[0,1])\n",
        "print(\"Recall:\",recall)\n",
        "Fone = (2*precision*recall)/(precision+recall)\n",
        "print('Fone:',Fone)\n",
        "cm_display = metrics.ConfusionMatrixDisplay(confusion_matrix = confusion_matrix, display_labels = [False, True])\n",
        "cm_display.plot()\n",
        "plt.show()"
      ],
      "metadata": {
        "colab": {
          "base_uri": "https://localhost:8080/",
          "height": 518
        },
        "id": "5UQ0aTGXujYx",
        "outputId": "87f13a74-b7e3-4788-8a72-4af521fc3798"
      },
      "execution_count": 69,
      "outputs": [
        {
          "output_type": "stream",
          "name": "stdout",
          "text": [
            "Accuracy: 1.0\n",
            "Precision: 1.0\n",
            "Recall: 1.0\n",
            "Fone: 1.0\n"
          ]
        },
        {
          "output_type": "display_data",
          "data": {
            "text/plain": [
              "<Figure size 640x480 with 2 Axes>"
            ],
            "image/png": "[encoded data removed]"
          },
          "metadata": {}
        }
      ]
    },
    {
      "cell_type": "markdown",
      "source": [
        "#### Segunda prueba.\n",
        "\n",
        "Hiper-parámetros :\n",
        "\n",
        "*   Número de niveles: 4\n",
        "*   Mínimo de muestras para expandir: 2"
      ],
      "metadata": {
        "id": "i6nElZoHQJCY"
      }
    },
    {
      "cell_type": "code",
      "source": [
        "my_tree = tree.DecisionTreeClassifier(criterion=\"entropy\", max_depth=4, min_samples_split=2)\n",
        "my_tree.fit(x_data,y_data)\n",
        "class_names = ['No','Yes']\n",
        "myTreeData = tree.export_graphviz(my_tree, feature_names=feature_names,\n",
        " class_names=class_names, leaves_parallel=True,\n",
        " filled=True, proportion=True, rotate=True)\n",
        "graphData = graphviz.Source(myTreeData)\n",
        "graphData"
      ],
      "metadata": {
        "colab": {
          "base_uri": "https://localhost:8080/",
          "height": 696
        },
        "id": "uCi6IgehQOkX",
        "outputId": "18195b69-0044-4844-e9eb-08d687c203cb"
      },
      "execution_count": 70,
      "outputs": [
        {
          "output_type": "execute_result",
          "data": {
            "image/svg+xml": "<?xml version=\"1.0\" encoding=\"UTF-8\" standalone=\"no\"?>\n<!DOCTYPE svg PUBLIC \"-//W3C//DTD SVG 1.1//EN\"\n \"http://www.w3.org/Graphics/SVG/1.1/DTD/svg11.dtd\">\n<!-- Generated by graphviz version 2.43.0 (0)\n -->\n<!-- Title: Tree Pages: 1 -->\n<svg width=\"1090pt\" height=\"506pt\"\n viewBox=\"0.00 0.00 1090.00 506.00\" xmlns=\"http://www.w3.org/2000/svg\" xmlns:xlink=\"http://www.w3.org/1999/xlink\">\n<g id=\"graph0\" class=\"graph\" transform=\"scale(1 1) rotate(0) translate(4 502)\">\n<title>Tree</title>\n<polygon fill=\"white\" stroke=\"transparent\" points=\"-4,4 -4,-502 1086,-502 1086,4 -4,4\"/>\n<!-- 0 -->\n<g id=\"node1\" class=\"node\">\n<title>0</title>\n<polygon fill=\"#ffffff\" stroke=\"black\" points=\"198,-161.5 0,-161.5 0,-78.5 198,-78.5 198,-161.5\"/>\n<text text-anchor=\"middle\" x=\"99\" y=\"-146.3\" font-family=\"Helvetica,sans-Serif\" font-size=\"14.00\">Periodo entre pulsos &lt;= 1.085</text>\n<text text-anchor=\"middle\" x=\"99\" y=\"-131.3\" font-family=\"Helvetica,sans-Serif\" font-size=\"14.00\">entropy = 1.0</text>\n<text text-anchor=\"middle\" x=\"99\" y=\"-116.3\" font-family=\"Helvetica,sans-Serif\" font-size=\"14.00\">samples = 100.0%</text>\n<text text-anchor=\"middle\" x=\"99\" y=\"-101.3\" font-family=\"Helvetica,sans-Serif\" font-size=\"14.00\">value = [0.5, 0.5]</text>\n<text text-anchor=\"middle\" x=\"99\" y=\"-86.3\" font-family=\"Helvetica,sans-Serif\" font-size=\"14.00\">class = No</text>\n</g>\n<!-- 1 -->\n<g id=\"node2\" class=\"node\">\n<title>1</title>\n<polygon fill=\"#8ec7f0\" stroke=\"black\" points=\"425,-204.5 234,-204.5 234,-121.5 425,-121.5 425,-204.5\"/>\n<text text-anchor=\"middle\" x=\"329.5\" y=\"-189.3\" font-family=\"Helvetica,sans-Serif\" font-size=\"14.00\">Intensidad de pulso &lt;= 0.212</text>\n<text text-anchor=\"middle\" x=\"329.5\" y=\"-174.3\" font-family=\"Helvetica,sans-Serif\" font-size=\"14.00\">entropy = 0.883</text>\n<text text-anchor=\"middle\" x=\"329.5\" y=\"-159.3\" font-family=\"Helvetica,sans-Serif\" font-size=\"14.00\">samples = 71.6%</text>\n<text text-anchor=\"middle\" x=\"329.5\" y=\"-144.3\" font-family=\"Helvetica,sans-Serif\" font-size=\"14.00\">value = [0.301, 0.699]</text>\n<text text-anchor=\"middle\" x=\"329.5\" y=\"-129.3\" font-family=\"Helvetica,sans-Serif\" font-size=\"14.00\">class = Yes</text>\n</g>\n<!-- 0&#45;&gt;1 -->\n<g id=\"edge1\" class=\"edge\">\n<title>0&#45;&gt;1</title>\n<path fill=\"none\" stroke=\"black\" d=\"M198.23,-138.49C206.75,-140.09 215.39,-141.71 223.96,-143.33\"/>\n<polygon fill=\"black\" stroke=\"black\" points=\"223.5,-146.8 233.97,-145.21 224.79,-139.92 223.5,-146.8\"/>\n<text text-anchor=\"middle\" x=\"213.33\" y=\"-155.61\" font-family=\"Helvetica,sans-Serif\" font-size=\"14.00\">True</text>\n</g>\n<!-- 10 -->\n<g id=\"node11\" class=\"node\">\n<title>10</title>\n<polygon fill=\"#e58139\" stroke=\"black\" points=\"1082,-68 960,-68 960,0 1082,0 1082,-68\"/>\n<text text-anchor=\"middle\" x=\"1021\" y=\"-52.8\" font-family=\"Helvetica,sans-Serif\" font-size=\"14.00\">entropy = 0.0</text>\n<text text-anchor=\"middle\" x=\"1021\" y=\"-37.8\" font-family=\"Helvetica,sans-Serif\" font-size=\"14.00\">samples = 28.4%</text>\n<text text-anchor=\"middle\" x=\"1021\" y=\"-22.8\" font-family=\"Helvetica,sans-Serif\" font-size=\"14.00\">value = [1.0, 0.0]</text>\n<text text-anchor=\"middle\" x=\"1021\" y=\"-7.8\" font-family=\"Helvetica,sans-Serif\" font-size=\"14.00\">class = No</text>\n</g>\n<!-- 0&#45;&gt;10 -->\n<g id=\"edge10\" class=\"edge\">\n<title>0&#45;&gt;10</title>\n<path fill=\"none\" stroke=\"black\" d=\"M198.02,-110.84C384.56,-93.4 786.52,-55.82 949.35,-40.6\"/>\n<polygon fill=\"black\" stroke=\"black\" points=\"950.1,-44.05 959.73,-39.63 949.45,-37.08 950.1,-44.05\"/>\n<text text-anchor=\"middle\" x=\"940.48\" y=\"-19.98\" font-family=\"Helvetica,sans-Serif\" font-size=\"14.00\">False</text>\n</g>\n<!-- 2 -->\n<g id=\"node3\" class=\"node\">\n<title>2</title>\n<polygon fill=\"#3fa0e6\" stroke=\"black\" points=\"659,-419.5 461,-419.5 461,-336.5 659,-336.5 659,-419.5\"/>\n<text text-anchor=\"middle\" x=\"560\" y=\"-404.3\" font-family=\"Helvetica,sans-Serif\" font-size=\"14.00\">Periodo entre pulsos &lt;= 0.835</text>\n<text text-anchor=\"middle\" x=\"560\" y=\"-389.3\" font-family=\"Helvetica,sans-Serif\" font-size=\"14.00\">entropy = 0.201</text>\n<text text-anchor=\"middle\" x=\"560\" y=\"-374.3\" font-family=\"Helvetica,sans-Serif\" font-size=\"14.00\">samples = 31.4%</text>\n<text text-anchor=\"middle\" x=\"560\" y=\"-359.3\" font-family=\"Helvetica,sans-Serif\" font-size=\"14.00\">value = [0.031, 0.969]</text>\n<text text-anchor=\"middle\" x=\"560\" y=\"-344.3\" font-family=\"Helvetica,sans-Serif\" font-size=\"14.00\">class = Yes</text>\n</g>\n<!-- 1&#45;&gt;2 -->\n<g id=\"edge2\" class=\"edge\">\n<title>1&#45;&gt;2</title>\n<path fill=\"none\" stroke=\"black\" d=\"M374.83,-204.71C412.67,-240.31 467.14,-291.56 507.02,-329.09\"/>\n<polygon fill=\"black\" stroke=\"black\" points=\"505.11,-332.1 514.8,-336.41 509.91,-327.01 505.11,-332.1\"/>\n</g>\n<!-- 5 -->\n<g id=\"node6\" class=\"node\">\n<title>5</title>\n<polygon fill=\"#fef9f6\" stroke=\"black\" points=\"655.5,-204.5 464.5,-204.5 464.5,-121.5 655.5,-121.5 655.5,-204.5\"/>\n<text text-anchor=\"middle\" x=\"560\" y=\"-189.3\" font-family=\"Helvetica,sans-Serif\" font-size=\"14.00\">Periodo entre pulsos &lt;= 0.88</text>\n<text text-anchor=\"middle\" x=\"560\" y=\"-174.3\" font-family=\"Helvetica,sans-Serif\" font-size=\"14.00\">entropy = 1.0</text>\n<text text-anchor=\"middle\" x=\"560\" y=\"-159.3\" font-family=\"Helvetica,sans-Serif\" font-size=\"14.00\">samples = 40.2%</text>\n<text text-anchor=\"middle\" x=\"560\" y=\"-144.3\" font-family=\"Helvetica,sans-Serif\" font-size=\"14.00\">value = [0.512, 0.488]</text>\n<text text-anchor=\"middle\" x=\"560\" y=\"-129.3\" font-family=\"Helvetica,sans-Serif\" font-size=\"14.00\">class = No</text>\n</g>\n<!-- 1&#45;&gt;5 -->\n<g id=\"edge5\" class=\"edge\">\n<title>1&#45;&gt;5</title>\n<path fill=\"none\" stroke=\"black\" d=\"M425.09,-163C434.75,-163 444.6,-163 454.36,-163\"/>\n<polygon fill=\"black\" stroke=\"black\" points=\"454.48,-166.5 464.48,-163 454.48,-159.5 454.48,-166.5\"/>\n</g>\n<!-- 3 -->\n<g id=\"node4\" class=\"node\">\n<title>3</title>\n<polygon fill=\"#e58139\" stroke=\"black\" points=\"1079.5,-498 962.5,-498 962.5,-430 1079.5,-430 1079.5,-498\"/>\n<text text-anchor=\"middle\" x=\"1021\" y=\"-482.8\" font-family=\"Helvetica,sans-Serif\" font-size=\"14.00\">entropy = 0.0</text>\n<text text-anchor=\"middle\" x=\"1021\" y=\"-467.8\" font-family=\"Helvetica,sans-Serif\" font-size=\"14.00\">samples = 1.0%</text>\n<text text-anchor=\"middle\" x=\"1021\" y=\"-452.8\" font-family=\"Helvetica,sans-Serif\" font-size=\"14.00\">value = [1.0, 0.0]</text>\n<text text-anchor=\"middle\" x=\"1021\" y=\"-437.8\" font-family=\"Helvetica,sans-Serif\" font-size=\"14.00\">class = No</text>\n</g>\n<!-- 2&#45;&gt;3 -->\n<g id=\"edge3\" class=\"edge\">\n<title>2&#45;&gt;3</title>\n<path fill=\"none\" stroke=\"black\" d=\"M659.19,-396.4C747.4,-412.92 874.62,-436.76 952.05,-451.27\"/>\n<polygon fill=\"black\" stroke=\"black\" points=\"951.7,-454.76 962.18,-453.17 952.99,-447.88 951.7,-454.76\"/>\n</g>\n<!-- 4 -->\n<g id=\"node5\" class=\"node\">\n<title>4</title>\n<polygon fill=\"#399de5\" stroke=\"black\" points=\"1082,-412 960,-412 960,-344 1082,-344 1082,-412\"/>\n<text text-anchor=\"middle\" x=\"1021\" y=\"-396.8\" font-family=\"Helvetica,sans-Serif\" font-size=\"14.00\">entropy = 0.0</text>\n<text text-anchor=\"middle\" x=\"1021\" y=\"-381.8\" font-family=\"Helvetica,sans-Serif\" font-size=\"14.00\">samples = 30.4%</text>\n<text text-anchor=\"middle\" x=\"1021\" y=\"-366.8\" font-family=\"Helvetica,sans-Serif\" font-size=\"14.00\">value = [0.0, 1.0]</text>\n<text text-anchor=\"middle\" x=\"1021\" y=\"-351.8\" font-family=\"Helvetica,sans-Serif\" font-size=\"14.00\">class = Yes</text>\n</g>\n<!-- 2&#45;&gt;4 -->\n<g id=\"edge4\" class=\"edge\">\n<title>2&#45;&gt;4</title>\n<path fill=\"none\" stroke=\"black\" d=\"M659.19,-378C746.52,-378 872.08,-378 949.72,-378\"/>\n<polygon fill=\"black\" stroke=\"black\" points=\"949.88,-381.5 959.88,-378 949.88,-374.5 949.88,-381.5\"/>\n</g>\n<!-- 6 -->\n<g id=\"node7\" class=\"node\">\n<title>6</title>\n<polygon fill=\"#9ccef2\" stroke=\"black\" points=\"886,-247.5 695,-247.5 695,-164.5 886,-164.5 886,-247.5\"/>\n<text text-anchor=\"middle\" x=\"790.5\" y=\"-232.3\" font-family=\"Helvetica,sans-Serif\" font-size=\"14.00\">Intensidad de pulso &lt;= 0.303</text>\n<text text-anchor=\"middle\" x=\"790.5\" y=\"-217.3\" font-family=\"Helvetica,sans-Serif\" font-size=\"14.00\">entropy = 0.918</text>\n<text text-anchor=\"middle\" x=\"790.5\" y=\"-202.3\" font-family=\"Helvetica,sans-Serif\" font-size=\"14.00\">samples = 29.4%</text>\n<text text-anchor=\"middle\" x=\"790.5\" y=\"-187.3\" font-family=\"Helvetica,sans-Serif\" font-size=\"14.00\">value = [0.333, 0.667]</text>\n<text text-anchor=\"middle\" x=\"790.5\" y=\"-172.3\" font-family=\"Helvetica,sans-Serif\" font-size=\"14.00\">class = Yes</text>\n</g>\n<!-- 5&#45;&gt;6 -->\n<g id=\"edge6\" class=\"edge\">\n<title>5&#45;&gt;6</title>\n<path fill=\"none\" stroke=\"black\" d=\"M655.59,-180.8C665.25,-182.62 675.1,-184.47 684.86,-186.31\"/>\n<polygon fill=\"black\" stroke=\"black\" points=\"684.51,-189.8 694.98,-188.21 685.8,-182.92 684.51,-189.8\"/>\n</g>\n<!-- 9 -->\n<g id=\"node10\" class=\"node\">\n<title>9</title>\n<polygon fill=\"#e58139\" stroke=\"black\" points=\"1082,-154 960,-154 960,-86 1082,-86 1082,-154\"/>\n<text text-anchor=\"middle\" x=\"1021\" y=\"-138.8\" font-family=\"Helvetica,sans-Serif\" font-size=\"14.00\">entropy = 0.0</text>\n<text text-anchor=\"middle\" x=\"1021\" y=\"-123.8\" font-family=\"Helvetica,sans-Serif\" font-size=\"14.00\">samples = 10.8%</text>\n<text text-anchor=\"middle\" x=\"1021\" y=\"-108.8\" font-family=\"Helvetica,sans-Serif\" font-size=\"14.00\">value = [1.0, 0.0]</text>\n<text text-anchor=\"middle\" x=\"1021\" y=\"-93.8\" font-family=\"Helvetica,sans-Serif\" font-size=\"14.00\">class = No</text>\n</g>\n<!-- 5&#45;&gt;9 -->\n<g id=\"edge9\" class=\"edge\">\n<title>5&#45;&gt;9</title>\n<path fill=\"none\" stroke=\"black\" d=\"M655.55,-154.14C742.95,-145.95 870.86,-133.97 949.59,-126.6\"/>\n<polygon fill=\"black\" stroke=\"black\" points=\"950.26,-130.05 959.89,-125.63 949.6,-123.08 950.26,-130.05\"/>\n</g>\n<!-- 7 -->\n<g id=\"node8\" class=\"node\">\n<title>7</title>\n<polygon fill=\"#399de5\" stroke=\"black\" points=\"1079.5,-326 962.5,-326 962.5,-258 1079.5,-258 1079.5,-326\"/>\n<text text-anchor=\"middle\" x=\"1021\" y=\"-310.8\" font-family=\"Helvetica,sans-Serif\" font-size=\"14.00\">entropy = 0.0</text>\n<text text-anchor=\"middle\" x=\"1021\" y=\"-295.8\" font-family=\"Helvetica,sans-Serif\" font-size=\"14.00\">samples = 9.8%</text>\n<text text-anchor=\"middle\" x=\"1021\" y=\"-280.8\" font-family=\"Helvetica,sans-Serif\" font-size=\"14.00\">value = [0.0, 1.0]</text>\n<text text-anchor=\"middle\" x=\"1021\" y=\"-265.8\" font-family=\"Helvetica,sans-Serif\" font-size=\"14.00\">class = Yes</text>\n</g>\n<!-- 6&#45;&gt;7 -->\n<g id=\"edge7\" class=\"edge\">\n<title>6&#45;&gt;7</title>\n<path fill=\"none\" stroke=\"black\" d=\"M886.09,-241.6C908.55,-250.06 932.07,-258.9 953.01,-266.79\"/>\n<polygon fill=\"black\" stroke=\"black\" points=\"951.84,-270.09 962.43,-270.33 954.31,-263.54 951.84,-270.09\"/>\n</g>\n<!-- 8 -->\n<g id=\"node9\" class=\"node\">\n<title>8</title>\n<polygon fill=\"#ffffff\" stroke=\"black\" points=\"1082,-240 960,-240 960,-172 1082,-172 1082,-240\"/>\n<text text-anchor=\"middle\" x=\"1021\" y=\"-224.8\" font-family=\"Helvetica,sans-Serif\" font-size=\"14.00\">entropy = 1.0</text>\n<text text-anchor=\"middle\" x=\"1021\" y=\"-209.8\" font-family=\"Helvetica,sans-Serif\" font-size=\"14.00\">samples = 19.6%</text>\n<text text-anchor=\"middle\" x=\"1021\" y=\"-194.8\" font-family=\"Helvetica,sans-Serif\" font-size=\"14.00\">value = [0.5, 0.5]</text>\n<text text-anchor=\"middle\" x=\"1021\" y=\"-179.8\" font-family=\"Helvetica,sans-Serif\" font-size=\"14.00\">class = No</text>\n</g>\n<!-- 6&#45;&gt;8 -->\n<g id=\"edge8\" class=\"edge\">\n<title>6&#45;&gt;8</title>\n<path fill=\"none\" stroke=\"black\" d=\"M886.09,-206C907.31,-206 929.47,-206 949.51,-206\"/>\n<polygon fill=\"black\" stroke=\"black\" points=\"949.78,-209.5 959.78,-206 949.78,-202.5 949.78,-209.5\"/>\n</g>\n</g>\n</svg>\n",
            "text/plain": [
              "<graphviz.sources.Source at 0x7d63143d9090>"
            ]
          },
          "metadata": {},
          "execution_count": 70
        }
      ]
    },
    {
      "cell_type": "markdown",
      "source": [
        "Resultados"
      ],
      "metadata": {
        "id": "XKEIhCFUQO2d"
      }
    },
    {
      "cell_type": "code",
      "source": [
        "#Matriz de confusión\n",
        "y_pred = my_tree.predict(X_test)\n",
        "confusion_matrix = metrics.confusion_matrix(y_test, y_pred)\n",
        "accuracy = (confusion_matrix[0,0] + confusion_matrix[1,1]) / (confusion_matrix[0,0]+confusion_matrix[0,1]+confusion_matrix[1,0]+confusion_matrix[1,1])\n",
        "print('Accuracy:',accuracy)\n",
        "precision = confusion_matrix[0,0] /(confusion_matrix[0,0]+confusion_matrix[1,0])\n",
        "print(\"Precision:\",precision)\n",
        "recall = confusion_matrix[0,0] /(confusion_matrix[0,0]+confusion_matrix[0,1])\n",
        "print(\"Recall:\",recall)\n",
        "Fone = (2*precision*recall)/(precision+recall)\n",
        "print('Fone:',Fone)\n",
        "cm_display = metrics.ConfusionMatrixDisplay(confusion_matrix = confusion_matrix, display_labels = [False, True])\n",
        "cm_display.plot()\n",
        "plt.show()"
      ],
      "metadata": {
        "colab": {
          "base_uri": "https://localhost:8080/",
          "height": 518
        },
        "id": "_6W7YBYRQQWr",
        "outputId": "e74fe64a-2cdf-4a61-d399-5be87c065c91"
      },
      "execution_count": 71,
      "outputs": [
        {
          "output_type": "stream",
          "name": "stdout",
          "text": [
            "Accuracy: 0.9523809523809523\n",
            "Precision: 0.9166666666666666\n",
            "Recall: 1.0\n",
            "Fone: 0.9565217391304348\n"
          ]
        },
        {
          "output_type": "display_data",
          "data": {
            "text/plain": [
              "<Figure size 640x480 with 2 Axes>"
            ],
            "image/png": "[encoded data removed]"
          },
          "metadata": {}
        }
      ]
    },
    {
      "cell_type": "markdown",
      "source": [
        "#### Tercera prueba.\n",
        "\n",
        "Hiper-parámetros :\n",
        "\n",
        "*   Número de niveles: 5\n",
        "*   Mínimo de muestras para expandir: 2"
      ],
      "metadata": {
        "id": "f-Ies7o-SKAX"
      }
    },
    {
      "cell_type": "code",
      "source": [
        "my_tree = tree.DecisionTreeClassifier(criterion=\"entropy\", max_depth=5, min_samples_split=2)\n",
        "my_tree.fit(x_data,y_data)\n",
        "class_names = ['No','Yes']\n",
        "myTreeData = tree.export_graphviz(my_tree, feature_names=feature_names,\n",
        " class_names=class_names, leaves_parallel=True,\n",
        " filled=True, proportion=True, rotate=True)\n",
        "graphData = graphviz.Source(myTreeData)\n",
        "graphData"
      ],
      "metadata": {
        "colab": {
          "base_uri": "https://localhost:8080/",
          "height": 831
        },
        "id": "5ChQbM6nSPSl",
        "outputId": "be76caa5-454c-4dee-8c9e-2dc0c987675f"
      },
      "execution_count": 72,
      "outputs": [
        {
          "output_type": "execute_result",
          "data": {
            "image/svg+xml": "<?xml version=\"1.0\" encoding=\"UTF-8\" standalone=\"no\"?>\n<!DOCTYPE svg PUBLIC \"-//W3C//DTD SVG 1.1//EN\"\n \"http://www.w3.org/Graphics/SVG/1.1/DTD/svg11.dtd\">\n<!-- Generated by graphviz version 2.43.0 (0)\n -->\n<!-- Title: Tree Pages: 1 -->\n<svg width=\"1351pt\" height=\"592pt\"\n viewBox=\"0.00 0.00 1350.50 592.00\" xmlns=\"http://www.w3.org/2000/svg\" xmlns:xlink=\"http://www.w3.org/1999/xlink\">\n<g id=\"graph0\" class=\"graph\" transform=\"scale(1 1) rotate(0) translate(4 588)\">\n<title>Tree</title>\n<polygon fill=\"white\" stroke=\"transparent\" points=\"-4,4 -4,-588 1346.5,-588 1346.5,4 -4,4\"/>\n<!-- 0 -->\n<g id=\"node1\" class=\"node\">\n<title>0</title>\n<polygon fill=\"#ffffff\" stroke=\"black\" points=\"198,-161.5 0,-161.5 0,-78.5 198,-78.5 198,-161.5\"/>\n<text text-anchor=\"middle\" x=\"99\" y=\"-146.3\" font-family=\"Helvetica,sans-Serif\" font-size=\"14.00\">Periodo entre pulsos &lt;= 1.085</text>\n<text text-anchor=\"middle\" x=\"99\" y=\"-131.3\" font-family=\"Helvetica,sans-Serif\" font-size=\"14.00\">entropy = 1.0</text>\n<text text-anchor=\"middle\" x=\"99\" y=\"-116.3\" font-family=\"Helvetica,sans-Serif\" font-size=\"14.00\">samples = 100.0%</text>\n<text text-anchor=\"middle\" x=\"99\" y=\"-101.3\" font-family=\"Helvetica,sans-Serif\" font-size=\"14.00\">value = [0.5, 0.5]</text>\n<text text-anchor=\"middle\" x=\"99\" y=\"-86.3\" font-family=\"Helvetica,sans-Serif\" font-size=\"14.00\">class = No</text>\n</g>\n<!-- 1 -->\n<g id=\"node2\" class=\"node\">\n<title>1</title>\n<polygon fill=\"#8ec7f0\" stroke=\"black\" points=\"428.5,-204.5 237.5,-204.5 237.5,-121.5 428.5,-121.5 428.5,-204.5\"/>\n<text text-anchor=\"middle\" x=\"333\" y=\"-189.3\" font-family=\"Helvetica,sans-Serif\" font-size=\"14.00\">Intensidad de pulso &lt;= 0.212</text>\n<text text-anchor=\"middle\" x=\"333\" y=\"-174.3\" font-family=\"Helvetica,sans-Serif\" font-size=\"14.00\">entropy = 0.883</text>\n<text text-anchor=\"middle\" x=\"333\" y=\"-159.3\" font-family=\"Helvetica,sans-Serif\" font-size=\"14.00\">samples = 71.6%</text>\n<text text-anchor=\"middle\" x=\"333\" y=\"-144.3\" font-family=\"Helvetica,sans-Serif\" font-size=\"14.00\">value = [0.301, 0.699]</text>\n<text text-anchor=\"middle\" x=\"333\" y=\"-129.3\" font-family=\"Helvetica,sans-Serif\" font-size=\"14.00\">class = Yes</text>\n</g>\n<!-- 0&#45;&gt;1 -->\n<g id=\"edge1\" class=\"edge\">\n<title>0&#45;&gt;1</title>\n<path fill=\"none\" stroke=\"black\" d=\"M198.05,-138.17C207.69,-139.96 217.5,-141.78 227.2,-143.58\"/>\n<polygon fill=\"black\" stroke=\"black\" points=\"226.79,-147.06 237.26,-145.44 228.06,-140.18 226.79,-147.06\"/>\n<text text-anchor=\"middle\" x=\"216.66\" y=\"-155.9\" font-family=\"Helvetica,sans-Serif\" font-size=\"14.00\">True</text>\n</g>\n<!-- 12 -->\n<g id=\"node13\" class=\"node\">\n<title>12</title>\n<polygon fill=\"#e58139\" stroke=\"black\" points=\"1330,-68 1208,-68 1208,0 1330,0 1330,-68\"/>\n<text text-anchor=\"middle\" x=\"1269\" y=\"-52.8\" font-family=\"Helvetica,sans-Serif\" font-size=\"14.00\">entropy = 0.0</text>\n<text text-anchor=\"middle\" x=\"1269\" y=\"-37.8\" font-family=\"Helvetica,sans-Serif\" font-size=\"14.00\">samples = 28.4%</text>\n<text text-anchor=\"middle\" x=\"1269\" y=\"-22.8\" font-family=\"Helvetica,sans-Serif\" font-size=\"14.00\">value = [1.0, 0.0]</text>\n<text text-anchor=\"middle\" x=\"1269\" y=\"-7.8\" font-family=\"Helvetica,sans-Serif\" font-size=\"14.00\">class = No</text>\n</g>\n<!-- 0&#45;&gt;12 -->\n<g id=\"edge12\" class=\"edge\">\n<title>0&#45;&gt;12</title>\n<path fill=\"none\" stroke=\"black\" d=\"M198.26,-101.87C334.98,-76.64 566,-34 566,-34 566,-34 566,-34 802,-34 802,-34 1066.92,-34 1197.27,-34\"/>\n<polygon fill=\"black\" stroke=\"black\" points=\"1197.56,-37.5 1207.56,-34 1197.56,-30.5 1197.56,-37.5\"/>\n<text text-anchor=\"middle\" x=\"1189.88\" y=\"-12.62\" font-family=\"Helvetica,sans-Serif\" font-size=\"14.00\">False</text>\n</g>\n<!-- 2 -->\n<g id=\"node3\" class=\"node\">\n<title>2</title>\n<polygon fill=\"#3fa0e6\" stroke=\"black\" points=\"666,-505.5 468,-505.5 468,-422.5 666,-422.5 666,-505.5\"/>\n<text text-anchor=\"middle\" x=\"567\" y=\"-490.3\" font-family=\"Helvetica,sans-Serif\" font-size=\"14.00\">Periodo entre pulsos &lt;= 0.835</text>\n<text text-anchor=\"middle\" x=\"567\" y=\"-475.3\" font-family=\"Helvetica,sans-Serif\" font-size=\"14.00\">entropy = 0.201</text>\n<text text-anchor=\"middle\" x=\"567\" y=\"-460.3\" font-family=\"Helvetica,sans-Serif\" font-size=\"14.00\">samples = 31.4%</text>\n<text text-anchor=\"middle\" x=\"567\" y=\"-445.3\" font-family=\"Helvetica,sans-Serif\" font-size=\"14.00\">value = [0.031, 0.969]</text>\n<text text-anchor=\"middle\" x=\"567\" y=\"-430.3\" font-family=\"Helvetica,sans-Serif\" font-size=\"14.00\">class = Yes</text>\n</g>\n<!-- 1&#45;&gt;2 -->\n<g id=\"edge2\" class=\"edge\">\n<title>1&#45;&gt;2</title>\n<path fill=\"none\" stroke=\"black\" d=\"M366.02,-204.54C408.28,-259.37 482.6,-355.8 527.77,-414.4\"/>\n<polygon fill=\"black\" stroke=\"black\" points=\"525.06,-416.62 533.94,-422.41 530.61,-412.35 525.06,-416.62\"/>\n</g>\n<!-- 5 -->\n<g id=\"node6\" class=\"node\">\n<title>5</title>\n<polygon fill=\"#fef9f6\" stroke=\"black\" points=\"662.5,-204.5 471.5,-204.5 471.5,-121.5 662.5,-121.5 662.5,-204.5\"/>\n<text text-anchor=\"middle\" x=\"567\" y=\"-189.3\" font-family=\"Helvetica,sans-Serif\" font-size=\"14.00\">Periodo entre pulsos &lt;= 0.88</text>\n<text text-anchor=\"middle\" x=\"567\" y=\"-174.3\" font-family=\"Helvetica,sans-Serif\" font-size=\"14.00\">entropy = 1.0</text>\n<text text-anchor=\"middle\" x=\"567\" y=\"-159.3\" font-family=\"Helvetica,sans-Serif\" font-size=\"14.00\">samples = 40.2%</text>\n<text text-anchor=\"middle\" x=\"567\" y=\"-144.3\" font-family=\"Helvetica,sans-Serif\" font-size=\"14.00\">value = [0.512, 0.488]</text>\n<text text-anchor=\"middle\" x=\"567\" y=\"-129.3\" font-family=\"Helvetica,sans-Serif\" font-size=\"14.00\">class = No</text>\n</g>\n<!-- 1&#45;&gt;5 -->\n<g id=\"edge5\" class=\"edge\">\n<title>1&#45;&gt;5</title>\n<path fill=\"none\" stroke=\"black\" d=\"M428.7,-163C439.33,-163 450.21,-163 460.97,-163\"/>\n<polygon fill=\"black\" stroke=\"black\" points=\"461.23,-166.5 471.23,-163 461.23,-159.5 461.23,-166.5\"/>\n</g>\n<!-- 3 -->\n<g id=\"node4\" class=\"node\">\n<title>3</title>\n<polygon fill=\"#e58139\" stroke=\"black\" points=\"1327.5,-584 1210.5,-584 1210.5,-516 1327.5,-516 1327.5,-584\"/>\n<text text-anchor=\"middle\" x=\"1269\" y=\"-568.8\" font-family=\"Helvetica,sans-Serif\" font-size=\"14.00\">entropy = 0.0</text>\n<text text-anchor=\"middle\" x=\"1269\" y=\"-553.8\" font-family=\"Helvetica,sans-Serif\" font-size=\"14.00\">samples = 1.0%</text>\n<text text-anchor=\"middle\" x=\"1269\" y=\"-538.8\" font-family=\"Helvetica,sans-Serif\" font-size=\"14.00\">value = [1.0, 0.0]</text>\n<text text-anchor=\"middle\" x=\"1269\" y=\"-523.8\" font-family=\"Helvetica,sans-Serif\" font-size=\"14.00\">class = No</text>\n</g>\n<!-- 2&#45;&gt;3 -->\n<g id=\"edge3\" class=\"edge\">\n<title>2&#45;&gt;3</title>\n<path fill=\"none\" stroke=\"black\" d=\"M666.07,-476.05C810.27,-493.76 1075.83,-526.39 1200.29,-541.68\"/>\n<polygon fill=\"black\" stroke=\"black\" points=\"1200.09,-545.18 1210.44,-542.93 1200.95,-538.24 1200.09,-545.18\"/>\n</g>\n<!-- 4 -->\n<g id=\"node5\" class=\"node\">\n<title>4</title>\n<polygon fill=\"#399de5\" stroke=\"black\" points=\"1330,-498 1208,-498 1208,-430 1330,-430 1330,-498\"/>\n<text text-anchor=\"middle\" x=\"1269\" y=\"-482.8\" font-family=\"Helvetica,sans-Serif\" font-size=\"14.00\">entropy = 0.0</text>\n<text text-anchor=\"middle\" x=\"1269\" y=\"-467.8\" font-family=\"Helvetica,sans-Serif\" font-size=\"14.00\">samples = 30.4%</text>\n<text text-anchor=\"middle\" x=\"1269\" y=\"-452.8\" font-family=\"Helvetica,sans-Serif\" font-size=\"14.00\">value = [0.0, 1.0]</text>\n<text text-anchor=\"middle\" x=\"1269\" y=\"-437.8\" font-family=\"Helvetica,sans-Serif\" font-size=\"14.00\">class = Yes</text>\n</g>\n<!-- 2&#45;&gt;4 -->\n<g id=\"edge4\" class=\"edge\">\n<title>2&#45;&gt;4</title>\n<path fill=\"none\" stroke=\"black\" d=\"M666.07,-464C809.17,-464 1071.79,-464 1197.42,-464\"/>\n<polygon fill=\"black\" stroke=\"black\" points=\"1197.69,-467.5 1207.69,-464 1197.69,-460.5 1197.69,-467.5\"/>\n</g>\n<!-- 6 -->\n<g id=\"node7\" class=\"node\">\n<title>6</title>\n<polygon fill=\"#9ccef2\" stroke=\"black\" points=\"900,-247.5 702,-247.5 702,-164.5 900,-164.5 900,-247.5\"/>\n<text text-anchor=\"middle\" x=\"801\" y=\"-232.3\" font-family=\"Helvetica,sans-Serif\" font-size=\"14.00\">Periodo entre pulsos &lt;= 0.805</text>\n<text text-anchor=\"middle\" x=\"801\" y=\"-217.3\" font-family=\"Helvetica,sans-Serif\" font-size=\"14.00\">entropy = 0.918</text>\n<text text-anchor=\"middle\" x=\"801\" y=\"-202.3\" font-family=\"Helvetica,sans-Serif\" font-size=\"14.00\">samples = 29.4%</text>\n<text text-anchor=\"middle\" x=\"801\" y=\"-187.3\" font-family=\"Helvetica,sans-Serif\" font-size=\"14.00\">value = [0.333, 0.667]</text>\n<text text-anchor=\"middle\" x=\"801\" y=\"-172.3\" font-family=\"Helvetica,sans-Serif\" font-size=\"14.00\">class = Yes</text>\n</g>\n<!-- 5&#45;&gt;6 -->\n<g id=\"edge6\" class=\"edge\">\n<title>5&#45;&gt;6</title>\n<path fill=\"none\" stroke=\"black\" d=\"M662.7,-180.55C672.28,-182.33 682.05,-184.14 691.76,-185.94\"/>\n<polygon fill=\"black\" stroke=\"black\" points=\"691.37,-189.43 701.84,-187.81 692.64,-182.54 691.37,-189.43\"/>\n</g>\n<!-- 11 -->\n<g id=\"node12\" class=\"node\">\n<title>11</title>\n<polygon fill=\"#e58139\" stroke=\"black\" points=\"1330,-154 1208,-154 1208,-86 1330,-86 1330,-154\"/>\n<text text-anchor=\"middle\" x=\"1269\" y=\"-138.8\" font-family=\"Helvetica,sans-Serif\" font-size=\"14.00\">entropy = 0.0</text>\n<text text-anchor=\"middle\" x=\"1269\" y=\"-123.8\" font-family=\"Helvetica,sans-Serif\" font-size=\"14.00\">samples = 10.8%</text>\n<text text-anchor=\"middle\" x=\"1269\" y=\"-108.8\" font-family=\"Helvetica,sans-Serif\" font-size=\"14.00\">value = [1.0, 0.0]</text>\n<text text-anchor=\"middle\" x=\"1269\" y=\"-93.8\" font-family=\"Helvetica,sans-Serif\" font-size=\"14.00\">class = No</text>\n</g>\n<!-- 5&#45;&gt;11 -->\n<g id=\"edge11\" class=\"edge\">\n<title>5&#45;&gt;11</title>\n<path fill=\"none\" stroke=\"black\" d=\"M662.77,-157.18C805.18,-148.43 1071.12,-132.09 1197.64,-124.32\"/>\n<polygon fill=\"black\" stroke=\"black\" points=\"1198.21,-127.79 1207.97,-123.69 1197.78,-120.81 1198.21,-127.79\"/>\n</g>\n<!-- 7 -->\n<g id=\"node8\" class=\"node\">\n<title>7</title>\n<polygon fill=\"#ffffff\" stroke=\"black\" points=\"1130.5,-333.5 939.5,-333.5 939.5,-250.5 1130.5,-250.5 1130.5,-333.5\"/>\n<text text-anchor=\"middle\" x=\"1035\" y=\"-318.3\" font-family=\"Helvetica,sans-Serif\" font-size=\"14.00\">Intensidad de pulso &lt;= 0.447</text>\n<text text-anchor=\"middle\" x=\"1035\" y=\"-303.3\" font-family=\"Helvetica,sans-Serif\" font-size=\"14.00\">entropy = 1.0</text>\n<text text-anchor=\"middle\" x=\"1035\" y=\"-288.3\" font-family=\"Helvetica,sans-Serif\" font-size=\"14.00\">samples = 19.6%</text>\n<text text-anchor=\"middle\" x=\"1035\" y=\"-273.3\" font-family=\"Helvetica,sans-Serif\" font-size=\"14.00\">value = [0.5, 0.5]</text>\n<text text-anchor=\"middle\" x=\"1035\" y=\"-258.3\" font-family=\"Helvetica,sans-Serif\" font-size=\"14.00\">class = No</text>\n</g>\n<!-- 6&#45;&gt;7 -->\n<g id=\"edge7\" class=\"edge\">\n<title>6&#45;&gt;7</title>\n<path fill=\"none\" stroke=\"black\" d=\"M900.05,-242.35C909.89,-245.99 919.91,-249.71 929.81,-253.38\"/>\n<polygon fill=\"black\" stroke=\"black\" points=\"928.67,-256.69 939.26,-256.88 931.1,-250.12 928.67,-256.69\"/>\n</g>\n<!-- 10 -->\n<g id=\"node11\" class=\"node\">\n<title>10</title>\n<polygon fill=\"#399de5\" stroke=\"black\" points=\"1327.5,-240 1210.5,-240 1210.5,-172 1327.5,-172 1327.5,-240\"/>\n<text text-anchor=\"middle\" x=\"1269\" y=\"-224.8\" font-family=\"Helvetica,sans-Serif\" font-size=\"14.00\">entropy = 0.0</text>\n<text text-anchor=\"middle\" x=\"1269\" y=\"-209.8\" font-family=\"Helvetica,sans-Serif\" font-size=\"14.00\">samples = 9.8%</text>\n<text text-anchor=\"middle\" x=\"1269\" y=\"-194.8\" font-family=\"Helvetica,sans-Serif\" font-size=\"14.00\">value = [0.0, 1.0]</text>\n<text text-anchor=\"middle\" x=\"1269\" y=\"-179.8\" font-family=\"Helvetica,sans-Serif\" font-size=\"14.00\">class = Yes</text>\n</g>\n<!-- 6&#45;&gt;10 -->\n<g id=\"edge10\" class=\"edge\">\n<title>6&#45;&gt;10</title>\n<path fill=\"none\" stroke=\"black\" d=\"M900.26,-206C990.21,-206 1120.99,-206 1199.93,-206\"/>\n<polygon fill=\"black\" stroke=\"black\" points=\"1200.25,-209.5 1210.25,-206 1200.25,-202.5 1200.25,-209.5\"/>\n</g>\n<!-- 8 -->\n<g id=\"node9\" class=\"node\">\n<title>8</title>\n<polygon fill=\"#c4e2f7\" stroke=\"black\" points=\"1342.5,-412 1195.5,-412 1195.5,-344 1342.5,-344 1342.5,-412\"/>\n<text text-anchor=\"middle\" x=\"1269\" y=\"-396.8\" font-family=\"Helvetica,sans-Serif\" font-size=\"14.00\">entropy = 0.977</text>\n<text text-anchor=\"middle\" x=\"1269\" y=\"-381.8\" font-family=\"Helvetica,sans-Serif\" font-size=\"14.00\">samples = 16.7%</text>\n<text text-anchor=\"middle\" x=\"1269\" y=\"-366.8\" font-family=\"Helvetica,sans-Serif\" font-size=\"14.00\">value = [0.412, 0.588]</text>\n<text text-anchor=\"middle\" x=\"1269\" y=\"-351.8\" font-family=\"Helvetica,sans-Serif\" font-size=\"14.00\">class = Yes</text>\n</g>\n<!-- 7&#45;&gt;8 -->\n<g id=\"edge8\" class=\"edge\">\n<title>7&#45;&gt;8</title>\n<path fill=\"none\" stroke=\"black\" d=\"M1130.7,-327.1C1148.88,-333.84 1167.79,-340.85 1185.55,-347.44\"/>\n<polygon fill=\"black\" stroke=\"black\" points=\"1184.69,-350.85 1195.28,-351.04 1187.12,-344.29 1184.69,-350.85\"/>\n</g>\n<!-- 9 -->\n<g id=\"node10\" class=\"node\">\n<title>9</title>\n<polygon fill=\"#e58139\" stroke=\"black\" points=\"1327.5,-326 1210.5,-326 1210.5,-258 1327.5,-258 1327.5,-326\"/>\n<text text-anchor=\"middle\" x=\"1269\" y=\"-310.8\" font-family=\"Helvetica,sans-Serif\" font-size=\"14.00\">entropy = 0.0</text>\n<text text-anchor=\"middle\" x=\"1269\" y=\"-295.8\" font-family=\"Helvetica,sans-Serif\" font-size=\"14.00\">samples = 2.9%</text>\n<text text-anchor=\"middle\" x=\"1269\" y=\"-280.8\" font-family=\"Helvetica,sans-Serif\" font-size=\"14.00\">value = [1.0, 0.0]</text>\n<text text-anchor=\"middle\" x=\"1269\" y=\"-265.8\" font-family=\"Helvetica,sans-Serif\" font-size=\"14.00\">class = No</text>\n</g>\n<!-- 7&#45;&gt;9 -->\n<g id=\"edge9\" class=\"edge\">\n<title>7&#45;&gt;9</title>\n<path fill=\"none\" stroke=\"black\" d=\"M1130.7,-292C1153.95,-292 1178.39,-292 1200.1,-292\"/>\n<polygon fill=\"black\" stroke=\"black\" points=\"1200.19,-295.5 1210.19,-292 1200.19,-288.5 1200.19,-295.5\"/>\n</g>\n</g>\n</svg>\n",
            "text/plain": [
              "<graphviz.sources.Source at 0x7d63143db730>"
            ]
          },
          "metadata": {},
          "execution_count": 72
        }
      ]
    },
    {
      "cell_type": "markdown",
      "source": [
        "Resultados"
      ],
      "metadata": {
        "id": "CIGkY4qvSPrB"
      }
    },
    {
      "cell_type": "code",
      "source": [
        "#Matriz de confusión\n",
        "y_pred = my_tree.predict(X_test)\n",
        "confusion_matrix = metrics.confusion_matrix(y_test, y_pred)\n",
        "accuracy = (confusion_matrix[0,0] + confusion_matrix[1,1]) / (confusion_matrix[0,0]+confusion_matrix[0,1]+confusion_matrix[1,0]+confusion_matrix[1,1])\n",
        "print('Accuracy:',accuracy)\n",
        "precision = confusion_matrix[0,0] /(confusion_matrix[0,0]+confusion_matrix[1,0])\n",
        "print(\"Precision:\",precision)\n",
        "recall = confusion_matrix[0,0] /(confusion_matrix[0,0]+confusion_matrix[0,1])\n",
        "print(\"Recall:\",recall)\n",
        "Fone = (2*precision*recall)/(precision+recall)\n",
        "print('Fone:',Fone)\n",
        "cm_display = metrics.ConfusionMatrixDisplay(confusion_matrix = confusion_matrix, display_labels = [False, True])\n",
        "cm_display.plot()\n",
        "plt.show()"
      ],
      "metadata": {
        "colab": {
          "base_uri": "https://localhost:8080/",
          "height": 518
        },
        "id": "KsjwmhgDSVm3",
        "outputId": "de8a2504-8371-437f-a431-4c60153c3f68"
      },
      "execution_count": 73,
      "outputs": [
        {
          "output_type": "stream",
          "name": "stdout",
          "text": [
            "Accuracy: 1.0\n",
            "Precision: 1.0\n",
            "Recall: 1.0\n",
            "Fone: 1.0\n"
          ]
        },
        {
          "output_type": "display_data",
          "data": {
            "text/plain": [
              "<Figure size 640x480 with 2 Axes>"
            ],
            "image/png": "[encoded data removed]"
          },
          "metadata": {}
        }
      ]
    },
    {
      "cell_type": "markdown",
      "source": [
        "### Pruebas sin el mínimo de muestras para expandir el nodo"
      ],
      "metadata": {
        "id": "BYjC0gtyS1OU"
      }
    },
    {
      "cell_type": "markdown",
      "source": [
        "#### Primera prueba.\n",
        "\n",
        "Hiper-parámetros :\n",
        "\n",
        "*   Número de niveles: 3"
      ],
      "metadata": {
        "id": "9Ek1fW5sS-cd"
      }
    },
    {
      "cell_type": "code",
      "source": [
        "my_tree = tree.DecisionTreeClassifier(criterion=\"entropy\", max_depth=3)\n",
        "my_tree.fit(x_data,y_data)\n",
        "class_names = ['No','Yes']\n",
        "myTreeData = tree.export_graphviz(my_tree, feature_names=feature_names,\n",
        " class_names=class_names, leaves_parallel=True,\n",
        " filled=True, proportion=True, rotate=True)\n",
        "graphData = graphviz.Source(myTreeData)\n",
        "graphData"
      ],
      "metadata": {
        "colab": {
          "base_uri": "https://localhost:8080/",
          "height": 581
        },
        "id": "QOt0mWtZTAMa",
        "outputId": "e6fc7ee6-4420-468d-8df7-23388de18a96"
      },
      "execution_count": 74,
      "outputs": [
        {
          "output_type": "execute_result",
          "data": {
            "image/svg+xml": "<?xml version=\"1.0\" encoding=\"UTF-8\" standalone=\"no\"?>\n<!DOCTYPE svg PUBLIC \"-//W3C//DTD SVG 1.1//EN\"\n \"http://www.w3.org/Graphics/SVG/1.1/DTD/svg11.dtd\">\n<!-- Generated by graphviz version 2.43.0 (0)\n -->\n<!-- Title: Tree Pages: 1 -->\n<svg width=\"872pt\" height=\"420pt\"\n viewBox=\"0.00 0.00 872.00 420.00\" xmlns=\"http://www.w3.org/2000/svg\" xmlns:xlink=\"http://www.w3.org/1999/xlink\">\n<g id=\"graph0\" class=\"graph\" transform=\"scale(1 1) rotate(0) translate(4 416)\">\n<title>Tree</title>\n<polygon fill=\"white\" stroke=\"transparent\" points=\"-4,4 -4,-416 868,-416 868,4 -4,4\"/>\n<!-- 0 -->\n<g id=\"node1\" class=\"node\">\n<title>0</title>\n<polygon fill=\"#ffffff\" stroke=\"black\" points=\"198,-118.5 0,-118.5 0,-35.5 198,-35.5 198,-118.5\"/>\n<text text-anchor=\"middle\" x=\"99\" y=\"-103.3\" font-family=\"Helvetica,sans-Serif\" font-size=\"14.00\">Periodo entre pulsos &lt;= 1.085</text>\n<text text-anchor=\"middle\" x=\"99\" y=\"-88.3\" font-family=\"Helvetica,sans-Serif\" font-size=\"14.00\">entropy = 1.0</text>\n<text text-anchor=\"middle\" x=\"99\" y=\"-73.3\" font-family=\"Helvetica,sans-Serif\" font-size=\"14.00\">samples = 100.0%</text>\n<text text-anchor=\"middle\" x=\"99\" y=\"-58.3\" font-family=\"Helvetica,sans-Serif\" font-size=\"14.00\">value = [0.5, 0.5]</text>\n<text text-anchor=\"middle\" x=\"99\" y=\"-43.3\" font-family=\"Helvetica,sans-Serif\" font-size=\"14.00\">class = No</text>\n</g>\n<!-- 1 -->\n<g id=\"node2\" class=\"node\">\n<title>1</title>\n<polygon fill=\"#8ec7f0\" stroke=\"black\" points=\"425,-196.5 234,-196.5 234,-113.5 425,-113.5 425,-196.5\"/>\n<text text-anchor=\"middle\" x=\"329.5\" y=\"-181.3\" font-family=\"Helvetica,sans-Serif\" font-size=\"14.00\">Intensidad de pulso &lt;= 0.212</text>\n<text text-anchor=\"middle\" x=\"329.5\" y=\"-166.3\" font-family=\"Helvetica,sans-Serif\" font-size=\"14.00\">entropy = 0.883</text>\n<text text-anchor=\"middle\" x=\"329.5\" y=\"-151.3\" font-family=\"Helvetica,sans-Serif\" font-size=\"14.00\">samples = 71.6%</text>\n<text text-anchor=\"middle\" x=\"329.5\" y=\"-136.3\" font-family=\"Helvetica,sans-Serif\" font-size=\"14.00\">value = [0.301, 0.699]</text>\n<text text-anchor=\"middle\" x=\"329.5\" y=\"-121.3\" font-family=\"Helvetica,sans-Serif\" font-size=\"14.00\">class = Yes</text>\n</g>\n<!-- 0&#45;&gt;1 -->\n<g id=\"edge1\" class=\"edge\">\n<title>0&#45;&gt;1</title>\n<path fill=\"none\" stroke=\"black\" d=\"M198.23,-110.53C206.84,-113.47 215.58,-116.45 224.24,-119.41\"/>\n<polygon fill=\"black\" stroke=\"black\" points=\"223.38,-122.81 233.97,-122.73 225.64,-116.19 223.38,-122.81\"/>\n<text text-anchor=\"middle\" x=\"211.53\" y=\"-130.05\" font-family=\"Helvetica,sans-Serif\" font-size=\"14.00\">True</text>\n</g>\n<!-- 8 -->\n<g id=\"node9\" class=\"node\">\n<title>8</title>\n<polygon fill=\"#e58139\" stroke=\"black\" points=\"851.5,-68 729.5,-68 729.5,0 851.5,0 851.5,-68\"/>\n<text text-anchor=\"middle\" x=\"790.5\" y=\"-52.8\" font-family=\"Helvetica,sans-Serif\" font-size=\"14.00\">entropy = 0.0</text>\n<text text-anchor=\"middle\" x=\"790.5\" y=\"-37.8\" font-family=\"Helvetica,sans-Serif\" font-size=\"14.00\">samples = 28.4%</text>\n<text text-anchor=\"middle\" x=\"790.5\" y=\"-22.8\" font-family=\"Helvetica,sans-Serif\" font-size=\"14.00\">value = [1.0, 0.0]</text>\n<text text-anchor=\"middle\" x=\"790.5\" y=\"-7.8\" font-family=\"Helvetica,sans-Serif\" font-size=\"14.00\">class = No</text>\n</g>\n<!-- 0&#45;&gt;8 -->\n<g id=\"edge8\" class=\"edge\">\n<title>0&#45;&gt;8</title>\n<path fill=\"none\" stroke=\"black\" d=\"M198.06,-70.88C339.09,-62.09 595.8,-46.08 719.36,-38.37\"/>\n<polygon fill=\"black\" stroke=\"black\" points=\"719.7,-41.86 729.46,-37.74 719.26,-34.87 719.7,-41.86\"/>\n<text text-anchor=\"middle\" x=\"710.72\" y=\"-17.5\" font-family=\"Helvetica,sans-Serif\" font-size=\"14.00\">False</text>\n</g>\n<!-- 2 -->\n<g id=\"node3\" class=\"node\">\n<title>2</title>\n<polygon fill=\"#3fa0e6\" stroke=\"black\" points=\"659,-333.5 461,-333.5 461,-250.5 659,-250.5 659,-333.5\"/>\n<text text-anchor=\"middle\" x=\"560\" y=\"-318.3\" font-family=\"Helvetica,sans-Serif\" font-size=\"14.00\">Periodo entre pulsos &lt;= 0.835</text>\n<text text-anchor=\"middle\" x=\"560\" y=\"-303.3\" font-family=\"Helvetica,sans-Serif\" font-size=\"14.00\">entropy = 0.201</text>\n<text text-anchor=\"middle\" x=\"560\" y=\"-288.3\" font-family=\"Helvetica,sans-Serif\" font-size=\"14.00\">samples = 31.4%</text>\n<text text-anchor=\"middle\" x=\"560\" y=\"-273.3\" font-family=\"Helvetica,sans-Serif\" font-size=\"14.00\">value = [0.031, 0.969]</text>\n<text text-anchor=\"middle\" x=\"560\" y=\"-258.3\" font-family=\"Helvetica,sans-Serif\" font-size=\"14.00\">class = Yes</text>\n</g>\n<!-- 1&#45;&gt;2 -->\n<g id=\"edge2\" class=\"edge\">\n<title>1&#45;&gt;2</title>\n<path fill=\"none\" stroke=\"black\" d=\"M399.99,-196.66C425.47,-211.94 454.48,-229.33 480.68,-245.04\"/>\n<polygon fill=\"black\" stroke=\"black\" points=\"479.07,-248.16 489.45,-250.3 482.67,-242.16 479.07,-248.16\"/>\n</g>\n<!-- 5 -->\n<g id=\"node6\" class=\"node\">\n<title>5</title>\n<polygon fill=\"#fef9f6\" stroke=\"black\" points=\"655.5,-196.5 464.5,-196.5 464.5,-113.5 655.5,-113.5 655.5,-196.5\"/>\n<text text-anchor=\"middle\" x=\"560\" y=\"-181.3\" font-family=\"Helvetica,sans-Serif\" font-size=\"14.00\">Periodo entre pulsos &lt;= 0.88</text>\n<text text-anchor=\"middle\" x=\"560\" y=\"-166.3\" font-family=\"Helvetica,sans-Serif\" font-size=\"14.00\">entropy = 1.0</text>\n<text text-anchor=\"middle\" x=\"560\" y=\"-151.3\" font-family=\"Helvetica,sans-Serif\" font-size=\"14.00\">samples = 40.2%</text>\n<text text-anchor=\"middle\" x=\"560\" y=\"-136.3\" font-family=\"Helvetica,sans-Serif\" font-size=\"14.00\">value = [0.512, 0.488]</text>\n<text text-anchor=\"middle\" x=\"560\" y=\"-121.3\" font-family=\"Helvetica,sans-Serif\" font-size=\"14.00\">class = No</text>\n</g>\n<!-- 1&#45;&gt;5 -->\n<g id=\"edge5\" class=\"edge\">\n<title>1&#45;&gt;5</title>\n<path fill=\"none\" stroke=\"black\" d=\"M425.09,-155C434.75,-155 444.6,-155 454.36,-155\"/>\n<polygon fill=\"black\" stroke=\"black\" points=\"454.48,-158.5 464.48,-155 454.48,-151.5 454.48,-158.5\"/>\n</g>\n<!-- 3 -->\n<g id=\"node4\" class=\"node\">\n<title>3</title>\n<polygon fill=\"#e58139\" stroke=\"black\" points=\"849,-412 732,-412 732,-344 849,-344 849,-412\"/>\n<text text-anchor=\"middle\" x=\"790.5\" y=\"-396.8\" font-family=\"Helvetica,sans-Serif\" font-size=\"14.00\">entropy = 0.0</text>\n<text text-anchor=\"middle\" x=\"790.5\" y=\"-381.8\" font-family=\"Helvetica,sans-Serif\" font-size=\"14.00\">samples = 1.0%</text>\n<text text-anchor=\"middle\" x=\"790.5\" y=\"-366.8\" font-family=\"Helvetica,sans-Serif\" font-size=\"14.00\">value = [1.0, 0.0]</text>\n<text text-anchor=\"middle\" x=\"790.5\" y=\"-351.8\" font-family=\"Helvetica,sans-Serif\" font-size=\"14.00\">class = No</text>\n</g>\n<!-- 2&#45;&gt;3 -->\n<g id=\"edge3\" class=\"edge\">\n<title>2&#45;&gt;3</title>\n<path fill=\"none\" stroke=\"black\" d=\"M659.23,-328.97C680.54,-336.99 702.61,-345.3 722.39,-352.74\"/>\n<polygon fill=\"black\" stroke=\"black\" points=\"721.31,-356.08 731.9,-356.32 723.78,-349.52 721.31,-356.08\"/>\n</g>\n<!-- 4 -->\n<g id=\"node5\" class=\"node\">\n<title>4</title>\n<polygon fill=\"#399de5\" stroke=\"black\" points=\"851.5,-326 729.5,-326 729.5,-258 851.5,-258 851.5,-326\"/>\n<text text-anchor=\"middle\" x=\"790.5\" y=\"-310.8\" font-family=\"Helvetica,sans-Serif\" font-size=\"14.00\">entropy = 0.0</text>\n<text text-anchor=\"middle\" x=\"790.5\" y=\"-295.8\" font-family=\"Helvetica,sans-Serif\" font-size=\"14.00\">samples = 30.4%</text>\n<text text-anchor=\"middle\" x=\"790.5\" y=\"-280.8\" font-family=\"Helvetica,sans-Serif\" font-size=\"14.00\">value = [0.0, 1.0]</text>\n<text text-anchor=\"middle\" x=\"790.5\" y=\"-265.8\" font-family=\"Helvetica,sans-Serif\" font-size=\"14.00\">class = Yes</text>\n</g>\n<!-- 2&#45;&gt;4 -->\n<g id=\"edge4\" class=\"edge\">\n<title>2&#45;&gt;4</title>\n<path fill=\"none\" stroke=\"black\" d=\"M659.23,-292C679.43,-292 700.31,-292 719.28,-292\"/>\n<polygon fill=\"black\" stroke=\"black\" points=\"719.31,-295.5 729.31,-292 719.31,-288.5 719.31,-295.5\"/>\n</g>\n<!-- 6 -->\n<g id=\"node7\" class=\"node\">\n<title>6</title>\n<polygon fill=\"#9ccef2\" stroke=\"black\" points=\"864,-240 717,-240 717,-172 864,-172 864,-240\"/>\n<text text-anchor=\"middle\" x=\"790.5\" y=\"-224.8\" font-family=\"Helvetica,sans-Serif\" font-size=\"14.00\">entropy = 0.918</text>\n<text text-anchor=\"middle\" x=\"790.5\" y=\"-209.8\" font-family=\"Helvetica,sans-Serif\" font-size=\"14.00\">samples = 29.4%</text>\n<text text-anchor=\"middle\" x=\"790.5\" y=\"-194.8\" font-family=\"Helvetica,sans-Serif\" font-size=\"14.00\">value = [0.333, 0.667]</text>\n<text text-anchor=\"middle\" x=\"790.5\" y=\"-179.8\" font-family=\"Helvetica,sans-Serif\" font-size=\"14.00\">class = Yes</text>\n</g>\n<!-- 5&#45;&gt;6 -->\n<g id=\"edge6\" class=\"edge\">\n<title>5&#45;&gt;6</title>\n<path fill=\"none\" stroke=\"black\" d=\"M655.59,-176.11C672.57,-179.9 690.15,-183.82 706.76,-187.53\"/>\n<polygon fill=\"black\" stroke=\"black\" points=\"706.44,-191.05 716.96,-189.81 707.97,-184.22 706.44,-191.05\"/>\n</g>\n<!-- 7 -->\n<g id=\"node8\" class=\"node\">\n<title>7</title>\n<polygon fill=\"#e58139\" stroke=\"black\" points=\"851.5,-154 729.5,-154 729.5,-86 851.5,-86 851.5,-154\"/>\n<text text-anchor=\"middle\" x=\"790.5\" y=\"-138.8\" font-family=\"Helvetica,sans-Serif\" font-size=\"14.00\">entropy = 0.0</text>\n<text text-anchor=\"middle\" x=\"790.5\" y=\"-123.8\" font-family=\"Helvetica,sans-Serif\" font-size=\"14.00\">samples = 10.8%</text>\n<text text-anchor=\"middle\" x=\"790.5\" y=\"-108.8\" font-family=\"Helvetica,sans-Serif\" font-size=\"14.00\">value = [1.0, 0.0]</text>\n<text text-anchor=\"middle\" x=\"790.5\" y=\"-93.8\" font-family=\"Helvetica,sans-Serif\" font-size=\"14.00\">class = No</text>\n</g>\n<!-- 5&#45;&gt;7 -->\n<g id=\"edge7\" class=\"edge\">\n<title>5&#45;&gt;7</title>\n<path fill=\"none\" stroke=\"black\" d=\"M655.59,-140.51C676.91,-137.25 699.17,-133.84 719.29,-130.75\"/>\n<polygon fill=\"black\" stroke=\"black\" points=\"719.93,-134.2 729.28,-129.22 718.87,-127.28 719.93,-134.2\"/>\n</g>\n</g>\n</svg>\n",
            "text/plain": [
              "<graphviz.sources.Source at 0x7d631415cb50>"
            ]
          },
          "metadata": {},
          "execution_count": 74
        }
      ]
    },
    {
      "cell_type": "markdown",
      "source": [
        "Resultados"
      ],
      "metadata": {
        "id": "HmvB7xL9TApz"
      }
    },
    {
      "cell_type": "code",
      "source": [
        "#Matriz de confusión\n",
        "y_pred = my_tree.predict(X_test)\n",
        "confusion_matrix = metrics.confusion_matrix(y_test, y_pred)\n",
        "accuracy = (confusion_matrix[0,0] + confusion_matrix[1,1]) / (confusion_matrix[0,0]+confusion_matrix[0,1]+confusion_matrix[1,0]+confusion_matrix[1,1])\n",
        "print('Accuracy:',accuracy)\n",
        "precision = confusion_matrix[0,0] /(confusion_matrix[0,0]+confusion_matrix[1,0])\n",
        "print(\"Precision:\",precision)\n",
        "recall = confusion_matrix[0,0] /(confusion_matrix[0,0]+confusion_matrix[0,1])\n",
        "print(\"Recall:\",recall)\n",
        "Fone = (2*precision*recall)/(precision+recall)\n",
        "print('Fone:',Fone)\n",
        "cm_display = metrics.ConfusionMatrixDisplay(confusion_matrix = confusion_matrix, display_labels = [False, True])\n",
        "cm_display.plot()\n",
        "plt.show()"
      ],
      "metadata": {
        "colab": {
          "base_uri": "https://localhost:8080/",
          "height": 518
        },
        "id": "njR2oC6-TBAk",
        "outputId": "2b25daa9-cf2e-4b42-8aa1-569d892a5193"
      },
      "execution_count": 75,
      "outputs": [
        {
          "output_type": "stream",
          "name": "stdout",
          "text": [
            "Accuracy: 1.0\n",
            "Precision: 1.0\n",
            "Recall: 1.0\n",
            "Fone: 1.0\n"
          ]
        },
        {
          "output_type": "display_data",
          "data": {
            "text/plain": [
              "<Figure size 640x480 with 2 Axes>"
            ],
            "image/png": "[encoded data removed]"
          },
          "metadata": {}
        }
      ]
    },
    {
      "cell_type": "markdown",
      "source": [
        "#### Segunda prueba.\n",
        "\n",
        "Hiper-parámetros :\n",
        "\n",
        "*   Número de niveles: 4"
      ],
      "metadata": {
        "id": "XoBp1eTiTCGT"
      }
    },
    {
      "cell_type": "code",
      "source": [
        "my_tree = tree.DecisionTreeClassifier(criterion=\"entropy\", max_depth=4)\n",
        "my_tree.fit(x_data,y_data)\n",
        "class_names = ['No','Yes']\n",
        "myTreeData = tree.export_graphviz(my_tree, feature_names=feature_names,\n",
        " class_names=class_names, leaves_parallel=True,\n",
        " filled=True, proportion=True, rotate=True)\n",
        "graphData = graphviz.Source(myTreeData)\n",
        "graphData"
      ],
      "metadata": {
        "colab": {
          "base_uri": "https://localhost:8080/",
          "height": 696
        },
        "id": "6HjICtFPTG44",
        "outputId": "63f17a35-3342-4b16-81ea-651ac0ecf640"
      },
      "execution_count": 76,
      "outputs": [
        {
          "output_type": "execute_result",
          "data": {
            "image/svg+xml": "<?xml version=\"1.0\" encoding=\"UTF-8\" standalone=\"no\"?>\n<!DOCTYPE svg PUBLIC \"-//W3C//DTD SVG 1.1//EN\"\n \"http://www.w3.org/Graphics/SVG/1.1/DTD/svg11.dtd\">\n<!-- Generated by graphviz version 2.43.0 (0)\n -->\n<!-- Title: Tree Pages: 1 -->\n<svg width=\"1090pt\" height=\"506pt\"\n viewBox=\"0.00 0.00 1090.00 506.00\" xmlns=\"http://www.w3.org/2000/svg\" xmlns:xlink=\"http://www.w3.org/1999/xlink\">\n<g id=\"graph0\" class=\"graph\" transform=\"scale(1 1) rotate(0) translate(4 502)\">\n<title>Tree</title>\n<polygon fill=\"white\" stroke=\"transparent\" points=\"-4,4 -4,-502 1086,-502 1086,4 -4,4\"/>\n<!-- 0 -->\n<g id=\"node1\" class=\"node\">\n<title>0</title>\n<polygon fill=\"#ffffff\" stroke=\"black\" points=\"198,-161.5 0,-161.5 0,-78.5 198,-78.5 198,-161.5\"/>\n<text text-anchor=\"middle\" x=\"99\" y=\"-146.3\" font-family=\"Helvetica,sans-Serif\" font-size=\"14.00\">Periodo entre pulsos &lt;= 1.085</text>\n<text text-anchor=\"middle\" x=\"99\" y=\"-131.3\" font-family=\"Helvetica,sans-Serif\" font-size=\"14.00\">entropy = 1.0</text>\n<text text-anchor=\"middle\" x=\"99\" y=\"-116.3\" font-family=\"Helvetica,sans-Serif\" font-size=\"14.00\">samples = 100.0%</text>\n<text text-anchor=\"middle\" x=\"99\" y=\"-101.3\" font-family=\"Helvetica,sans-Serif\" font-size=\"14.00\">value = [0.5, 0.5]</text>\n<text text-anchor=\"middle\" x=\"99\" y=\"-86.3\" font-family=\"Helvetica,sans-Serif\" font-size=\"14.00\">class = No</text>\n</g>\n<!-- 1 -->\n<g id=\"node2\" class=\"node\">\n<title>1</title>\n<polygon fill=\"#8ec7f0\" stroke=\"black\" points=\"425,-204.5 234,-204.5 234,-121.5 425,-121.5 425,-204.5\"/>\n<text text-anchor=\"middle\" x=\"329.5\" y=\"-189.3\" font-family=\"Helvetica,sans-Serif\" font-size=\"14.00\">Intensidad de pulso &lt;= 0.212</text>\n<text text-anchor=\"middle\" x=\"329.5\" y=\"-174.3\" font-family=\"Helvetica,sans-Serif\" font-size=\"14.00\">entropy = 0.883</text>\n<text text-anchor=\"middle\" x=\"329.5\" y=\"-159.3\" font-family=\"Helvetica,sans-Serif\" font-size=\"14.00\">samples = 71.6%</text>\n<text text-anchor=\"middle\" x=\"329.5\" y=\"-144.3\" font-family=\"Helvetica,sans-Serif\" font-size=\"14.00\">value = [0.301, 0.699]</text>\n<text text-anchor=\"middle\" x=\"329.5\" y=\"-129.3\" font-family=\"Helvetica,sans-Serif\" font-size=\"14.00\">class = Yes</text>\n</g>\n<!-- 0&#45;&gt;1 -->\n<g id=\"edge1\" class=\"edge\">\n<title>0&#45;&gt;1</title>\n<path fill=\"none\" stroke=\"black\" d=\"M198.23,-138.49C206.75,-140.09 215.39,-141.71 223.96,-143.33\"/>\n<polygon fill=\"black\" stroke=\"black\" points=\"223.5,-146.8 233.97,-145.21 224.79,-139.92 223.5,-146.8\"/>\n<text text-anchor=\"middle\" x=\"213.33\" y=\"-155.61\" font-family=\"Helvetica,sans-Serif\" font-size=\"14.00\">True</text>\n</g>\n<!-- 10 -->\n<g id=\"node11\" class=\"node\">\n<title>10</title>\n<polygon fill=\"#e58139\" stroke=\"black\" points=\"1082,-68 960,-68 960,0 1082,0 1082,-68\"/>\n<text text-anchor=\"middle\" x=\"1021\" y=\"-52.8\" font-family=\"Helvetica,sans-Serif\" font-size=\"14.00\">entropy = 0.0</text>\n<text text-anchor=\"middle\" x=\"1021\" y=\"-37.8\" font-family=\"Helvetica,sans-Serif\" font-size=\"14.00\">samples = 28.4%</text>\n<text text-anchor=\"middle\" x=\"1021\" y=\"-22.8\" font-family=\"Helvetica,sans-Serif\" font-size=\"14.00\">value = [1.0, 0.0]</text>\n<text text-anchor=\"middle\" x=\"1021\" y=\"-7.8\" font-family=\"Helvetica,sans-Serif\" font-size=\"14.00\">class = No</text>\n</g>\n<!-- 0&#45;&gt;10 -->\n<g id=\"edge10\" class=\"edge\">\n<title>0&#45;&gt;10</title>\n<path fill=\"none\" stroke=\"black\" d=\"M198.02,-110.84C384.56,-93.4 786.52,-55.82 949.35,-40.6\"/>\n<polygon fill=\"black\" stroke=\"black\" points=\"950.1,-44.05 959.73,-39.63 949.45,-37.08 950.1,-44.05\"/>\n<text text-anchor=\"middle\" x=\"940.48\" y=\"-19.98\" font-family=\"Helvetica,sans-Serif\" font-size=\"14.00\">False</text>\n</g>\n<!-- 2 -->\n<g id=\"node3\" class=\"node\">\n<title>2</title>\n<polygon fill=\"#3fa0e6\" stroke=\"black\" points=\"659,-419.5 461,-419.5 461,-336.5 659,-336.5 659,-419.5\"/>\n<text text-anchor=\"middle\" x=\"560\" y=\"-404.3\" font-family=\"Helvetica,sans-Serif\" font-size=\"14.00\">Periodo entre pulsos &lt;= 0.835</text>\n<text text-anchor=\"middle\" x=\"560\" y=\"-389.3\" font-family=\"Helvetica,sans-Serif\" font-size=\"14.00\">entropy = 0.201</text>\n<text text-anchor=\"middle\" x=\"560\" y=\"-374.3\" font-family=\"Helvetica,sans-Serif\" font-size=\"14.00\">samples = 31.4%</text>\n<text text-anchor=\"middle\" x=\"560\" y=\"-359.3\" font-family=\"Helvetica,sans-Serif\" font-size=\"14.00\">value = [0.031, 0.969]</text>\n<text text-anchor=\"middle\" x=\"560\" y=\"-344.3\" font-family=\"Helvetica,sans-Serif\" font-size=\"14.00\">class = Yes</text>\n</g>\n<!-- 1&#45;&gt;2 -->\n<g id=\"edge2\" class=\"edge\">\n<title>1&#45;&gt;2</title>\n<path fill=\"none\" stroke=\"black\" d=\"M374.83,-204.71C412.67,-240.31 467.14,-291.56 507.02,-329.09\"/>\n<polygon fill=\"black\" stroke=\"black\" points=\"505.11,-332.1 514.8,-336.41 509.91,-327.01 505.11,-332.1\"/>\n</g>\n<!-- 5 -->\n<g id=\"node6\" class=\"node\">\n<title>5</title>\n<polygon fill=\"#fef9f6\" stroke=\"black\" points=\"655.5,-204.5 464.5,-204.5 464.5,-121.5 655.5,-121.5 655.5,-204.5\"/>\n<text text-anchor=\"middle\" x=\"560\" y=\"-189.3\" font-family=\"Helvetica,sans-Serif\" font-size=\"14.00\">Periodo entre pulsos &lt;= 0.88</text>\n<text text-anchor=\"middle\" x=\"560\" y=\"-174.3\" font-family=\"Helvetica,sans-Serif\" font-size=\"14.00\">entropy = 1.0</text>\n<text text-anchor=\"middle\" x=\"560\" y=\"-159.3\" font-family=\"Helvetica,sans-Serif\" font-size=\"14.00\">samples = 40.2%</text>\n<text text-anchor=\"middle\" x=\"560\" y=\"-144.3\" font-family=\"Helvetica,sans-Serif\" font-size=\"14.00\">value = [0.512, 0.488]</text>\n<text text-anchor=\"middle\" x=\"560\" y=\"-129.3\" font-family=\"Helvetica,sans-Serif\" font-size=\"14.00\">class = No</text>\n</g>\n<!-- 1&#45;&gt;5 -->\n<g id=\"edge5\" class=\"edge\">\n<title>1&#45;&gt;5</title>\n<path fill=\"none\" stroke=\"black\" d=\"M425.09,-163C434.75,-163 444.6,-163 454.36,-163\"/>\n<polygon fill=\"black\" stroke=\"black\" points=\"454.48,-166.5 464.48,-163 454.48,-159.5 454.48,-166.5\"/>\n</g>\n<!-- 3 -->\n<g id=\"node4\" class=\"node\">\n<title>3</title>\n<polygon fill=\"#e58139\" stroke=\"black\" points=\"1079.5,-498 962.5,-498 962.5,-430 1079.5,-430 1079.5,-498\"/>\n<text text-anchor=\"middle\" x=\"1021\" y=\"-482.8\" font-family=\"Helvetica,sans-Serif\" font-size=\"14.00\">entropy = 0.0</text>\n<text text-anchor=\"middle\" x=\"1021\" y=\"-467.8\" font-family=\"Helvetica,sans-Serif\" font-size=\"14.00\">samples = 1.0%</text>\n<text text-anchor=\"middle\" x=\"1021\" y=\"-452.8\" font-family=\"Helvetica,sans-Serif\" font-size=\"14.00\">value = [1.0, 0.0]</text>\n<text text-anchor=\"middle\" x=\"1021\" y=\"-437.8\" font-family=\"Helvetica,sans-Serif\" font-size=\"14.00\">class = No</text>\n</g>\n<!-- 2&#45;&gt;3 -->\n<g id=\"edge3\" class=\"edge\">\n<title>2&#45;&gt;3</title>\n<path fill=\"none\" stroke=\"black\" d=\"M659.19,-396.4C747.4,-412.92 874.62,-436.76 952.05,-451.27\"/>\n<polygon fill=\"black\" stroke=\"black\" points=\"951.7,-454.76 962.18,-453.17 952.99,-447.88 951.7,-454.76\"/>\n</g>\n<!-- 4 -->\n<g id=\"node5\" class=\"node\">\n<title>4</title>\n<polygon fill=\"#399de5\" stroke=\"black\" points=\"1082,-412 960,-412 960,-344 1082,-344 1082,-412\"/>\n<text text-anchor=\"middle\" x=\"1021\" y=\"-396.8\" font-family=\"Helvetica,sans-Serif\" font-size=\"14.00\">entropy = 0.0</text>\n<text text-anchor=\"middle\" x=\"1021\" y=\"-381.8\" font-family=\"Helvetica,sans-Serif\" font-size=\"14.00\">samples = 30.4%</text>\n<text text-anchor=\"middle\" x=\"1021\" y=\"-366.8\" font-family=\"Helvetica,sans-Serif\" font-size=\"14.00\">value = [0.0, 1.0]</text>\n<text text-anchor=\"middle\" x=\"1021\" y=\"-351.8\" font-family=\"Helvetica,sans-Serif\" font-size=\"14.00\">class = Yes</text>\n</g>\n<!-- 2&#45;&gt;4 -->\n<g id=\"edge4\" class=\"edge\">\n<title>2&#45;&gt;4</title>\n<path fill=\"none\" stroke=\"black\" d=\"M659.19,-378C746.52,-378 872.08,-378 949.72,-378\"/>\n<polygon fill=\"black\" stroke=\"black\" points=\"949.88,-381.5 959.88,-378 949.88,-374.5 949.88,-381.5\"/>\n</g>\n<!-- 6 -->\n<g id=\"node7\" class=\"node\">\n<title>6</title>\n<polygon fill=\"#9ccef2\" stroke=\"black\" points=\"886,-247.5 695,-247.5 695,-164.5 886,-164.5 886,-247.5\"/>\n<text text-anchor=\"middle\" x=\"790.5\" y=\"-232.3\" font-family=\"Helvetica,sans-Serif\" font-size=\"14.00\">Intensidad de pulso &lt;= 0.303</text>\n<text text-anchor=\"middle\" x=\"790.5\" y=\"-217.3\" font-family=\"Helvetica,sans-Serif\" font-size=\"14.00\">entropy = 0.918</text>\n<text text-anchor=\"middle\" x=\"790.5\" y=\"-202.3\" font-family=\"Helvetica,sans-Serif\" font-size=\"14.00\">samples = 29.4%</text>\n<text text-anchor=\"middle\" x=\"790.5\" y=\"-187.3\" font-family=\"Helvetica,sans-Serif\" font-size=\"14.00\">value = [0.333, 0.667]</text>\n<text text-anchor=\"middle\" x=\"790.5\" y=\"-172.3\" font-family=\"Helvetica,sans-Serif\" font-size=\"14.00\">class = Yes</text>\n</g>\n<!-- 5&#45;&gt;6 -->\n<g id=\"edge6\" class=\"edge\">\n<title>5&#45;&gt;6</title>\n<path fill=\"none\" stroke=\"black\" d=\"M655.59,-180.8C665.25,-182.62 675.1,-184.47 684.86,-186.31\"/>\n<polygon fill=\"black\" stroke=\"black\" points=\"684.51,-189.8 694.98,-188.21 685.8,-182.92 684.51,-189.8\"/>\n</g>\n<!-- 9 -->\n<g id=\"node10\" class=\"node\">\n<title>9</title>\n<polygon fill=\"#e58139\" stroke=\"black\" points=\"1082,-154 960,-154 960,-86 1082,-86 1082,-154\"/>\n<text text-anchor=\"middle\" x=\"1021\" y=\"-138.8\" font-family=\"Helvetica,sans-Serif\" font-size=\"14.00\">entropy = 0.0</text>\n<text text-anchor=\"middle\" x=\"1021\" y=\"-123.8\" font-family=\"Helvetica,sans-Serif\" font-size=\"14.00\">samples = 10.8%</text>\n<text text-anchor=\"middle\" x=\"1021\" y=\"-108.8\" font-family=\"Helvetica,sans-Serif\" font-size=\"14.00\">value = [1.0, 0.0]</text>\n<text text-anchor=\"middle\" x=\"1021\" y=\"-93.8\" font-family=\"Helvetica,sans-Serif\" font-size=\"14.00\">class = No</text>\n</g>\n<!-- 5&#45;&gt;9 -->\n<g id=\"edge9\" class=\"edge\">\n<title>5&#45;&gt;9</title>\n<path fill=\"none\" stroke=\"black\" d=\"M655.55,-154.14C742.95,-145.95 870.86,-133.97 949.59,-126.6\"/>\n<polygon fill=\"black\" stroke=\"black\" points=\"950.26,-130.05 959.89,-125.63 949.6,-123.08 950.26,-130.05\"/>\n</g>\n<!-- 7 -->\n<g id=\"node8\" class=\"node\">\n<title>7</title>\n<polygon fill=\"#399de5\" stroke=\"black\" points=\"1079.5,-326 962.5,-326 962.5,-258 1079.5,-258 1079.5,-326\"/>\n<text text-anchor=\"middle\" x=\"1021\" y=\"-310.8\" font-family=\"Helvetica,sans-Serif\" font-size=\"14.00\">entropy = 0.0</text>\n<text text-anchor=\"middle\" x=\"1021\" y=\"-295.8\" font-family=\"Helvetica,sans-Serif\" font-size=\"14.00\">samples = 9.8%</text>\n<text text-anchor=\"middle\" x=\"1021\" y=\"-280.8\" font-family=\"Helvetica,sans-Serif\" font-size=\"14.00\">value = [0.0, 1.0]</text>\n<text text-anchor=\"middle\" x=\"1021\" y=\"-265.8\" font-family=\"Helvetica,sans-Serif\" font-size=\"14.00\">class = Yes</text>\n</g>\n<!-- 6&#45;&gt;7 -->\n<g id=\"edge7\" class=\"edge\">\n<title>6&#45;&gt;7</title>\n<path fill=\"none\" stroke=\"black\" d=\"M886.09,-241.6C908.55,-250.06 932.07,-258.9 953.01,-266.79\"/>\n<polygon fill=\"black\" stroke=\"black\" points=\"951.84,-270.09 962.43,-270.33 954.31,-263.54 951.84,-270.09\"/>\n</g>\n<!-- 8 -->\n<g id=\"node9\" class=\"node\">\n<title>8</title>\n<polygon fill=\"#ffffff\" stroke=\"black\" points=\"1082,-240 960,-240 960,-172 1082,-172 1082,-240\"/>\n<text text-anchor=\"middle\" x=\"1021\" y=\"-224.8\" font-family=\"Helvetica,sans-Serif\" font-size=\"14.00\">entropy = 1.0</text>\n<text text-anchor=\"middle\" x=\"1021\" y=\"-209.8\" font-family=\"Helvetica,sans-Serif\" font-size=\"14.00\">samples = 19.6%</text>\n<text text-anchor=\"middle\" x=\"1021\" y=\"-194.8\" font-family=\"Helvetica,sans-Serif\" font-size=\"14.00\">value = [0.5, 0.5]</text>\n<text text-anchor=\"middle\" x=\"1021\" y=\"-179.8\" font-family=\"Helvetica,sans-Serif\" font-size=\"14.00\">class = No</text>\n</g>\n<!-- 6&#45;&gt;8 -->\n<g id=\"edge8\" class=\"edge\">\n<title>6&#45;&gt;8</title>\n<path fill=\"none\" stroke=\"black\" d=\"M886.09,-206C907.31,-206 929.47,-206 949.51,-206\"/>\n<polygon fill=\"black\" stroke=\"black\" points=\"949.78,-209.5 959.78,-206 949.78,-202.5 949.78,-209.5\"/>\n</g>\n</g>\n</svg>\n",
            "text/plain": [
              "<graphviz.sources.Source at 0x7d63141b2530>"
            ]
          },
          "metadata": {},
          "execution_count": 76
        }
      ]
    },
    {
      "cell_type": "markdown",
      "source": [
        "Resultados"
      ],
      "metadata": {
        "id": "IukWrjbWTHIB"
      }
    },
    {
      "cell_type": "code",
      "source": [
        "#Matriz de confusión\n",
        "y_pred = my_tree.predict(X_test)\n",
        "confusion_matrix = metrics.confusion_matrix(y_test, y_pred)\n",
        "accuracy = (confusion_matrix[0,0] + confusion_matrix[1,1]) / (confusion_matrix[0,0]+confusion_matrix[0,1]+confusion_matrix[1,0]+confusion_matrix[1,1])\n",
        "print('Accuracy:',accuracy)\n",
        "precision = confusion_matrix[0,0] /(confusion_matrix[0,0]+confusion_matrix[1,0])\n",
        "print(\"Precision:\",precision)\n",
        "recall = confusion_matrix[0,0] /(confusion_matrix[0,0]+confusion_matrix[0,1])\n",
        "print(\"Recall:\",recall)\n",
        "Fone = (2*precision*recall)/(precision+recall)\n",
        "print('Fone:',Fone)\n",
        "cm_display = metrics.ConfusionMatrixDisplay(confusion_matrix = confusion_matrix, display_labels = [False, True])\n",
        "cm_display.plot()\n",
        "plt.show()"
      ],
      "metadata": {
        "colab": {
          "base_uri": "https://localhost:8080/",
          "height": 518
        },
        "id": "rb01uJ2bTIba",
        "outputId": "4c07ddb0-65fd-41ea-bdbb-1c99051590e8"
      },
      "execution_count": 77,
      "outputs": [
        {
          "output_type": "stream",
          "name": "stdout",
          "text": [
            "Accuracy: 0.9523809523809523\n",
            "Precision: 0.9166666666666666\n",
            "Recall: 1.0\n",
            "Fone: 0.9565217391304348\n"
          ]
        },
        {
          "output_type": "display_data",
          "data": {
            "text/plain": [
              "<Figure size 640x480 with 2 Axes>"
            ],
            "image/png": "[encoded data removed]"
          },
          "metadata": {}
        }
      ]
    },
    {
      "cell_type": "markdown",
      "source": [
        "#### Tercera prueba.\n",
        "\n",
        "Hiper-parámetros :\n",
        "\n",
        "*   Número de niveles: 5"
      ],
      "metadata": {
        "id": "ZB8FveywTI2p"
      }
    },
    {
      "cell_type": "code",
      "source": [
        "my_tree = tree.DecisionTreeClassifier(criterion=\"entropy\", max_depth=5)\n",
        "my_tree.fit(x_data,y_data)\n",
        "class_names = ['No','Yes']\n",
        "myTreeData = tree.export_graphviz(my_tree, feature_names=feature_names,\n",
        " class_names=class_names, leaves_parallel=True,\n",
        " filled=True, proportion=True, rotate=True)\n",
        "graphData = graphviz.Source(myTreeData)\n",
        "graphData"
      ],
      "metadata": {
        "colab": {
          "base_uri": "https://localhost:8080/",
          "height": 831
        },
        "id": "F8R0ejJVTMl2",
        "outputId": "05b16a9e-1133-47d4-fa1e-f128165c45af"
      },
      "execution_count": 78,
      "outputs": [
        {
          "output_type": "execute_result",
          "data": {
            "image/svg+xml": "<?xml version=\"1.0\" encoding=\"UTF-8\" standalone=\"no\"?>\n<!DOCTYPE svg PUBLIC \"-//W3C//DTD SVG 1.1//EN\"\n \"http://www.w3.org/Graphics/SVG/1.1/DTD/svg11.dtd\">\n<!-- Generated by graphviz version 2.43.0 (0)\n -->\n<!-- Title: Tree Pages: 1 -->\n<svg width=\"1351pt\" height=\"592pt\"\n viewBox=\"0.00 0.00 1350.50 592.00\" xmlns=\"http://www.w3.org/2000/svg\" xmlns:xlink=\"http://www.w3.org/1999/xlink\">\n<g id=\"graph0\" class=\"graph\" transform=\"scale(1 1) rotate(0) translate(4 588)\">\n<title>Tree</title>\n<polygon fill=\"white\" stroke=\"transparent\" points=\"-4,4 -4,-588 1346.5,-588 1346.5,4 -4,4\"/>\n<!-- 0 -->\n<g id=\"node1\" class=\"node\">\n<title>0</title>\n<polygon fill=\"#ffffff\" stroke=\"black\" points=\"198,-161.5 0,-161.5 0,-78.5 198,-78.5 198,-161.5\"/>\n<text text-anchor=\"middle\" x=\"99\" y=\"-146.3\" font-family=\"Helvetica,sans-Serif\" font-size=\"14.00\">Periodo entre pulsos &lt;= 1.085</text>\n<text text-anchor=\"middle\" x=\"99\" y=\"-131.3\" font-family=\"Helvetica,sans-Serif\" font-size=\"14.00\">entropy = 1.0</text>\n<text text-anchor=\"middle\" x=\"99\" y=\"-116.3\" font-family=\"Helvetica,sans-Serif\" font-size=\"14.00\">samples = 100.0%</text>\n<text text-anchor=\"middle\" x=\"99\" y=\"-101.3\" font-family=\"Helvetica,sans-Serif\" font-size=\"14.00\">value = [0.5, 0.5]</text>\n<text text-anchor=\"middle\" x=\"99\" y=\"-86.3\" font-family=\"Helvetica,sans-Serif\" font-size=\"14.00\">class = No</text>\n</g>\n<!-- 1 -->\n<g id=\"node2\" class=\"node\">\n<title>1</title>\n<polygon fill=\"#8ec7f0\" stroke=\"black\" points=\"428.5,-204.5 237.5,-204.5 237.5,-121.5 428.5,-121.5 428.5,-204.5\"/>\n<text text-anchor=\"middle\" x=\"333\" y=\"-189.3\" font-family=\"Helvetica,sans-Serif\" font-size=\"14.00\">Intensidad de pulso &lt;= 0.212</text>\n<text text-anchor=\"middle\" x=\"333\" y=\"-174.3\" font-family=\"Helvetica,sans-Serif\" font-size=\"14.00\">entropy = 0.883</text>\n<text text-anchor=\"middle\" x=\"333\" y=\"-159.3\" font-family=\"Helvetica,sans-Serif\" font-size=\"14.00\">samples = 71.6%</text>\n<text text-anchor=\"middle\" x=\"333\" y=\"-144.3\" font-family=\"Helvetica,sans-Serif\" font-size=\"14.00\">value = [0.301, 0.699]</text>\n<text text-anchor=\"middle\" x=\"333\" y=\"-129.3\" font-family=\"Helvetica,sans-Serif\" font-size=\"14.00\">class = Yes</text>\n</g>\n<!-- 0&#45;&gt;1 -->\n<g id=\"edge1\" class=\"edge\">\n<title>0&#45;&gt;1</title>\n<path fill=\"none\" stroke=\"black\" d=\"M198.05,-138.17C207.69,-139.96 217.5,-141.78 227.2,-143.58\"/>\n<polygon fill=\"black\" stroke=\"black\" points=\"226.79,-147.06 237.26,-145.44 228.06,-140.18 226.79,-147.06\"/>\n<text text-anchor=\"middle\" x=\"216.66\" y=\"-155.9\" font-family=\"Helvetica,sans-Serif\" font-size=\"14.00\">True</text>\n</g>\n<!-- 12 -->\n<g id=\"node13\" class=\"node\">\n<title>12</title>\n<polygon fill=\"#e58139\" stroke=\"black\" points=\"1330,-68 1208,-68 1208,0 1330,0 1330,-68\"/>\n<text text-anchor=\"middle\" x=\"1269\" y=\"-52.8\" font-family=\"Helvetica,sans-Serif\" font-size=\"14.00\">entropy = 0.0</text>\n<text text-anchor=\"middle\" x=\"1269\" y=\"-37.8\" font-family=\"Helvetica,sans-Serif\" font-size=\"14.00\">samples = 28.4%</text>\n<text text-anchor=\"middle\" x=\"1269\" y=\"-22.8\" font-family=\"Helvetica,sans-Serif\" font-size=\"14.00\">value = [1.0, 0.0]</text>\n<text text-anchor=\"middle\" x=\"1269\" y=\"-7.8\" font-family=\"Helvetica,sans-Serif\" font-size=\"14.00\">class = No</text>\n</g>\n<!-- 0&#45;&gt;12 -->\n<g id=\"edge12\" class=\"edge\">\n<title>0&#45;&gt;12</title>\n<path fill=\"none\" stroke=\"black\" d=\"M198.26,-101.87C334.98,-76.64 566,-34 566,-34 566,-34 566,-34 802,-34 802,-34 1066.92,-34 1197.27,-34\"/>\n<polygon fill=\"black\" stroke=\"black\" points=\"1197.56,-37.5 1207.56,-34 1197.56,-30.5 1197.56,-37.5\"/>\n<text text-anchor=\"middle\" x=\"1189.88\" y=\"-12.62\" font-family=\"Helvetica,sans-Serif\" font-size=\"14.00\">False</text>\n</g>\n<!-- 2 -->\n<g id=\"node3\" class=\"node\">\n<title>2</title>\n<polygon fill=\"#3fa0e6\" stroke=\"black\" points=\"666,-505.5 468,-505.5 468,-422.5 666,-422.5 666,-505.5\"/>\n<text text-anchor=\"middle\" x=\"567\" y=\"-490.3\" font-family=\"Helvetica,sans-Serif\" font-size=\"14.00\">Periodo entre pulsos &lt;= 0.835</text>\n<text text-anchor=\"middle\" x=\"567\" y=\"-475.3\" font-family=\"Helvetica,sans-Serif\" font-size=\"14.00\">entropy = 0.201</text>\n<text text-anchor=\"middle\" x=\"567\" y=\"-460.3\" font-family=\"Helvetica,sans-Serif\" font-size=\"14.00\">samples = 31.4%</text>\n<text text-anchor=\"middle\" x=\"567\" y=\"-445.3\" font-family=\"Helvetica,sans-Serif\" font-size=\"14.00\">value = [0.031, 0.969]</text>\n<text text-anchor=\"middle\" x=\"567\" y=\"-430.3\" font-family=\"Helvetica,sans-Serif\" font-size=\"14.00\">class = Yes</text>\n</g>\n<!-- 1&#45;&gt;2 -->\n<g id=\"edge2\" class=\"edge\">\n<title>1&#45;&gt;2</title>\n<path fill=\"none\" stroke=\"black\" d=\"M366.02,-204.54C408.28,-259.37 482.6,-355.8 527.77,-414.4\"/>\n<polygon fill=\"black\" stroke=\"black\" points=\"525.06,-416.62 533.94,-422.41 530.61,-412.35 525.06,-416.62\"/>\n</g>\n<!-- 5 -->\n<g id=\"node6\" class=\"node\">\n<title>5</title>\n<polygon fill=\"#fef9f6\" stroke=\"black\" points=\"662.5,-204.5 471.5,-204.5 471.5,-121.5 662.5,-121.5 662.5,-204.5\"/>\n<text text-anchor=\"middle\" x=\"567\" y=\"-189.3\" font-family=\"Helvetica,sans-Serif\" font-size=\"14.00\">Periodo entre pulsos &lt;= 0.88</text>\n<text text-anchor=\"middle\" x=\"567\" y=\"-174.3\" font-family=\"Helvetica,sans-Serif\" font-size=\"14.00\">entropy = 1.0</text>\n<text text-anchor=\"middle\" x=\"567\" y=\"-159.3\" font-family=\"Helvetica,sans-Serif\" font-size=\"14.00\">samples = 40.2%</text>\n<text text-anchor=\"middle\" x=\"567\" y=\"-144.3\" font-family=\"Helvetica,sans-Serif\" font-size=\"14.00\">value = [0.512, 0.488]</text>\n<text text-anchor=\"middle\" x=\"567\" y=\"-129.3\" font-family=\"Helvetica,sans-Serif\" font-size=\"14.00\">class = No</text>\n</g>\n<!-- 1&#45;&gt;5 -->\n<g id=\"edge5\" class=\"edge\">\n<title>1&#45;&gt;5</title>\n<path fill=\"none\" stroke=\"black\" d=\"M428.7,-163C439.33,-163 450.21,-163 460.97,-163\"/>\n<polygon fill=\"black\" stroke=\"black\" points=\"461.23,-166.5 471.23,-163 461.23,-159.5 461.23,-166.5\"/>\n</g>\n<!-- 3 -->\n<g id=\"node4\" class=\"node\">\n<title>3</title>\n<polygon fill=\"#e58139\" stroke=\"black\" points=\"1327.5,-584 1210.5,-584 1210.5,-516 1327.5,-516 1327.5,-584\"/>\n<text text-anchor=\"middle\" x=\"1269\" y=\"-568.8\" font-family=\"Helvetica,sans-Serif\" font-size=\"14.00\">entropy = 0.0</text>\n<text text-anchor=\"middle\" x=\"1269\" y=\"-553.8\" font-family=\"Helvetica,sans-Serif\" font-size=\"14.00\">samples = 1.0%</text>\n<text text-anchor=\"middle\" x=\"1269\" y=\"-538.8\" font-family=\"Helvetica,sans-Serif\" font-size=\"14.00\">value = [1.0, 0.0]</text>\n<text text-anchor=\"middle\" x=\"1269\" y=\"-523.8\" font-family=\"Helvetica,sans-Serif\" font-size=\"14.00\">class = No</text>\n</g>\n<!-- 2&#45;&gt;3 -->\n<g id=\"edge3\" class=\"edge\">\n<title>2&#45;&gt;3</title>\n<path fill=\"none\" stroke=\"black\" d=\"M666.07,-476.05C810.27,-493.76 1075.83,-526.39 1200.29,-541.68\"/>\n<polygon fill=\"black\" stroke=\"black\" points=\"1200.09,-545.18 1210.44,-542.93 1200.95,-538.24 1200.09,-545.18\"/>\n</g>\n<!-- 4 -->\n<g id=\"node5\" class=\"node\">\n<title>4</title>\n<polygon fill=\"#399de5\" stroke=\"black\" points=\"1330,-498 1208,-498 1208,-430 1330,-430 1330,-498\"/>\n<text text-anchor=\"middle\" x=\"1269\" y=\"-482.8\" font-family=\"Helvetica,sans-Serif\" font-size=\"14.00\">entropy = 0.0</text>\n<text text-anchor=\"middle\" x=\"1269\" y=\"-467.8\" font-family=\"Helvetica,sans-Serif\" font-size=\"14.00\">samples = 30.4%</text>\n<text text-anchor=\"middle\" x=\"1269\" y=\"-452.8\" font-family=\"Helvetica,sans-Serif\" font-size=\"14.00\">value = [0.0, 1.0]</text>\n<text text-anchor=\"middle\" x=\"1269\" y=\"-437.8\" font-family=\"Helvetica,sans-Serif\" font-size=\"14.00\">class = Yes</text>\n</g>\n<!-- 2&#45;&gt;4 -->\n<g id=\"edge4\" class=\"edge\">\n<title>2&#45;&gt;4</title>\n<path fill=\"none\" stroke=\"black\" d=\"M666.07,-464C809.17,-464 1071.79,-464 1197.42,-464\"/>\n<polygon fill=\"black\" stroke=\"black\" points=\"1197.69,-467.5 1207.69,-464 1197.69,-460.5 1197.69,-467.5\"/>\n</g>\n<!-- 6 -->\n<g id=\"node7\" class=\"node\">\n<title>6</title>\n<polygon fill=\"#9ccef2\" stroke=\"black\" points=\"900,-247.5 702,-247.5 702,-164.5 900,-164.5 900,-247.5\"/>\n<text text-anchor=\"middle\" x=\"801\" y=\"-232.3\" font-family=\"Helvetica,sans-Serif\" font-size=\"14.00\">Periodo entre pulsos &lt;= 0.805</text>\n<text text-anchor=\"middle\" x=\"801\" y=\"-217.3\" font-family=\"Helvetica,sans-Serif\" font-size=\"14.00\">entropy = 0.918</text>\n<text text-anchor=\"middle\" x=\"801\" y=\"-202.3\" font-family=\"Helvetica,sans-Serif\" font-size=\"14.00\">samples = 29.4%</text>\n<text text-anchor=\"middle\" x=\"801\" y=\"-187.3\" font-family=\"Helvetica,sans-Serif\" font-size=\"14.00\">value = [0.333, 0.667]</text>\n<text text-anchor=\"middle\" x=\"801\" y=\"-172.3\" font-family=\"Helvetica,sans-Serif\" font-size=\"14.00\">class = Yes</text>\n</g>\n<!-- 5&#45;&gt;6 -->\n<g id=\"edge6\" class=\"edge\">\n<title>5&#45;&gt;6</title>\n<path fill=\"none\" stroke=\"black\" d=\"M662.7,-180.55C672.28,-182.33 682.05,-184.14 691.76,-185.94\"/>\n<polygon fill=\"black\" stroke=\"black\" points=\"691.37,-189.43 701.84,-187.81 692.64,-182.54 691.37,-189.43\"/>\n</g>\n<!-- 11 -->\n<g id=\"node12\" class=\"node\">\n<title>11</title>\n<polygon fill=\"#e58139\" stroke=\"black\" points=\"1330,-154 1208,-154 1208,-86 1330,-86 1330,-154\"/>\n<text text-anchor=\"middle\" x=\"1269\" y=\"-138.8\" font-family=\"Helvetica,sans-Serif\" font-size=\"14.00\">entropy = 0.0</text>\n<text text-anchor=\"middle\" x=\"1269\" y=\"-123.8\" font-family=\"Helvetica,sans-Serif\" font-size=\"14.00\">samples = 10.8%</text>\n<text text-anchor=\"middle\" x=\"1269\" y=\"-108.8\" font-family=\"Helvetica,sans-Serif\" font-size=\"14.00\">value = [1.0, 0.0]</text>\n<text text-anchor=\"middle\" x=\"1269\" y=\"-93.8\" font-family=\"Helvetica,sans-Serif\" font-size=\"14.00\">class = No</text>\n</g>\n<!-- 5&#45;&gt;11 -->\n<g id=\"edge11\" class=\"edge\">\n<title>5&#45;&gt;11</title>\n<path fill=\"none\" stroke=\"black\" d=\"M662.77,-157.18C805.18,-148.43 1071.12,-132.09 1197.64,-124.32\"/>\n<polygon fill=\"black\" stroke=\"black\" points=\"1198.21,-127.79 1207.97,-123.69 1197.78,-120.81 1198.21,-127.79\"/>\n</g>\n<!-- 7 -->\n<g id=\"node8\" class=\"node\">\n<title>7</title>\n<polygon fill=\"#ffffff\" stroke=\"black\" points=\"1130.5,-333.5 939.5,-333.5 939.5,-250.5 1130.5,-250.5 1130.5,-333.5\"/>\n<text text-anchor=\"middle\" x=\"1035\" y=\"-318.3\" font-family=\"Helvetica,sans-Serif\" font-size=\"14.00\">Intensidad de pulso &lt;= 0.447</text>\n<text text-anchor=\"middle\" x=\"1035\" y=\"-303.3\" font-family=\"Helvetica,sans-Serif\" font-size=\"14.00\">entropy = 1.0</text>\n<text text-anchor=\"middle\" x=\"1035\" y=\"-288.3\" font-family=\"Helvetica,sans-Serif\" font-size=\"14.00\">samples = 19.6%</text>\n<text text-anchor=\"middle\" x=\"1035\" y=\"-273.3\" font-family=\"Helvetica,sans-Serif\" font-size=\"14.00\">value = [0.5, 0.5]</text>\n<text text-anchor=\"middle\" x=\"1035\" y=\"-258.3\" font-family=\"Helvetica,sans-Serif\" font-size=\"14.00\">class = No</text>\n</g>\n<!-- 6&#45;&gt;7 -->\n<g id=\"edge7\" class=\"edge\">\n<title>6&#45;&gt;7</title>\n<path fill=\"none\" stroke=\"black\" d=\"M900.05,-242.35C909.89,-245.99 919.91,-249.71 929.81,-253.38\"/>\n<polygon fill=\"black\" stroke=\"black\" points=\"928.67,-256.69 939.26,-256.88 931.1,-250.12 928.67,-256.69\"/>\n</g>\n<!-- 10 -->\n<g id=\"node11\" class=\"node\">\n<title>10</title>\n<polygon fill=\"#399de5\" stroke=\"black\" points=\"1327.5,-240 1210.5,-240 1210.5,-172 1327.5,-172 1327.5,-240\"/>\n<text text-anchor=\"middle\" x=\"1269\" y=\"-224.8\" font-family=\"Helvetica,sans-Serif\" font-size=\"14.00\">entropy = 0.0</text>\n<text text-anchor=\"middle\" x=\"1269\" y=\"-209.8\" font-family=\"Helvetica,sans-Serif\" font-size=\"14.00\">samples = 9.8%</text>\n<text text-anchor=\"middle\" x=\"1269\" y=\"-194.8\" font-family=\"Helvetica,sans-Serif\" font-size=\"14.00\">value = [0.0, 1.0]</text>\n<text text-anchor=\"middle\" x=\"1269\" y=\"-179.8\" font-family=\"Helvetica,sans-Serif\" font-size=\"14.00\">class = Yes</text>\n</g>\n<!-- 6&#45;&gt;10 -->\n<g id=\"edge10\" class=\"edge\">\n<title>6&#45;&gt;10</title>\n<path fill=\"none\" stroke=\"black\" d=\"M900.26,-206C990.21,-206 1120.99,-206 1199.93,-206\"/>\n<polygon fill=\"black\" stroke=\"black\" points=\"1200.25,-209.5 1210.25,-206 1200.25,-202.5 1200.25,-209.5\"/>\n</g>\n<!-- 8 -->\n<g id=\"node9\" class=\"node\">\n<title>8</title>\n<polygon fill=\"#c4e2f7\" stroke=\"black\" points=\"1342.5,-412 1195.5,-412 1195.5,-344 1342.5,-344 1342.5,-412\"/>\n<text text-anchor=\"middle\" x=\"1269\" y=\"-396.8\" font-family=\"Helvetica,sans-Serif\" font-size=\"14.00\">entropy = 0.977</text>\n<text text-anchor=\"middle\" x=\"1269\" y=\"-381.8\" font-family=\"Helvetica,sans-Serif\" font-size=\"14.00\">samples = 16.7%</text>\n<text text-anchor=\"middle\" x=\"1269\" y=\"-366.8\" font-family=\"Helvetica,sans-Serif\" font-size=\"14.00\">value = [0.412, 0.588]</text>\n<text text-anchor=\"middle\" x=\"1269\" y=\"-351.8\" font-family=\"Helvetica,sans-Serif\" font-size=\"14.00\">class = Yes</text>\n</g>\n<!-- 7&#45;&gt;8 -->\n<g id=\"edge8\" class=\"edge\">\n<title>7&#45;&gt;8</title>\n<path fill=\"none\" stroke=\"black\" d=\"M1130.7,-327.1C1148.88,-333.84 1167.79,-340.85 1185.55,-347.44\"/>\n<polygon fill=\"black\" stroke=\"black\" points=\"1184.69,-350.85 1195.28,-351.04 1187.12,-344.29 1184.69,-350.85\"/>\n</g>\n<!-- 9 -->\n<g id=\"node10\" class=\"node\">\n<title>9</title>\n<polygon fill=\"#e58139\" stroke=\"black\" points=\"1327.5,-326 1210.5,-326 1210.5,-258 1327.5,-258 1327.5,-326\"/>\n<text text-anchor=\"middle\" x=\"1269\" y=\"-310.8\" font-family=\"Helvetica,sans-Serif\" font-size=\"14.00\">entropy = 0.0</text>\n<text text-anchor=\"middle\" x=\"1269\" y=\"-295.8\" font-family=\"Helvetica,sans-Serif\" font-size=\"14.00\">samples = 2.9%</text>\n<text text-anchor=\"middle\" x=\"1269\" y=\"-280.8\" font-family=\"Helvetica,sans-Serif\" font-size=\"14.00\">value = [1.0, 0.0]</text>\n<text text-anchor=\"middle\" x=\"1269\" y=\"-265.8\" font-family=\"Helvetica,sans-Serif\" font-size=\"14.00\">class = No</text>\n</g>\n<!-- 7&#45;&gt;9 -->\n<g id=\"edge9\" class=\"edge\">\n<title>7&#45;&gt;9</title>\n<path fill=\"none\" stroke=\"black\" d=\"M1130.7,-292C1153.95,-292 1178.39,-292 1200.1,-292\"/>\n<polygon fill=\"black\" stroke=\"black\" points=\"1200.19,-295.5 1210.19,-292 1200.19,-288.5 1200.19,-295.5\"/>\n</g>\n</g>\n</svg>\n",
            "text/plain": [
              "<graphviz.sources.Source at 0x7d6314297d30>"
            ]
          },
          "metadata": {},
          "execution_count": 78
        }
      ]
    },
    {
      "cell_type": "markdown",
      "source": [
        "Resultados"
      ],
      "metadata": {
        "id": "5koMM_9gTOG2"
      }
    },
    {
      "cell_type": "code",
      "source": [
        "#Matriz de confusión\n",
        "y_pred = my_tree.predict(X_test)\n",
        "confusion_matrix = metrics.confusion_matrix(y_test, y_pred)\n",
        "accuracy = (confusion_matrix[0,0] + confusion_matrix[1,1]) / (confusion_matrix[0,0]+confusion_matrix[0,1]+confusion_matrix[1,0]+confusion_matrix[1,1])\n",
        "print('Accuracy:',accuracy)\n",
        "precision = confusion_matrix[0,0] /(confusion_matrix[0,0]+confusion_matrix[1,0])\n",
        "print(\"Precision:\",precision)\n",
        "recall = confusion_matrix[0,0] /(confusion_matrix[0,0]+confusion_matrix[0,1])\n",
        "print(\"Recall:\",recall)\n",
        "Fone = (2*precision*recall)/(precision+recall)\n",
        "print('Fone:',Fone)\n",
        "cm_display = metrics.ConfusionMatrixDisplay(confusion_matrix = confusion_matrix, display_labels = [False, True])\n",
        "cm_display.plot()\n",
        "plt.show()"
      ],
      "metadata": {
        "colab": {
          "base_uri": "https://localhost:8080/",
          "height": 518
        },
        "id": "21srebZoTPaJ",
        "outputId": "a6facfb8-c753-4b05-8182-4793b99140f4"
      },
      "execution_count": 79,
      "outputs": [
        {
          "output_type": "stream",
          "name": "stdout",
          "text": [
            "Accuracy: 1.0\n",
            "Precision: 1.0\n",
            "Recall: 1.0\n",
            "Fone: 1.0\n"
          ]
        },
        {
          "output_type": "display_data",
          "data": {
            "text/plain": [
              "<Figure size 640x480 with 2 Axes>"
            ],
            "image/png": "[encoded data removed]"
          },
          "metadata": {}
        }
      ]
    }
  ],
  "metadata": {
    "colab": {
      "provenance": []
    },
    "kernelspec": {
      "display_name": "Python 3",
      "name": "python3"
    },
    "language_info": {
      "name": "python"
    }
  },
  "nbformat": 4,
  "nbformat_minor": 0
}